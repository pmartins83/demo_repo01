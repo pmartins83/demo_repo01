{
  "nbformat": 4,
  "nbformat_minor": 0,
  "metadata": {
    "kernelspec": {
      "display_name": "Python 3",
      "language": "python",
      "name": "python3"
    },
    "language_info": {
      "codemirror_mode": {
        "name": "ipython",
        "version": 3
      },
      "file_extension": ".py",
      "mimetype": "text/x-python",
      "name": "python",
      "nbconvert_exporter": "python",
      "pygments_lexer": "ipython3",
      "version": "3.7.6"
    },
    "colab": {
      "provenance": [],
      "collapsed_sections": [
        "jMQqGpKLD0yz"
      ],
      "include_colab_link": true
    }
  },
  "cells": [
    {
      "cell_type": "markdown",
      "metadata": {
        "id": "view-in-github",
        "colab_type": "text"
      },
      "source": [
        "<a href=\"https://colab.research.google.com/github/pmartins83/demo_repo01/blob/main/Aula_09_Numpy_Parte_I.ipynb\" target=\"_parent\"><img src=\"https://colab.research.google.com/assets/colab-badge.svg\" alt=\"Open In Colab\"/></a>"
      ]
    },
    {
      "cell_type": "markdown",
      "metadata": {
        "id": "3x1QH2-iO9bL"
      },
      "source": [
        "FGV EPGE - Escola de Pós-Graduação em Economia\n",
        "==\n",
        "Introdução à Ciência dos Dados Aplicada à Economia com o Python\n",
        "--\n",
        "Professor: Rafael Martins de Souza\n",
        "--\n",
        "Monitor:"
      ]
    },
    {
      "cell_type": "markdown",
      "metadata": {
        "id": "ToOBPtco6jKG"
      },
      "source": [
        "### <font color='green'> Revisão: valendo 0.2! </font>"
      ]
    },
    {
      "cell_type": "markdown",
      "metadata": {
        "id": "WtMjixYt6k6n"
      },
      "source": [
        "Crie um código usando **list comprehension** que retorne uma lista com os inteiros entre 0 e 99 que siga as seguintes condições:\n",
        "\n",
        "- É impar e;\n",
        "- O primeiro algarismo é 8 ou 9"
      ]
    },
    {
      "cell_type": "markdown",
      "metadata": {
        "id": "PfBk3zLTD0w9"
      },
      "source": [
        "## Numpy\n",
        "\n",
        "Numerical Python\n",
        "\n",
        "Referência preliminar: https://jakevdp.github.io/PythonDataScienceHandbook/02.01-understanding-data-types.html\n"
      ]
    },
    {
      "cell_type": "code",
      "metadata": {
        "id": "scd83pLz7l1t"
      },
      "source": [
        "import numpy as np\n",
        "import random\n",
        "import matplotlib.pyplot as plt"
      ],
      "execution_count": null,
      "outputs": []
    },
    {
      "cell_type": "markdown",
      "metadata": {
        "id": "J8F3QzjmD0w9"
      },
      "source": [
        "##### Porque usar np.array ao invés de listas? <br>\n",
        "- processamento mais rápido. Caso o código esteja executando uma tarefa muito pesada que exija muito poder computacional, np.arrays são preferíveis. Listas usam muito mais \"bytes\" do que arrays\n",
        "\n",
        "- é o ideal para métodos numéricos, álgebra linear e geração de dados aleatórios."
      ]
    },
    {
      "cell_type": "markdown",
      "metadata": {
        "id": "3mYR4u3Os2Ja"
      },
      "source": [
        "Relembrando: lista"
      ]
    },
    {
      "cell_type": "code",
      "metadata": {
        "id": "VkOtRDyg7jUa"
      },
      "source": [
        "lista = [1,2,3,4,1,2,3,4]"
      ],
      "execution_count": null,
      "outputs": []
    },
    {
      "cell_type": "markdown",
      "metadata": {
        "id": "4hbJdil0s4FF"
      },
      "source": [
        "Relembrando: set"
      ]
    },
    {
      "cell_type": "code",
      "metadata": {
        "id": "pRRaXS3L7mfB",
        "colab": {
          "base_uri": "https://localhost:8080/"
        },
        "outputId": "40674123-6fcd-4d5c-e4da-80037d82bb22"
      },
      "source": [
        "set(lista)"
      ],
      "execution_count": null,
      "outputs": [
        {
          "output_type": "execute_result",
          "data": {
            "text/plain": [
              "{1, 2, 3, 4}"
            ]
          },
          "metadata": {},
          "execution_count": 3
        }
      ]
    },
    {
      "cell_type": "markdown",
      "metadata": {
        "id": "bBEYNOn8aI3N"
      },
      "source": [
        "Como transformar uma lista em um numpy.array"
      ]
    },
    {
      "cell_type": "code",
      "metadata": {
        "id": "duFM0oN6D0w-"
      },
      "source": [
        "a = np.array([1,2,3,4,1,2,3,4])\n",
        "b = np.array([[1,5,5,7,8,9,6,4,3],[90,1,6,4,2,1,1,1,10]])"
      ],
      "execution_count": null,
      "outputs": []
    },
    {
      "cell_type": "code",
      "metadata": {
        "colab": {
          "base_uri": "https://localhost:8080/"
        },
        "id": "qf6kYBB0uRJF",
        "outputId": "f3e789c9-4712-408f-9a5b-23008ea5c6a2"
      },
      "source": [
        "a"
      ],
      "execution_count": null,
      "outputs": [
        {
          "output_type": "execute_result",
          "data": {
            "text/plain": [
              "array([1, 2, 3, 4, 1, 2, 3, 4])"
            ]
          },
          "metadata": {},
          "execution_count": 77
        }
      ]
    },
    {
      "cell_type": "code",
      "metadata": {
        "colab": {
          "base_uri": "https://localhost:8080/"
        },
        "id": "0j19RfZCuQiT",
        "outputId": "d291a33d-d9a9-4cb3-da0a-8f818025ebac"
      },
      "source": [
        "b"
      ],
      "execution_count": null,
      "outputs": [
        {
          "output_type": "execute_result",
          "data": {
            "text/plain": [
              "array([[ 1,  5,  5,  7,  8,  9,  6,  4,  3],\n",
              "       [90,  1,  6,  4,  2,  1,  1,  1, 10]])"
            ]
          },
          "metadata": {},
          "execution_count": 5
        }
      ]
    },
    {
      "cell_type": "code",
      "metadata": {
        "id": "RgWtDoHmiZf-",
        "colab": {
          "base_uri": "https://localhost:8080/"
        },
        "outputId": "32581bdb-dbbd-4adb-bc06-0f3d52b7c38d"
      },
      "source": [
        "a.shape"
      ],
      "execution_count": null,
      "outputs": [
        {
          "output_type": "execute_result",
          "data": {
            "text/plain": [
              "(8,)"
            ]
          },
          "metadata": {},
          "execution_count": 6
        }
      ]
    },
    {
      "cell_type": "code",
      "metadata": {
        "id": "wys9SPgqiuGR",
        "colab": {
          "base_uri": "https://localhost:8080/"
        },
        "outputId": "13815022-b2b0-48c3-b6c6-1502f4490266"
      },
      "source": [
        "print(a)"
      ],
      "execution_count": null,
      "outputs": [
        {
          "output_type": "stream",
          "name": "stdout",
          "text": [
            "[1 2 3 4 1 2 3 4]\n"
          ]
        }
      ]
    },
    {
      "cell_type": "code",
      "metadata": {
        "colab": {
          "base_uri": "https://localhost:8080/"
        },
        "id": "JNPibwyluxCu",
        "outputId": "01454cc2-5df0-4ff2-f67e-1eef5f966069"
      },
      "source": [
        "type(a)"
      ],
      "execution_count": null,
      "outputs": [
        {
          "output_type": "execute_result",
          "data": {
            "text/plain": [
              "numpy.ndarray"
            ]
          },
          "metadata": {},
          "execution_count": 8
        }
      ]
    },
    {
      "cell_type": "code",
      "metadata": {
        "id": "AWh47fJ6D0xA",
        "colab": {
          "base_uri": "https://localhost:8080/"
        },
        "outputId": "1520f61f-ff14-4db7-8eaf-eaec74eb61a3"
      },
      "source": [
        "b.shape"
      ],
      "execution_count": null,
      "outputs": [
        {
          "output_type": "execute_result",
          "data": {
            "text/plain": [
              "(2, 9)"
            ]
          },
          "metadata": {},
          "execution_count": 9
        }
      ]
    },
    {
      "cell_type": "code",
      "metadata": {
        "id": "gNii5MrviiUP",
        "colab": {
          "base_uri": "https://localhost:8080/"
        },
        "outputId": "1334125f-1da2-415d-e10e-63c9cd373777"
      },
      "source": [
        "print(b)"
      ],
      "execution_count": null,
      "outputs": [
        {
          "output_type": "stream",
          "name": "stdout",
          "text": [
            "[[ 1  5  5  7  8  9  6  4  3]\n",
            " [90  1  6  4  2  1  1  1 10]]\n"
          ]
        }
      ]
    },
    {
      "cell_type": "code",
      "metadata": {
        "id": "8DMpbW3gD0xD",
        "colab": {
          "base_uri": "https://localhost:8080/"
        },
        "outputId": "619c3864-8ff1-456d-fef5-3be09080e2ea"
      },
      "source": [
        "type(b)"
      ],
      "execution_count": null,
      "outputs": [
        {
          "output_type": "execute_result",
          "data": {
            "text/plain": [
              "numpy.ndarray"
            ]
          },
          "metadata": {},
          "execution_count": 11
        }
      ]
    },
    {
      "cell_type": "code",
      "metadata": {
        "id": "0ulqcOqXD0xK",
        "colab": {
          "base_uri": "https://localhost:8080/"
        },
        "outputId": "50a92c46-ea32-44ec-be9f-6ec858417666"
      },
      "source": [
        "b"
      ],
      "execution_count": null,
      "outputs": [
        {
          "output_type": "execute_result",
          "data": {
            "text/plain": [
              "array([[ 1,  5,  5,  7,  8,  9,  6,  4,  3],\n",
              "       [90,  1,  6,  4,  2,  1,  1,  1, 10]])"
            ]
          },
          "metadata": {},
          "execution_count": 12
        }
      ]
    },
    {
      "cell_type": "code",
      "source": [
        "print(b)"
      ],
      "metadata": {
        "colab": {
          "base_uri": "https://localhost:8080/"
        },
        "id": "TOdQCOrJdzWc",
        "outputId": "0a51877a-2402-481c-eae2-9390f40589a5"
      },
      "execution_count": null,
      "outputs": [
        {
          "output_type": "stream",
          "name": "stdout",
          "text": [
            "[[ 1  5  5  7  8  9  6  4  3]\n",
            " [90  1  6  4  2  1  1  1 10]]\n"
          ]
        }
      ]
    },
    {
      "cell_type": "code",
      "metadata": {
        "id": "K0XLWhd3tBcn",
        "colab": {
          "base_uri": "https://localhost:8080/"
        },
        "outputId": "f73f6edb-7cf8-4b6a-f4c9-fc8930253f55"
      },
      "source": [
        "a"
      ],
      "execution_count": null,
      "outputs": [
        {
          "output_type": "execute_result",
          "data": {
            "text/plain": [
              "array([1, 2, 3, 4, 1, 2, 3, 4])"
            ]
          },
          "metadata": {},
          "execution_count": 14
        }
      ]
    },
    {
      "cell_type": "markdown",
      "metadata": {
        "id": "44aTpm2uvAMY"
      },
      "source": [
        "## Operações com objetos Numpy"
      ]
    },
    {
      "cell_type": "code",
      "metadata": {
        "id": "Vvr6l5fZtDOF",
        "colab": {
          "base_uri": "https://localhost:8080/"
        },
        "outputId": "9b0b8381-6887-46e6-d9b8-85175681d7c5"
      },
      "source": [
        "a*a"
      ],
      "execution_count": null,
      "outputs": [
        {
          "output_type": "execute_result",
          "data": {
            "text/plain": [
              "array([ 1,  4,  9, 16,  1,  4,  9, 16])"
            ]
          },
          "metadata": {},
          "execution_count": 15
        }
      ]
    },
    {
      "cell_type": "code",
      "metadata": {
        "id": "RJ2d-ojltEgB",
        "colab": {
          "base_uri": "https://localhost:8080/"
        },
        "outputId": "4e13a53f-690e-4939-d8a0-399aabe8da79"
      },
      "source": [
        "a-a"
      ],
      "execution_count": null,
      "outputs": [
        {
          "output_type": "execute_result",
          "data": {
            "text/plain": [
              "array([0, 0, 0, 0, 0, 0, 0, 0])"
            ]
          },
          "metadata": {},
          "execution_count": 16
        }
      ]
    },
    {
      "cell_type": "code",
      "metadata": {
        "id": "i-BPgxUMtFgI",
        "colab": {
          "base_uri": "https://localhost:8080/"
        },
        "outputId": "c5287317-8205-4ab9-d322-c7f1b51de5c3"
      },
      "source": [
        "a+a"
      ],
      "execution_count": null,
      "outputs": [
        {
          "output_type": "execute_result",
          "data": {
            "text/plain": [
              "array([2, 4, 6, 8, 2, 4, 6, 8])"
            ]
          },
          "metadata": {},
          "execution_count": 17
        }
      ]
    },
    {
      "cell_type": "code",
      "metadata": {
        "id": "wDCdgliTtG9h",
        "colab": {
          "base_uri": "https://localhost:8080/"
        },
        "outputId": "119befef-8290-49e3-dd94-03fbcf5d953a"
      },
      "source": [
        "2*a"
      ],
      "execution_count": null,
      "outputs": [
        {
          "output_type": "execute_result",
          "data": {
            "text/plain": [
              "array([2, 4, 6, 8, 2, 4, 6, 8])"
            ]
          },
          "metadata": {},
          "execution_count": 18
        }
      ]
    },
    {
      "cell_type": "code",
      "metadata": {
        "id": "dgKQjIEYtH74",
        "colab": {
          "base_uri": "https://localhost:8080/"
        },
        "outputId": "e3958435-38ce-4e3c-fad2-6e11c54acf81"
      },
      "source": [
        "a*2"
      ],
      "execution_count": null,
      "outputs": [
        {
          "output_type": "execute_result",
          "data": {
            "text/plain": [
              "array([2, 4, 6, 8, 2, 4, 6, 8])"
            ]
          },
          "metadata": {},
          "execution_count": 19
        }
      ]
    },
    {
      "cell_type": "code",
      "metadata": {
        "id": "ucjbaohBtI9O",
        "colab": {
          "base_uri": "https://localhost:8080/"
        },
        "outputId": "81a8f62b-2aec-4227-95e2-ad0823c9a333"
      },
      "source": [
        "a**3"
      ],
      "execution_count": null,
      "outputs": [
        {
          "output_type": "execute_result",
          "data": {
            "text/plain": [
              "array([ 1,  8, 27, 64,  1,  8, 27, 64])"
            ]
          },
          "metadata": {},
          "execution_count": 20
        }
      ]
    },
    {
      "cell_type": "code",
      "source": [
        "np.cumsum(a)"
      ],
      "metadata": {
        "colab": {
          "base_uri": "https://localhost:8080/"
        },
        "id": "GjF-W8siW6eZ",
        "outputId": "ef215b7b-6370-45cf-d5d6-f99f9b66ba18"
      },
      "execution_count": null,
      "outputs": [
        {
          "output_type": "execute_result",
          "data": {
            "text/plain": [
              "array([ 1,  3,  6, 10, 11, 13, 16, 20])"
            ]
          },
          "metadata": {},
          "execution_count": 21
        }
      ]
    },
    {
      "cell_type": "code",
      "metadata": {
        "colab": {
          "base_uri": "https://localhost:8080/"
        },
        "id": "5vGDgtR3ZdOz",
        "outputId": "47db86ef-676b-4b8b-87b3-0ed2056857d4"
      },
      "source": [
        "np.cumsum(a)[-1]"
      ],
      "execution_count": null,
      "outputs": [
        {
          "output_type": "execute_result",
          "data": {
            "text/plain": [
              "20"
            ]
          },
          "metadata": {},
          "execution_count": 22
        }
      ]
    },
    {
      "cell_type": "code",
      "metadata": {
        "colab": {
          "base_uri": "https://localhost:8080/"
        },
        "id": "3O2GlpHZZ_af",
        "outputId": "44c7047c-4a48-40cd-ee00-3d4b1d1b8708"
      },
      "source": [
        "np.sum(a)"
      ],
      "execution_count": null,
      "outputs": [
        {
          "output_type": "execute_result",
          "data": {
            "text/plain": [
              "20"
            ]
          },
          "metadata": {},
          "execution_count": 23
        }
      ]
    },
    {
      "cell_type": "markdown",
      "metadata": {
        "id": "YblwDcq9tuNJ"
      },
      "source": [
        "Se as dimensões não forem as mesmas, a conversão em numpy.array não será como o esperado"
      ]
    },
    {
      "cell_type": "code",
      "metadata": {
        "id": "DHf_E62mtm7C",
        "colab": {
          "base_uri": "https://localhost:8080/",
          "height": 141
        },
        "outputId": "b9bf8f66-a64d-47ce-84b1-229f969b7de1"
      },
      "source": [
        "c  = np.array([[1,2],[1,2,3]])"
      ],
      "execution_count": null,
      "outputs": [
        {
          "output_type": "error",
          "ename": "ValueError",
          "evalue": "setting an array element with a sequence. The requested array has an inhomogeneous shape after 1 dimensions. The detected shape was (2,) + inhomogeneous part.",
          "traceback": [
            "\u001b[0;31m---------------------------------------------------------------------------\u001b[0m",
            "\u001b[0;31mValueError\u001b[0m                                Traceback (most recent call last)",
            "\u001b[0;32m<ipython-input-24-635be104b933>\u001b[0m in \u001b[0;36m<cell line: 1>\u001b[0;34m()\u001b[0m\n\u001b[0;32m----> 1\u001b[0;31m \u001b[0mc\u001b[0m  \u001b[0;34m=\u001b[0m \u001b[0mnp\u001b[0m\u001b[0;34m.\u001b[0m\u001b[0marray\u001b[0m\u001b[0;34m(\u001b[0m\u001b[0;34m[\u001b[0m\u001b[0;34m[\u001b[0m\u001b[0;36m1\u001b[0m\u001b[0;34m,\u001b[0m\u001b[0;36m2\u001b[0m\u001b[0;34m]\u001b[0m\u001b[0;34m,\u001b[0m\u001b[0;34m[\u001b[0m\u001b[0;36m1\u001b[0m\u001b[0;34m,\u001b[0m\u001b[0;36m2\u001b[0m\u001b[0;34m,\u001b[0m\u001b[0;36m3\u001b[0m\u001b[0;34m]\u001b[0m\u001b[0;34m]\u001b[0m\u001b[0;34m)\u001b[0m\u001b[0;34m\u001b[0m\u001b[0;34m\u001b[0m\u001b[0m\n\u001b[0m",
            "\u001b[0;31mValueError\u001b[0m: setting an array element with a sequence. The requested array has an inhomogeneous shape after 1 dimensions. The detected shape was (2,) + inhomogeneous part."
          ]
        }
      ]
    },
    {
      "cell_type": "code",
      "metadata": {
        "id": "sa0oTD2qtrKi",
        "colab": {
          "base_uri": "https://localhost:8080/",
          "height": 141
        },
        "outputId": "df8be9e4-bd42-4ac5-860e-c87c84b29570"
      },
      "source": [
        "c"
      ],
      "execution_count": null,
      "outputs": [
        {
          "output_type": "error",
          "ename": "NameError",
          "evalue": "name 'c' is not defined",
          "traceback": [
            "\u001b[0;31m---------------------------------------------------------------------------\u001b[0m",
            "\u001b[0;31mNameError\u001b[0m                                 Traceback (most recent call last)",
            "\u001b[0;32m<ipython-input-25-2b66fd261ee5>\u001b[0m in \u001b[0;36m<cell line: 1>\u001b[0;34m()\u001b[0m\n\u001b[0;32m----> 1\u001b[0;31m \u001b[0mc\u001b[0m\u001b[0;34m\u001b[0m\u001b[0;34m\u001b[0m\u001b[0m\n\u001b[0m",
            "\u001b[0;31mNameError\u001b[0m: name 'c' is not defined"
          ]
        }
      ]
    },
    {
      "cell_type": "code",
      "metadata": {
        "colab": {
          "base_uri": "https://localhost:8080/",
          "height": 141
        },
        "id": "l2sV1yPawEqq",
        "outputId": "93a4d07d-f0f3-409d-d4eb-b5aee0bd15fe"
      },
      "source": [
        "c[0]"
      ],
      "execution_count": null,
      "outputs": [
        {
          "output_type": "error",
          "ename": "NameError",
          "evalue": "name 'c' is not defined",
          "traceback": [
            "\u001b[0;31m---------------------------------------------------------------------------\u001b[0m",
            "\u001b[0;31mNameError\u001b[0m                                 Traceback (most recent call last)",
            "\u001b[0;32m<ipython-input-26-71463270cd6c>\u001b[0m in \u001b[0;36m<cell line: 1>\u001b[0;34m()\u001b[0m\n\u001b[0;32m----> 1\u001b[0;31m \u001b[0mc\u001b[0m\u001b[0;34m[\u001b[0m\u001b[0;36m0\u001b[0m\u001b[0;34m]\u001b[0m\u001b[0;34m\u001b[0m\u001b[0;34m\u001b[0m\u001b[0m\n\u001b[0m",
            "\u001b[0;31mNameError\u001b[0m: name 'c' is not defined"
          ]
        }
      ]
    },
    {
      "cell_type": "code",
      "source": [
        "type(c[0])"
      ],
      "metadata": {
        "colab": {
          "base_uri": "https://localhost:8080/",
          "height": 141
        },
        "id": "p8xsoya-eydb",
        "outputId": "79bf3995-be4a-43b8-b64a-ec3c2be82485"
      },
      "execution_count": null,
      "outputs": [
        {
          "output_type": "error",
          "ename": "NameError",
          "evalue": "name 'c' is not defined",
          "traceback": [
            "\u001b[0;31m---------------------------------------------------------------------------\u001b[0m",
            "\u001b[0;31mNameError\u001b[0m                                 Traceback (most recent call last)",
            "\u001b[0;32m<ipython-input-27-3c423ab9f943>\u001b[0m in \u001b[0;36m<cell line: 1>\u001b[0;34m()\u001b[0m\n\u001b[0;32m----> 1\u001b[0;31m \u001b[0mtype\u001b[0m\u001b[0;34m(\u001b[0m\u001b[0mc\u001b[0m\u001b[0;34m[\u001b[0m\u001b[0;36m0\u001b[0m\u001b[0;34m]\u001b[0m\u001b[0;34m)\u001b[0m\u001b[0;34m\u001b[0m\u001b[0;34m\u001b[0m\u001b[0m\n\u001b[0m",
            "\u001b[0;31mNameError\u001b[0m: name 'c' is not defined"
          ]
        }
      ]
    },
    {
      "cell_type": "code",
      "metadata": {
        "colab": {
          "base_uri": "https://localhost:8080/",
          "height": 141
        },
        "id": "U_J-X3FOwH9O",
        "outputId": "ff0c57d3-d4a3-4c80-f8c8-4231fdfea847"
      },
      "source": [
        "c[1]"
      ],
      "execution_count": null,
      "outputs": [
        {
          "output_type": "error",
          "ename": "NameError",
          "evalue": "name 'c' is not defined",
          "traceback": [
            "\u001b[0;31m---------------------------------------------------------------------------\u001b[0m",
            "\u001b[0;31mNameError\u001b[0m                                 Traceback (most recent call last)",
            "\u001b[0;32m<ipython-input-28-6ee76e8948b0>\u001b[0m in \u001b[0;36m<cell line: 1>\u001b[0;34m()\u001b[0m\n\u001b[0;32m----> 1\u001b[0;31m \u001b[0mc\u001b[0m\u001b[0;34m[\u001b[0m\u001b[0;36m1\u001b[0m\u001b[0;34m]\u001b[0m\u001b[0;34m\u001b[0m\u001b[0;34m\u001b[0m\u001b[0m\n\u001b[0m",
            "\u001b[0;31mNameError\u001b[0m: name 'c' is not defined"
          ]
        }
      ]
    },
    {
      "cell_type": "code",
      "source": [
        "type(c[1])"
      ],
      "metadata": {
        "colab": {
          "base_uri": "https://localhost:8080/"
        },
        "id": "yeZjc2Poe1p1",
        "outputId": "0dcafe41-4248-4fb5-c077-e0643a50b87e"
      },
      "execution_count": null,
      "outputs": [
        {
          "output_type": "execute_result",
          "data": {
            "text/plain": [
              "list"
            ]
          },
          "metadata": {},
          "execution_count": 104
        }
      ]
    },
    {
      "cell_type": "markdown",
      "metadata": {
        "id": "obPobo3VE9TR"
      },
      "source": [
        "Listas de listas como matriz"
      ]
    },
    {
      "cell_type": "code",
      "metadata": {
        "id": "ETqZa8olD0x8",
        "colab": {
          "base_uri": "https://localhost:8080/"
        },
        "outputId": "5dce5af3-f854-46e6-cdbe-707b42126912"
      },
      "source": [
        "d = [[1,2,3], [4,5,6], [7,8,9], [10,11,12]]\n",
        "print(d)"
      ],
      "execution_count": null,
      "outputs": [
        {
          "output_type": "stream",
          "name": "stdout",
          "text": [
            "[[1, 2, 3], [4, 5, 6], [7, 8, 9], [10, 11, 12]]\n"
          ]
        }
      ]
    },
    {
      "cell_type": "markdown",
      "metadata": {
        "id": "Cg01r56xFCs1"
      },
      "source": [
        "Transformar a lista numpy array de Numpy"
      ]
    },
    {
      "cell_type": "code",
      "metadata": {
        "id": "Pm7RazxID0x-",
        "colab": {
          "base_uri": "https://localhost:8080/"
        },
        "outputId": "6d5ccddc-6c94-42db-c7a3-3267117becd9"
      },
      "source": [
        "D = np.array(d)\n",
        "print(D)"
      ],
      "execution_count": null,
      "outputs": [
        {
          "output_type": "stream",
          "name": "stdout",
          "text": [
            "[[ 1  2  3]\n",
            " [ 4  5  6]\n",
            " [ 7  8  9]\n",
            " [10 11 12]]\n"
          ]
        }
      ]
    },
    {
      "cell_type": "code",
      "metadata": {
        "colab": {
          "base_uri": "https://localhost:8080/"
        },
        "id": "8wVYHbESwaVj",
        "outputId": "9c43bed8-84a9-4981-cbd6-bb2edd93f91e"
      },
      "source": [
        "D.shape"
      ],
      "execution_count": null,
      "outputs": [
        {
          "output_type": "execute_result",
          "data": {
            "text/plain": [
              "(4, 3)"
            ]
          },
          "metadata": {},
          "execution_count": 31
        }
      ]
    },
    {
      "cell_type": "markdown",
      "metadata": {
        "id": "86xp52PWFEp6"
      },
      "source": [
        "Acessar uma entrada do array. Se fosse acessar pela lista tem que usar a[0][1]."
      ]
    },
    {
      "cell_type": "code",
      "metadata": {
        "id": "NuzL40kYD0x_",
        "colab": {
          "base_uri": "https://localhost:8080/"
        },
        "outputId": "b05b6639-d327-4ba7-d617-340f78487366"
      },
      "source": [
        "print(D[0, 1])"
      ],
      "execution_count": null,
      "outputs": [
        {
          "output_type": "stream",
          "name": "stdout",
          "text": [
            "2\n"
          ]
        }
      ]
    },
    {
      "cell_type": "markdown",
      "metadata": {
        "id": "vmlJccKoFHJt"
      },
      "source": [
        "Propriedades básicas de array: shape, size e ndim"
      ]
    },
    {
      "cell_type": "code",
      "metadata": {
        "id": "KKFmjjm2vVFZ",
        "colab": {
          "base_uri": "https://localhost:8080/"
        },
        "outputId": "cd8ed5e5-3d3f-483d-db3f-0b356d0201dc"
      },
      "source": [
        "D"
      ],
      "execution_count": null,
      "outputs": [
        {
          "output_type": "execute_result",
          "data": {
            "text/plain": [
              "array([[ 1,  2,  3],\n",
              "       [ 4,  5,  6],\n",
              "       [ 7,  8,  9],\n",
              "       [10, 11, 12]])"
            ]
          },
          "metadata": {},
          "execution_count": 34
        }
      ]
    },
    {
      "cell_type": "code",
      "metadata": {
        "id": "IzWmaLuZD0yC",
        "colab": {
          "base_uri": "https://localhost:8080/"
        },
        "outputId": "d07a6c08-8c1a-44ab-9cb2-21594018ae0a"
      },
      "source": [
        "print(D.shape)\n",
        "print(D.size)\n",
        "print(D.ndim)"
      ],
      "execution_count": null,
      "outputs": [
        {
          "output_type": "stream",
          "name": "stdout",
          "text": [
            "(4, 3)\n",
            "12\n",
            "2\n"
          ]
        }
      ]
    },
    {
      "cell_type": "markdown",
      "metadata": {
        "id": "L_GVbYjvD0xO"
      },
      "source": [
        "### Indexando\n",
        "\n",
        "Acessando os dados: estrutura linhas/colunas"
      ]
    },
    {
      "cell_type": "code",
      "metadata": {
        "id": "KuL6fbg8bRS0",
        "colab": {
          "base_uri": "https://localhost:8080/"
        },
        "outputId": "7163dd5e-0e30-49b1-91fd-37bdde74fdea"
      },
      "source": [
        "a"
      ],
      "execution_count": null,
      "outputs": [
        {
          "output_type": "execute_result",
          "data": {
            "text/plain": [
              "array([1, 2, 3, 4, 1, 2, 3, 4])"
            ]
          },
          "metadata": {},
          "execution_count": 111
        }
      ]
    },
    {
      "cell_type": "code",
      "metadata": {
        "colab": {
          "base_uri": "https://localhost:8080/"
        },
        "id": "x_RE1oqlxT0w",
        "outputId": "1ef86c99-8c4b-4600-9f95-11a7c25a30b7"
      },
      "source": [
        "a.ndim"
      ],
      "execution_count": null,
      "outputs": [
        {
          "output_type": "execute_result",
          "data": {
            "text/plain": [
              "1"
            ]
          },
          "metadata": {},
          "execution_count": 112
        }
      ]
    },
    {
      "cell_type": "code",
      "source": [
        "a[0]"
      ],
      "metadata": {
        "colab": {
          "base_uri": "https://localhost:8080/"
        },
        "id": "o0NxCCCRfx1W",
        "outputId": "f36e1015-3d50-4b90-ec49-420aa25c9ca3"
      },
      "execution_count": null,
      "outputs": [
        {
          "output_type": "execute_result",
          "data": {
            "text/plain": [
              "1"
            ]
          },
          "metadata": {},
          "execution_count": 114
        }
      ]
    },
    {
      "cell_type": "code",
      "metadata": {
        "id": "IrJuTPl6D0xR",
        "colab": {
          "base_uri": "https://localhost:8080/"
        },
        "outputId": "0a79c7a0-a846-417b-dccd-f0e984355fb2"
      },
      "source": [
        "a[3]"
      ],
      "execution_count": null,
      "outputs": [
        {
          "output_type": "execute_result",
          "data": {
            "text/plain": [
              "4"
            ]
          },
          "metadata": {},
          "execution_count": 115
        }
      ]
    },
    {
      "cell_type": "code",
      "metadata": {
        "id": "Dj905nGoD0xT",
        "colab": {
          "base_uri": "https://localhost:8080/"
        },
        "outputId": "6833af70-c0c4-485e-e615-e35d79dd26aa"
      },
      "source": [
        "a[1]"
      ],
      "execution_count": null,
      "outputs": [
        {
          "output_type": "execute_result",
          "data": {
            "text/plain": [
              "2"
            ]
          },
          "metadata": {},
          "execution_count": 116
        }
      ]
    },
    {
      "cell_type": "code",
      "metadata": {
        "id": "0E5XGOacD0xW",
        "colab": {
          "base_uri": "https://localhost:8080/"
        },
        "outputId": "5d65ed10-856d-461d-eaf2-ebc3f3264c4d"
      },
      "source": [
        "b"
      ],
      "execution_count": null,
      "outputs": [
        {
          "output_type": "execute_result",
          "data": {
            "text/plain": [
              "array([[ 1,  5,  5,  7,  8,  9,  6,  4,  3],\n",
              "       [90,  1,  6,  4,  2,  1,  1,  1, 10]])"
            ]
          },
          "metadata": {},
          "execution_count": 117
        }
      ]
    },
    {
      "cell_type": "markdown",
      "metadata": {
        "id": "pzk9o8cnuDg6"
      },
      "source": [
        "Uma forma de acessar os dados seria pensar como uma lista de listas"
      ]
    },
    {
      "cell_type": "code",
      "source": [
        "b[0]"
      ],
      "metadata": {
        "colab": {
          "base_uri": "https://localhost:8080/"
        },
        "id": "y1wugAQ1f9YX",
        "outputId": "2d699736-8860-4594-e33a-43e7a9e2823f"
      },
      "execution_count": null,
      "outputs": [
        {
          "output_type": "execute_result",
          "data": {
            "text/plain": [
              "array([1, 5, 5, 7, 8, 9, 6, 4, 3])"
            ]
          },
          "metadata": {},
          "execution_count": 121
        }
      ]
    },
    {
      "cell_type": "code",
      "source": [
        "b[1]"
      ],
      "metadata": {
        "colab": {
          "base_uri": "https://localhost:8080/"
        },
        "id": "DSRcwoatgEgr",
        "outputId": "9a2427a2-7c51-4d25-decb-0ba2ac7a9d68"
      },
      "execution_count": null,
      "outputs": [
        {
          "output_type": "execute_result",
          "data": {
            "text/plain": [
              "array([90,  1,  6,  4,  2,  1,  1,  1, 10])"
            ]
          },
          "metadata": {},
          "execution_count": 127
        }
      ]
    },
    {
      "cell_type": "code",
      "metadata": {
        "id": "nUK82NRYD0xZ",
        "colab": {
          "base_uri": "https://localhost:8080/"
        },
        "outputId": "120a4ff0-478d-482a-bbe9-099e9240af0a"
      },
      "source": [
        "b[1][3]"
      ],
      "execution_count": null,
      "outputs": [
        {
          "output_type": "execute_result",
          "data": {
            "text/plain": [
              "4"
            ]
          },
          "metadata": {},
          "execution_count": 124
        }
      ]
    },
    {
      "cell_type": "markdown",
      "metadata": {
        "id": "f_InMfh4ErJd"
      },
      "source": [
        "A forma mais comum, no entanto, é acessar usando [linha,coluna]"
      ]
    },
    {
      "cell_type": "markdown",
      "metadata": {
        "id": "qKE3ghB4uOBt"
      },
      "source": [
        "linha 1, coluna 3"
      ]
    },
    {
      "cell_type": "code",
      "metadata": {
        "id": "JxbePRkBD0xa",
        "colab": {
          "base_uri": "https://localhost:8080/"
        },
        "outputId": "bc8e2a1f-d24e-48c7-9bac-6990db3c6063"
      },
      "source": [
        "b[1,3]"
      ],
      "execution_count": null,
      "outputs": [
        {
          "output_type": "execute_result",
          "data": {
            "text/plain": [
              "4"
            ]
          },
          "metadata": {},
          "execution_count": 126
        }
      ]
    },
    {
      "cell_type": "markdown",
      "metadata": {
        "id": "_eca1G5jE1_p"
      },
      "source": [
        "Acessando a coluna 1:"
      ]
    },
    {
      "cell_type": "code",
      "metadata": {
        "id": "6zS6qb7vD0xe",
        "colab": {
          "base_uri": "https://localhost:8080/"
        },
        "outputId": "21788648-2142-44dd-e756-96b42183e112"
      },
      "source": [
        "b[:,1]"
      ],
      "execution_count": null,
      "outputs": [
        {
          "output_type": "execute_result",
          "data": {
            "text/plain": [
              "array([5, 1])"
            ]
          },
          "metadata": {},
          "execution_count": 134
        }
      ]
    },
    {
      "cell_type": "code",
      "source": [
        "np.ndim(b[:,1])"
      ],
      "metadata": {
        "colab": {
          "base_uri": "https://localhost:8080/"
        },
        "id": "rBrXpsAJgpS5",
        "outputId": "65ce11d4-a58d-45f1-ad3b-39a6303219c1"
      },
      "execution_count": null,
      "outputs": [
        {
          "output_type": "execute_result",
          "data": {
            "text/plain": [
              "1"
            ]
          },
          "metadata": {},
          "execution_count": 135
        }
      ]
    },
    {
      "cell_type": "markdown",
      "metadata": {
        "id": "MkzciQCObWyh"
      },
      "source": [
        "Para pegar todos elementos de uma linha ou coluna eu tenho que declarar o \":\":"
      ]
    },
    {
      "cell_type": "code",
      "metadata": {
        "colab": {
          "base_uri": "https://localhost:8080/",
          "height": 134
        },
        "id": "F8ftDnj8bUWN",
        "outputId": "21601245-04eb-48ee-acff-819deccb8b5e"
      },
      "source": [
        "b[,1]"
      ],
      "execution_count": null,
      "outputs": [
        {
          "output_type": "error",
          "ename": "SyntaxError",
          "evalue": "ignored",
          "traceback": [
            "\u001b[0;36m  File \u001b[0;32m\"<ipython-input-131-315c80371b71>\"\u001b[0;36m, line \u001b[0;32m1\u001b[0m\n\u001b[0;31m    b[,1]\u001b[0m\n\u001b[0m      ^\u001b[0m\n\u001b[0;31mSyntaxError\u001b[0m\u001b[0;31m:\u001b[0m invalid syntax\n"
          ]
        }
      ]
    },
    {
      "cell_type": "markdown",
      "metadata": {
        "id": "q2mgWHDquRfq"
      },
      "source": [
        "Acessando a coluna 5:"
      ]
    },
    {
      "cell_type": "code",
      "metadata": {
        "id": "jtqJL2hHD0xc",
        "colab": {
          "base_uri": "https://localhost:8080/"
        },
        "outputId": "8a57f59e-6369-4bd9-e839-81102e3c1454"
      },
      "source": [
        "b[:,5]"
      ],
      "execution_count": null,
      "outputs": [
        {
          "output_type": "execute_result",
          "data": {
            "text/plain": [
              "array([9, 1])"
            ]
          },
          "metadata": {},
          "execution_count": 136
        }
      ]
    },
    {
      "cell_type": "markdown",
      "metadata": {
        "id": "wzVM4o00E5Bu"
      },
      "source": [
        "Acessando a linha 0:"
      ]
    },
    {
      "cell_type": "code",
      "metadata": {
        "id": "FdbTUhGzD0xg",
        "colab": {
          "base_uri": "https://localhost:8080/"
        },
        "outputId": "6f05426b-6dac-4a71-fa31-2ada3a558b5e"
      },
      "source": [
        "b[0,:]"
      ],
      "execution_count": null,
      "outputs": [
        {
          "output_type": "execute_result",
          "data": {
            "text/plain": [
              "array([1, 5, 5, 7, 8, 9, 6, 4, 3])"
            ]
          },
          "metadata": {},
          "execution_count": 138
        }
      ]
    },
    {
      "cell_type": "code",
      "source": [
        "b[0]"
      ],
      "metadata": {
        "colab": {
          "base_uri": "https://localhost:8080/"
        },
        "id": "Gajo-8aGhQzO",
        "outputId": "3194eced-6b21-496e-930e-45ab25f9cbaa"
      },
      "execution_count": null,
      "outputs": [
        {
          "output_type": "execute_result",
          "data": {
            "text/plain": [
              "array([1, 5, 5, 7, 8, 9, 6, 4, 3])"
            ]
          },
          "metadata": {},
          "execution_count": 139
        }
      ]
    },
    {
      "cell_type": "code",
      "metadata": {
        "id": "vFJs-8FHD0xi",
        "colab": {
          "base_uri": "https://localhost:8080/"
        },
        "outputId": "88c294cf-68a2-444e-fb73-276dd0aae4ec"
      },
      "source": [
        "b"
      ],
      "execution_count": null,
      "outputs": [
        {
          "output_type": "execute_result",
          "data": {
            "text/plain": [
              "array([[ 1,  5,  5,  7,  8,  9,  6,  4,  3],\n",
              "       [90,  1,  6,  4,  2,  1,  1,  1, 10]])"
            ]
          },
          "metadata": {},
          "execution_count": 140
        }
      ]
    },
    {
      "cell_type": "markdown",
      "metadata": {
        "id": "MFFSPQFpD0xn"
      },
      "source": [
        "### Indexando (um pouco mais complicado)"
      ]
    },
    {
      "cell_type": "markdown",
      "metadata": {
        "id": "7nVejYv_E7Sb"
      },
      "source": [
        "Complicando um pouco"
      ]
    },
    {
      "cell_type": "markdown",
      "metadata": {
        "id": "vp3RfvNSuoA2"
      },
      "source": [
        "Acessando a linha 1 e as colunas de 2 a 8 com passo tamanho 2"
      ]
    },
    {
      "cell_type": "code",
      "metadata": {
        "id": "8p78dTaKuu1R",
        "colab": {
          "base_uri": "https://localhost:8080/"
        },
        "outputId": "88d88c04-f99c-482c-8c5e-97dfb168dbe0"
      },
      "source": [
        "b"
      ],
      "execution_count": null,
      "outputs": [
        {
          "output_type": "execute_result",
          "data": {
            "text/plain": [
              "array([[ 1,  5,  5,  7,  8,  9,  6,  4,  3],\n",
              "       [90,  1,  6,  4,  2,  1,  1,  1, 10]])"
            ]
          },
          "metadata": {},
          "execution_count": 141
        }
      ]
    },
    {
      "cell_type": "code",
      "metadata": {
        "colab": {
          "base_uri": "https://localhost:8080/"
        },
        "id": "wzpOtT5LySiW",
        "outputId": "f18941f5-a1a7-413e-c45e-de7f66070bc2"
      },
      "source": [
        "b[1,2:8]"
      ],
      "execution_count": null,
      "outputs": [
        {
          "output_type": "execute_result",
          "data": {
            "text/plain": [
              "array([6, 4, 2, 1, 1, 1])"
            ]
          },
          "metadata": {},
          "execution_count": 142
        }
      ]
    },
    {
      "cell_type": "markdown",
      "metadata": {
        "id": "t6pZY6G0ys77"
      },
      "source": [
        "Posso determinar o tamanho do salto no slice:"
      ]
    },
    {
      "cell_type": "code",
      "metadata": {
        "id": "pXcpdy4YD0xu",
        "colab": {
          "base_uri": "https://localhost:8080/"
        },
        "outputId": "9beeb7c9-d0bd-47f2-c03f-324fb22c899d"
      },
      "source": [
        " b[1,2:8:2]"
      ],
      "execution_count": null,
      "outputs": [
        {
          "output_type": "execute_result",
          "data": {
            "text/plain": [
              "array([6, 2, 1])"
            ]
          },
          "metadata": {},
          "execution_count": 146
        }
      ]
    },
    {
      "cell_type": "code",
      "metadata": {
        "colab": {
          "base_uri": "https://localhost:8080/"
        },
        "id": "R7z6j-Lmy7M_",
        "outputId": "c55edfb9-6b31-4808-f999-794896601999"
      },
      "source": [
        "b[1,2:8:3]"
      ],
      "execution_count": null,
      "outputs": [
        {
          "output_type": "execute_result",
          "data": {
            "text/plain": [
              "array([6, 1])"
            ]
          },
          "metadata": {},
          "execution_count": 147
        }
      ]
    },
    {
      "cell_type": "markdown",
      "metadata": {
        "id": "EQmk5mjRu0tp"
      },
      "source": [
        "Modificando elementos"
      ]
    },
    {
      "cell_type": "code",
      "metadata": {
        "scrolled": true,
        "id": "yl_FORc_D0xv",
        "colab": {
          "base_uri": "https://localhost:8080/"
        },
        "outputId": "4df04c8c-fc67-494e-edcc-0751f7de6b79"
      },
      "source": [
        "a"
      ],
      "execution_count": null,
      "outputs": [
        {
          "output_type": "execute_result",
          "data": {
            "text/plain": [
              "array([ 1, 24,  3,  4,  1,  2,  3,  4])"
            ]
          },
          "metadata": {},
          "execution_count": 151
        }
      ]
    },
    {
      "cell_type": "code",
      "source": [
        "a[1]"
      ],
      "metadata": {
        "colab": {
          "base_uri": "https://localhost:8080/"
        },
        "id": "K8Y8OyPyikI0",
        "outputId": "e1a0b793-897b-4d35-cad9-b5bead32541f"
      },
      "execution_count": null,
      "outputs": [
        {
          "output_type": "execute_result",
          "data": {
            "text/plain": [
              "24"
            ]
          },
          "metadata": {},
          "execution_count": 152
        }
      ]
    },
    {
      "cell_type": "code",
      "metadata": {
        "id": "5VZBkBLaD0xx"
      },
      "source": [
        "a[1]=24"
      ],
      "execution_count": null,
      "outputs": []
    },
    {
      "cell_type": "code",
      "metadata": {
        "id": "RIqTYKqLD0x0",
        "colab": {
          "base_uri": "https://localhost:8080/"
        },
        "outputId": "8e8bc023-cea5-4529-d3b3-074aff909d40"
      },
      "source": [
        "a"
      ],
      "execution_count": null,
      "outputs": [
        {
          "output_type": "execute_result",
          "data": {
            "text/plain": [
              "array([ 1, 24,  3,  4,  1,  2,  3,  4])"
            ]
          },
          "metadata": {},
          "execution_count": 153
        }
      ]
    },
    {
      "cell_type": "markdown",
      "metadata": {
        "id": "O-JmMX16vFXH"
      },
      "source": [
        "Modificando vários elementos ao mesmo tempo:"
      ]
    },
    {
      "cell_type": "code",
      "metadata": {
        "colab": {
          "base_uri": "https://localhost:8080/"
        },
        "id": "38lReBmxzw3H",
        "outputId": "9d899dd8-36fb-4659-cd2a-022374cce397"
      },
      "source": [
        "b[1,2:8:2]"
      ],
      "execution_count": null,
      "outputs": [
        {
          "output_type": "execute_result",
          "data": {
            "text/plain": [
              "array([6, 2, 1])"
            ]
          },
          "metadata": {},
          "execution_count": 154
        }
      ]
    },
    {
      "cell_type": "code",
      "metadata": {
        "id": "gTv4BRvHD0x2"
      },
      "source": [
        "b[1,2:8:2] = 4"
      ],
      "execution_count": null,
      "outputs": []
    },
    {
      "cell_type": "code",
      "metadata": {
        "id": "odpHA4TFD0x4",
        "colab": {
          "base_uri": "https://localhost:8080/"
        },
        "outputId": "67149ed9-b91c-48d2-dcb9-87fa7bb6e012"
      },
      "source": [
        "b[1,2:8:2]"
      ],
      "execution_count": null,
      "outputs": [
        {
          "output_type": "execute_result",
          "data": {
            "text/plain": [
              "array([4, 4, 4])"
            ]
          },
          "metadata": {},
          "execution_count": 156
        }
      ]
    },
    {
      "cell_type": "code",
      "metadata": {
        "id": "HNKSkoJOD0x6",
        "colab": {
          "base_uri": "https://localhost:8080/"
        },
        "outputId": "a028eaf5-a7be-4fdf-ec63-ccfc867bd9bd"
      },
      "source": [
        "b"
      ],
      "execution_count": null,
      "outputs": [
        {
          "output_type": "execute_result",
          "data": {
            "text/plain": [
              "array([[ 1,  5,  5,  7,  8,  9,  6,  4,  3],\n",
              "       [90,  1,  4,  4,  4,  1,  4,  1, 10]])"
            ]
          },
          "metadata": {},
          "execution_count": 157
        }
      ]
    },
    {
      "cell_type": "markdown",
      "metadata": {
        "id": "ApJt4ykyFNke"
      },
      "source": [
        "Função reshape: muda o shape, mas não o tamanho (size) do array"
      ]
    },
    {
      "cell_type": "code",
      "metadata": {
        "id": "xmOVPNyVjRAa",
        "colab": {
          "base_uri": "https://localhost:8080/"
        },
        "outputId": "3b5f3839-146a-49cb-ed08-b3a99d482065"
      },
      "source": [
        "D"
      ],
      "execution_count": null,
      "outputs": [
        {
          "output_type": "execute_result",
          "data": {
            "text/plain": [
              "array([[ 1,  2,  3],\n",
              "       [ 4,  5,  6],\n",
              "       [ 7,  8,  9],\n",
              "       [10, 11, 12]])"
            ]
          },
          "metadata": {},
          "execution_count": 158
        }
      ]
    },
    {
      "cell_type": "code",
      "metadata": {
        "colab": {
          "base_uri": "https://localhost:8080/"
        },
        "id": "MUjfAIig0Bip",
        "outputId": "7f3036aa-90ab-419b-80d9-a6fe815c9ad7"
      },
      "source": [
        "D.shape"
      ],
      "execution_count": null,
      "outputs": [
        {
          "output_type": "execute_result",
          "data": {
            "text/plain": [
              "(4, 3)"
            ]
          },
          "metadata": {},
          "execution_count": 159
        }
      ]
    },
    {
      "cell_type": "code",
      "metadata": {
        "colab": {
          "base_uri": "https://localhost:8080/"
        },
        "id": "zXy_HL1c0F53",
        "outputId": "8f354c15-f618-4d1f-bcae-a75960db4fff"
      },
      "source": [
        "D.size"
      ],
      "execution_count": null,
      "outputs": [
        {
          "output_type": "execute_result",
          "data": {
            "text/plain": [
              "12"
            ]
          },
          "metadata": {},
          "execution_count": 160
        }
      ]
    },
    {
      "cell_type": "code",
      "metadata": {
        "id": "hxFv7YUkD0yF",
        "colab": {
          "base_uri": "https://localhost:8080/"
        },
        "outputId": "6bdd3fce-1721-47f4-9afd-6cf34411c638"
      },
      "source": [
        "D2 = np.reshape(D, (2,6))\n",
        "print(D2)"
      ],
      "execution_count": null,
      "outputs": [
        {
          "output_type": "stream",
          "name": "stdout",
          "text": [
            "[[ 1  2  3  4  5  6]\n",
            " [ 7  8  9 10 11 12]]\n"
          ]
        }
      ]
    },
    {
      "cell_type": "code",
      "metadata": {
        "id": "ooiwG1tq_t3E",
        "colab": {
          "base_uri": "https://localhost:8080/"
        },
        "outputId": "5512909d-0563-4351-f531-69a09af68dca"
      },
      "source": [
        "D2.size == D.size"
      ],
      "execution_count": null,
      "outputs": [
        {
          "output_type": "execute_result",
          "data": {
            "text/plain": [
              "True"
            ]
          },
          "metadata": {},
          "execution_count": 162
        }
      ]
    },
    {
      "cell_type": "code",
      "metadata": {
        "colab": {
          "base_uri": "https://localhost:8080/",
          "height": 378
        },
        "id": "e38ARi2A0Tfa",
        "outputId": "98de96f6-f8f7-4185-a668-54e9962a730f"
      },
      "source": [
        "D3 = np.reshape(D, (3,6))\n",
        "print(D3)"
      ],
      "execution_count": null,
      "outputs": [
        {
          "output_type": "error",
          "ename": "ValueError",
          "evalue": "ignored",
          "traceback": [
            "\u001b[0;31m---------------------------------------------------------------------------\u001b[0m",
            "\u001b[0;31mValueError\u001b[0m                                Traceback (most recent call last)",
            "\u001b[0;32m<ipython-input-164-ce0d50b97db5>\u001b[0m in \u001b[0;36m<module>\u001b[0;34m()\u001b[0m\n\u001b[0;32m----> 1\u001b[0;31m \u001b[0mD3\u001b[0m \u001b[0;34m=\u001b[0m \u001b[0mnp\u001b[0m\u001b[0;34m.\u001b[0m\u001b[0mreshape\u001b[0m\u001b[0;34m(\u001b[0m\u001b[0mD\u001b[0m\u001b[0;34m,\u001b[0m \u001b[0;34m(\u001b[0m\u001b[0;36m3\u001b[0m\u001b[0;34m,\u001b[0m\u001b[0;36m6\u001b[0m\u001b[0;34m)\u001b[0m\u001b[0;34m)\u001b[0m\u001b[0;34m\u001b[0m\u001b[0;34m\u001b[0m\u001b[0m\n\u001b[0m\u001b[1;32m      2\u001b[0m \u001b[0mprint\u001b[0m\u001b[0;34m(\u001b[0m\u001b[0mD3\u001b[0m\u001b[0;34m)\u001b[0m\u001b[0;34m\u001b[0m\u001b[0;34m\u001b[0m\u001b[0m\n",
            "\u001b[0;32m<__array_function__ internals>\u001b[0m in \u001b[0;36mreshape\u001b[0;34m(*args, **kwargs)\u001b[0m\n",
            "\u001b[0;32m/usr/local/lib/python3.7/dist-packages/numpy/core/fromnumeric.py\u001b[0m in \u001b[0;36mreshape\u001b[0;34m(a, newshape, order)\u001b[0m\n\u001b[1;32m    296\u001b[0m            [5, 6]])\n\u001b[1;32m    297\u001b[0m     \"\"\"\n\u001b[0;32m--> 298\u001b[0;31m     \u001b[0;32mreturn\u001b[0m \u001b[0m_wrapfunc\u001b[0m\u001b[0;34m(\u001b[0m\u001b[0ma\u001b[0m\u001b[0;34m,\u001b[0m \u001b[0;34m'reshape'\u001b[0m\u001b[0;34m,\u001b[0m \u001b[0mnewshape\u001b[0m\u001b[0;34m,\u001b[0m \u001b[0morder\u001b[0m\u001b[0;34m=\u001b[0m\u001b[0morder\u001b[0m\u001b[0;34m)\u001b[0m\u001b[0;34m\u001b[0m\u001b[0;34m\u001b[0m\u001b[0m\n\u001b[0m\u001b[1;32m    299\u001b[0m \u001b[0;34m\u001b[0m\u001b[0m\n\u001b[1;32m    300\u001b[0m \u001b[0;34m\u001b[0m\u001b[0m\n",
            "\u001b[0;32m/usr/local/lib/python3.7/dist-packages/numpy/core/fromnumeric.py\u001b[0m in \u001b[0;36m_wrapfunc\u001b[0;34m(obj, method, *args, **kwds)\u001b[0m\n\u001b[1;32m     55\u001b[0m \u001b[0;34m\u001b[0m\u001b[0m\n\u001b[1;32m     56\u001b[0m     \u001b[0;32mtry\u001b[0m\u001b[0;34m:\u001b[0m\u001b[0;34m\u001b[0m\u001b[0;34m\u001b[0m\u001b[0m\n\u001b[0;32m---> 57\u001b[0;31m         \u001b[0;32mreturn\u001b[0m \u001b[0mbound\u001b[0m\u001b[0;34m(\u001b[0m\u001b[0;34m*\u001b[0m\u001b[0margs\u001b[0m\u001b[0;34m,\u001b[0m \u001b[0;34m**\u001b[0m\u001b[0mkwds\u001b[0m\u001b[0;34m)\u001b[0m\u001b[0;34m\u001b[0m\u001b[0;34m\u001b[0m\u001b[0m\n\u001b[0m\u001b[1;32m     58\u001b[0m     \u001b[0;32mexcept\u001b[0m \u001b[0mTypeError\u001b[0m\u001b[0;34m:\u001b[0m\u001b[0;34m\u001b[0m\u001b[0;34m\u001b[0m\u001b[0m\n\u001b[1;32m     59\u001b[0m         \u001b[0;31m# A TypeError occurs if the object does have such a method in its\u001b[0m\u001b[0;34m\u001b[0m\u001b[0;34m\u001b[0m\u001b[0;34m\u001b[0m\u001b[0m\n",
            "\u001b[0;31mValueError\u001b[0m: cannot reshape array of size 12 into shape (3,6)"
          ]
        }
      ]
    },
    {
      "cell_type": "code",
      "metadata": {
        "colab": {
          "base_uri": "https://localhost:8080/",
          "height": 378
        },
        "id": "d1ag0Acl0ZGT",
        "outputId": "6522295c-b2af-4316-cbb4-abd0702379b9"
      },
      "source": [
        "D2 = np.reshape(D, (4,6))\n",
        "print(D2)"
      ],
      "execution_count": null,
      "outputs": [
        {
          "output_type": "error",
          "ename": "ValueError",
          "evalue": "ignored",
          "traceback": [
            "\u001b[0;31m---------------------------------------------------------------------------\u001b[0m",
            "\u001b[0;31mValueError\u001b[0m                                Traceback (most recent call last)",
            "\u001b[0;32m<ipython-input-167-88e5b6692f29>\u001b[0m in \u001b[0;36m<module>\u001b[0;34m()\u001b[0m\n\u001b[0;32m----> 1\u001b[0;31m \u001b[0mD2\u001b[0m \u001b[0;34m=\u001b[0m \u001b[0mnp\u001b[0m\u001b[0;34m.\u001b[0m\u001b[0mreshape\u001b[0m\u001b[0;34m(\u001b[0m\u001b[0mD\u001b[0m\u001b[0;34m,\u001b[0m \u001b[0;34m(\u001b[0m\u001b[0;36m4\u001b[0m\u001b[0;34m,\u001b[0m\u001b[0;36m6\u001b[0m\u001b[0;34m)\u001b[0m\u001b[0;34m)\u001b[0m\u001b[0;34m\u001b[0m\u001b[0;34m\u001b[0m\u001b[0m\n\u001b[0m\u001b[1;32m      2\u001b[0m \u001b[0mprint\u001b[0m\u001b[0;34m(\u001b[0m\u001b[0mD2\u001b[0m\u001b[0;34m)\u001b[0m\u001b[0;34m\u001b[0m\u001b[0;34m\u001b[0m\u001b[0m\n",
            "\u001b[0;32m<__array_function__ internals>\u001b[0m in \u001b[0;36mreshape\u001b[0;34m(*args, **kwargs)\u001b[0m\n",
            "\u001b[0;32m/usr/local/lib/python3.7/dist-packages/numpy/core/fromnumeric.py\u001b[0m in \u001b[0;36mreshape\u001b[0;34m(a, newshape, order)\u001b[0m\n\u001b[1;32m    296\u001b[0m            [5, 6]])\n\u001b[1;32m    297\u001b[0m     \"\"\"\n\u001b[0;32m--> 298\u001b[0;31m     \u001b[0;32mreturn\u001b[0m \u001b[0m_wrapfunc\u001b[0m\u001b[0;34m(\u001b[0m\u001b[0ma\u001b[0m\u001b[0;34m,\u001b[0m \u001b[0;34m'reshape'\u001b[0m\u001b[0;34m,\u001b[0m \u001b[0mnewshape\u001b[0m\u001b[0;34m,\u001b[0m \u001b[0morder\u001b[0m\u001b[0;34m=\u001b[0m\u001b[0morder\u001b[0m\u001b[0;34m)\u001b[0m\u001b[0;34m\u001b[0m\u001b[0;34m\u001b[0m\u001b[0m\n\u001b[0m\u001b[1;32m    299\u001b[0m \u001b[0;34m\u001b[0m\u001b[0m\n\u001b[1;32m    300\u001b[0m \u001b[0;34m\u001b[0m\u001b[0m\n",
            "\u001b[0;32m/usr/local/lib/python3.7/dist-packages/numpy/core/fromnumeric.py\u001b[0m in \u001b[0;36m_wrapfunc\u001b[0;34m(obj, method, *args, **kwds)\u001b[0m\n\u001b[1;32m     55\u001b[0m \u001b[0;34m\u001b[0m\u001b[0m\n\u001b[1;32m     56\u001b[0m     \u001b[0;32mtry\u001b[0m\u001b[0;34m:\u001b[0m\u001b[0;34m\u001b[0m\u001b[0;34m\u001b[0m\u001b[0m\n\u001b[0;32m---> 57\u001b[0;31m         \u001b[0;32mreturn\u001b[0m \u001b[0mbound\u001b[0m\u001b[0;34m(\u001b[0m\u001b[0;34m*\u001b[0m\u001b[0margs\u001b[0m\u001b[0;34m,\u001b[0m \u001b[0;34m**\u001b[0m\u001b[0mkwds\u001b[0m\u001b[0;34m)\u001b[0m\u001b[0;34m\u001b[0m\u001b[0;34m\u001b[0m\u001b[0m\n\u001b[0m\u001b[1;32m     58\u001b[0m     \u001b[0;32mexcept\u001b[0m \u001b[0mTypeError\u001b[0m\u001b[0;34m:\u001b[0m\u001b[0;34m\u001b[0m\u001b[0;34m\u001b[0m\u001b[0m\n\u001b[1;32m     59\u001b[0m         \u001b[0;31m# A TypeError occurs if the object does have such a method in its\u001b[0m\u001b[0;34m\u001b[0m\u001b[0;34m\u001b[0m\u001b[0;34m\u001b[0m\u001b[0m\n",
            "\u001b[0;31mValueError\u001b[0m: cannot reshape array of size 12 into shape (4,6)"
          ]
        }
      ]
    },
    {
      "cell_type": "code",
      "metadata": {
        "colab": {
          "base_uri": "https://localhost:8080/",
          "height": 378
        },
        "id": "9IYNVV1L0hrc",
        "outputId": "4bf1bb48-b687-4363-f565-0bd216236062"
      },
      "source": [
        "D2 = np.reshape(D, (1,6))\n",
        "print(D2)"
      ],
      "execution_count": null,
      "outputs": [
        {
          "output_type": "error",
          "ename": "ValueError",
          "evalue": "ignored",
          "traceback": [
            "\u001b[0;31m---------------------------------------------------------------------------\u001b[0m",
            "\u001b[0;31mValueError\u001b[0m                                Traceback (most recent call last)",
            "\u001b[0;32m<ipython-input-168-ae4b54e36e1f>\u001b[0m in \u001b[0;36m<module>\u001b[0;34m()\u001b[0m\n\u001b[0;32m----> 1\u001b[0;31m \u001b[0mD2\u001b[0m \u001b[0;34m=\u001b[0m \u001b[0mnp\u001b[0m\u001b[0;34m.\u001b[0m\u001b[0mreshape\u001b[0m\u001b[0;34m(\u001b[0m\u001b[0mD\u001b[0m\u001b[0;34m,\u001b[0m \u001b[0;34m(\u001b[0m\u001b[0;36m1\u001b[0m\u001b[0;34m,\u001b[0m\u001b[0;36m6\u001b[0m\u001b[0;34m)\u001b[0m\u001b[0;34m)\u001b[0m\u001b[0;34m\u001b[0m\u001b[0;34m\u001b[0m\u001b[0m\n\u001b[0m\u001b[1;32m      2\u001b[0m \u001b[0mprint\u001b[0m\u001b[0;34m(\u001b[0m\u001b[0mD2\u001b[0m\u001b[0;34m)\u001b[0m\u001b[0;34m\u001b[0m\u001b[0;34m\u001b[0m\u001b[0m\n",
            "\u001b[0;32m<__array_function__ internals>\u001b[0m in \u001b[0;36mreshape\u001b[0;34m(*args, **kwargs)\u001b[0m\n",
            "\u001b[0;32m/usr/local/lib/python3.7/dist-packages/numpy/core/fromnumeric.py\u001b[0m in \u001b[0;36mreshape\u001b[0;34m(a, newshape, order)\u001b[0m\n\u001b[1;32m    296\u001b[0m            [5, 6]])\n\u001b[1;32m    297\u001b[0m     \"\"\"\n\u001b[0;32m--> 298\u001b[0;31m     \u001b[0;32mreturn\u001b[0m \u001b[0m_wrapfunc\u001b[0m\u001b[0;34m(\u001b[0m\u001b[0ma\u001b[0m\u001b[0;34m,\u001b[0m \u001b[0;34m'reshape'\u001b[0m\u001b[0;34m,\u001b[0m \u001b[0mnewshape\u001b[0m\u001b[0;34m,\u001b[0m \u001b[0morder\u001b[0m\u001b[0;34m=\u001b[0m\u001b[0morder\u001b[0m\u001b[0;34m)\u001b[0m\u001b[0;34m\u001b[0m\u001b[0;34m\u001b[0m\u001b[0m\n\u001b[0m\u001b[1;32m    299\u001b[0m \u001b[0;34m\u001b[0m\u001b[0m\n\u001b[1;32m    300\u001b[0m \u001b[0;34m\u001b[0m\u001b[0m\n",
            "\u001b[0;32m/usr/local/lib/python3.7/dist-packages/numpy/core/fromnumeric.py\u001b[0m in \u001b[0;36m_wrapfunc\u001b[0;34m(obj, method, *args, **kwds)\u001b[0m\n\u001b[1;32m     55\u001b[0m \u001b[0;34m\u001b[0m\u001b[0m\n\u001b[1;32m     56\u001b[0m     \u001b[0;32mtry\u001b[0m\u001b[0;34m:\u001b[0m\u001b[0;34m\u001b[0m\u001b[0;34m\u001b[0m\u001b[0m\n\u001b[0;32m---> 57\u001b[0;31m         \u001b[0;32mreturn\u001b[0m \u001b[0mbound\u001b[0m\u001b[0;34m(\u001b[0m\u001b[0;34m*\u001b[0m\u001b[0margs\u001b[0m\u001b[0;34m,\u001b[0m \u001b[0;34m**\u001b[0m\u001b[0mkwds\u001b[0m\u001b[0;34m)\u001b[0m\u001b[0;34m\u001b[0m\u001b[0;34m\u001b[0m\u001b[0m\n\u001b[0m\u001b[1;32m     58\u001b[0m     \u001b[0;32mexcept\u001b[0m \u001b[0mTypeError\u001b[0m\u001b[0;34m:\u001b[0m\u001b[0;34m\u001b[0m\u001b[0;34m\u001b[0m\u001b[0m\n\u001b[1;32m     59\u001b[0m         \u001b[0;31m# A TypeError occurs if the object does have such a method in its\u001b[0m\u001b[0;34m\u001b[0m\u001b[0;34m\u001b[0m\u001b[0;34m\u001b[0m\u001b[0m\n",
            "\u001b[0;31mValueError\u001b[0m: cannot reshape array of size 12 into shape (1,6)"
          ]
        }
      ]
    },
    {
      "cell_type": "code",
      "source": [
        "help(np.reshape)"
      ],
      "metadata": {
        "id": "sfILJ-bykPIw"
      },
      "execution_count": null,
      "outputs": []
    },
    {
      "cell_type": "code",
      "source": [
        "?np.reshape"
      ],
      "metadata": {
        "id": "O-oZk2plkXb7"
      },
      "execution_count": null,
      "outputs": []
    },
    {
      "cell_type": "markdown",
      "metadata": {
        "id": "rs30BCy7FK7D"
      },
      "source": [
        "Função arange:\n",
        "\n",
        "- Vantagens sobre o range\n",
        "    - range só recebe inteiros\n",
        "    - range retorna um iterador, logo é necessário ainda criar o objeto depois. Ex: list(range(10))"
      ]
    },
    {
      "cell_type": "markdown",
      "metadata": {
        "id": "Exyxhs75v2vG"
      },
      "source": [
        "Se eu quiser uma lista de 0 a 1 com passo de tamanho 0.1? O range não é capaz de executar"
      ]
    },
    {
      "cell_type": "code",
      "source": [
        "list(range(0,1,1))"
      ],
      "metadata": {
        "colab": {
          "base_uri": "https://localhost:8080/"
        },
        "id": "d2tfNnL5kur9",
        "outputId": "370ba136-db03-4ebc-89be-998ad704290d"
      },
      "execution_count": null,
      "outputs": [
        {
          "output_type": "execute_result",
          "data": {
            "text/plain": [
              "[0]"
            ]
          },
          "metadata": {},
          "execution_count": 173
        }
      ]
    },
    {
      "cell_type": "code",
      "metadata": {
        "id": "oME1Cd1cvcgq",
        "colab": {
          "base_uri": "https://localhost:8080/",
          "height": 171
        },
        "outputId": "47ecd479-f88c-4f32-a08e-c9e778234352"
      },
      "source": [
        "list(range(0,1,0.1))"
      ],
      "execution_count": null,
      "outputs": [
        {
          "output_type": "error",
          "ename": "TypeError",
          "evalue": "ignored",
          "traceback": [
            "\u001b[0;31m---------------------------------------------------------------------------\u001b[0m",
            "\u001b[0;31mTypeError\u001b[0m                                 Traceback (most recent call last)",
            "\u001b[0;32m<ipython-input-174-5847c50c73f9>\u001b[0m in \u001b[0;36m<module>\u001b[0;34m()\u001b[0m\n\u001b[0;32m----> 1\u001b[0;31m \u001b[0mlist\u001b[0m\u001b[0;34m(\u001b[0m\u001b[0mrange\u001b[0m\u001b[0;34m(\u001b[0m\u001b[0;36m0\u001b[0m\u001b[0;34m,\u001b[0m\u001b[0;36m1\u001b[0m\u001b[0;34m,\u001b[0m\u001b[0;36m0.1\u001b[0m\u001b[0;34m)\u001b[0m\u001b[0;34m)\u001b[0m\u001b[0;34m\u001b[0m\u001b[0;34m\u001b[0m\u001b[0m\n\u001b[0m",
            "\u001b[0;31mTypeError\u001b[0m: 'float' object cannot be interpreted as an integer"
          ]
        }
      ]
    },
    {
      "cell_type": "code",
      "metadata": {
        "id": "52ZJvygcD0yD",
        "colab": {
          "base_uri": "https://localhost:8080/"
        },
        "outputId": "32b53b88-c995-4200-b8c0-f2e097d5045b"
      },
      "source": [
        "z = np.arange(0,1,0.1)\n",
        "print(z)\n",
        "z"
      ],
      "execution_count": null,
      "outputs": [
        {
          "output_type": "stream",
          "name": "stdout",
          "text": [
            "[0.  0.1 0.2 0.3 0.4 0.5 0.6 0.7 0.8 0.9]\n"
          ]
        },
        {
          "output_type": "execute_result",
          "data": {
            "text/plain": [
              "array([0. , 0.1, 0.2, 0.3, 0.4, 0.5, 0.6, 0.7, 0.8, 0.9])"
            ]
          },
          "metadata": {},
          "execution_count": 176
        }
      ]
    },
    {
      "cell_type": "code",
      "metadata": {
        "id": "zZvoBwO0rgZB",
        "colab": {
          "base_uri": "https://localhost:8080/"
        },
        "outputId": "d01fe07f-4d80-492e-f126-c1d4396ea5df"
      },
      "source": [
        "np.arange(100)"
      ],
      "execution_count": null,
      "outputs": [
        {
          "output_type": "execute_result",
          "data": {
            "text/plain": [
              "array([ 0,  1,  2,  3,  4,  5,  6,  7,  8,  9, 10, 11, 12, 13, 14, 15, 16,\n",
              "       17, 18, 19, 20, 21, 22, 23, 24, 25, 26, 27, 28, 29, 30, 31, 32, 33,\n",
              "       34, 35, 36, 37, 38, 39, 40, 41, 42, 43, 44, 45, 46, 47, 48, 49, 50,\n",
              "       51, 52, 53, 54, 55, 56, 57, 58, 59, 60, 61, 62, 63, 64, 65, 66, 67,\n",
              "       68, 69, 70, 71, 72, 73, 74, 75, 76, 77, 78, 79, 80, 81, 82, 83, 84,\n",
              "       85, 86, 87, 88, 89, 90, 91, 92, 93, 94, 95, 96, 97, 98, 99])"
            ]
          },
          "metadata": {},
          "execution_count": 178
        }
      ]
    },
    {
      "cell_type": "code",
      "metadata": {
        "id": "Lo8zGL4vrgBC",
        "colab": {
          "base_uri": "https://localhost:8080/"
        },
        "outputId": "bc80f347-94c3-446b-977a-6e857e260a6e"
      },
      "source": [
        "np.arange(50,100)"
      ],
      "execution_count": null,
      "outputs": [
        {
          "output_type": "execute_result",
          "data": {
            "text/plain": [
              "array([50, 51, 52, 53, 54, 55, 56, 57, 58, 59, 60, 61, 62, 63, 64, 65, 66,\n",
              "       67, 68, 69, 70, 71, 72, 73, 74, 75, 76, 77, 78, 79, 80, 81, 82, 83,\n",
              "       84, 85, 86, 87, 88, 89, 90, 91, 92, 93, 94, 95, 96, 97, 98, 99])"
            ]
          },
          "metadata": {},
          "execution_count": 179
        }
      ]
    },
    {
      "cell_type": "code",
      "metadata": {
        "id": "bTopNeg_raM2",
        "colab": {
          "base_uri": "https://localhost:8080/"
        },
        "outputId": "c34bb034-75ce-4ef3-d5d8-264bad157891"
      },
      "source": [
        "np.arange(50,100,5)"
      ],
      "execution_count": null,
      "outputs": [
        {
          "output_type": "execute_result",
          "data": {
            "text/plain": [
              "array([50, 55, 60, 65, 70, 75, 80, 85, 90, 95])"
            ]
          },
          "metadata": {},
          "execution_count": 180
        }
      ]
    },
    {
      "cell_type": "code",
      "metadata": {
        "id": "cUxxTUVvrjdg",
        "colab": {
          "base_uri": "https://localhost:8080/"
        },
        "outputId": "39a75f46-a120-474e-e00b-1c512dc4fb33"
      },
      "source": [
        "help(np.arange)"
      ],
      "execution_count": null,
      "outputs": [
        {
          "output_type": "stream",
          "name": "stdout",
          "text": [
            "Help on built-in function arange in module numpy:\n",
            "\n",
            "arange(...)\n",
            "    arange([start,] stop[, step,], dtype=None, *, like=None)\n",
            "    \n",
            "    Return evenly spaced values within a given interval.\n",
            "    \n",
            "    Values are generated within the half-open interval ``[start, stop)``\n",
            "    (in other words, the interval including `start` but excluding `stop`).\n",
            "    For integer arguments the function is equivalent to the Python built-in\n",
            "    `range` function, but returns an ndarray rather than a list.\n",
            "    \n",
            "    When using a non-integer step, such as 0.1, the results will often not\n",
            "    be consistent.  It is better to use `numpy.linspace` for these cases.\n",
            "    \n",
            "    Parameters\n",
            "    ----------\n",
            "    start : integer or real, optional\n",
            "        Start of interval.  The interval includes this value.  The default\n",
            "        start value is 0.\n",
            "    stop : integer or real\n",
            "        End of interval.  The interval does not include this value, except\n",
            "        in some cases where `step` is not an integer and floating point\n",
            "        round-off affects the length of `out`.\n",
            "    step : integer or real, optional\n",
            "        Spacing between values.  For any output `out`, this is the distance\n",
            "        between two adjacent values, ``out[i+1] - out[i]``.  The default\n",
            "        step size is 1.  If `step` is specified as a position argument,\n",
            "        `start` must also be given.\n",
            "    dtype : dtype\n",
            "        The type of the output array.  If `dtype` is not given, infer the data\n",
            "        type from the other input arguments.\n",
            "    like : array_like\n",
            "        Reference object to allow the creation of arrays which are not\n",
            "        NumPy arrays. If an array-like passed in as ``like`` supports\n",
            "        the ``__array_function__`` protocol, the result will be defined\n",
            "        by it. In this case, it ensures the creation of an array object\n",
            "        compatible with that passed in via this argument.\n",
            "    \n",
            "        .. versionadded:: 1.20.0\n",
            "    \n",
            "    Returns\n",
            "    -------\n",
            "    arange : ndarray\n",
            "        Array of evenly spaced values.\n",
            "    \n",
            "        For floating point arguments, the length of the result is\n",
            "        ``ceil((stop - start)/step)``.  Because of floating point overflow,\n",
            "        this rule may result in the last element of `out` being greater\n",
            "        than `stop`.\n",
            "    \n",
            "    See Also\n",
            "    --------\n",
            "    numpy.linspace : Evenly spaced numbers with careful handling of endpoints.\n",
            "    numpy.ogrid: Arrays of evenly spaced numbers in N-dimensions.\n",
            "    numpy.mgrid: Grid-shaped arrays of evenly spaced numbers in N-dimensions.\n",
            "    \n",
            "    Examples\n",
            "    --------\n",
            "    >>> np.arange(3)\n",
            "    array([0, 1, 2])\n",
            "    >>> np.arange(3.0)\n",
            "    array([ 0.,  1.,  2.])\n",
            "    >>> np.arange(3,7)\n",
            "    array([3, 4, 5, 6])\n",
            "    >>> np.arange(3,7,2)\n",
            "    array([3, 5])\n",
            "\n"
          ]
        }
      ]
    },
    {
      "cell_type": "code",
      "source": [
        "?np.arange"
      ],
      "metadata": {
        "id": "mxOLdne3lY1k"
      },
      "execution_count": null,
      "outputs": []
    },
    {
      "cell_type": "markdown",
      "metadata": {
        "id": "LJtM6Men2rMz"
      },
      "source": [
        "Exemplo de construção de gráfico no Python \"Raiz\":"
      ]
    },
    {
      "cell_type": "code",
      "source": [
        "sequencia = list(range(100))\n",
        "sequencia = list(map(lambda x:x/100,sequencia))\n",
        "sequencia\n"
      ],
      "metadata": {
        "colab": {
          "base_uri": "https://localhost:8080/"
        },
        "id": "rZAY8oEYlt61",
        "outputId": "27db40fc-f227-4fe8-c8d8-858ba57dc73a"
      },
      "execution_count": null,
      "outputs": [
        {
          "output_type": "execute_result",
          "data": {
            "text/plain": [
              "[0.0,\n",
              " 0.01,\n",
              " 0.02,\n",
              " 0.03,\n",
              " 0.04,\n",
              " 0.05,\n",
              " 0.06,\n",
              " 0.07,\n",
              " 0.08,\n",
              " 0.09,\n",
              " 0.1,\n",
              " 0.11,\n",
              " 0.12,\n",
              " 0.13,\n",
              " 0.14,\n",
              " 0.15,\n",
              " 0.16,\n",
              " 0.17,\n",
              " 0.18,\n",
              " 0.19,\n",
              " 0.2,\n",
              " 0.21,\n",
              " 0.22,\n",
              " 0.23,\n",
              " 0.24,\n",
              " 0.25,\n",
              " 0.26,\n",
              " 0.27,\n",
              " 0.28,\n",
              " 0.29,\n",
              " 0.3,\n",
              " 0.31,\n",
              " 0.32,\n",
              " 0.33,\n",
              " 0.34,\n",
              " 0.35,\n",
              " 0.36,\n",
              " 0.37,\n",
              " 0.38,\n",
              " 0.39,\n",
              " 0.4,\n",
              " 0.41,\n",
              " 0.42,\n",
              " 0.43,\n",
              " 0.44,\n",
              " 0.45,\n",
              " 0.46,\n",
              " 0.47,\n",
              " 0.48,\n",
              " 0.49,\n",
              " 0.5,\n",
              " 0.51,\n",
              " 0.52,\n",
              " 0.53,\n",
              " 0.54,\n",
              " 0.55,\n",
              " 0.56,\n",
              " 0.57,\n",
              " 0.58,\n",
              " 0.59,\n",
              " 0.6,\n",
              " 0.61,\n",
              " 0.62,\n",
              " 0.63,\n",
              " 0.64,\n",
              " 0.65,\n",
              " 0.66,\n",
              " 0.67,\n",
              " 0.68,\n",
              " 0.69,\n",
              " 0.7,\n",
              " 0.71,\n",
              " 0.72,\n",
              " 0.73,\n",
              " 0.74,\n",
              " 0.75,\n",
              " 0.76,\n",
              " 0.77,\n",
              " 0.78,\n",
              " 0.79,\n",
              " 0.8,\n",
              " 0.81,\n",
              " 0.82,\n",
              " 0.83,\n",
              " 0.84,\n",
              " 0.85,\n",
              " 0.86,\n",
              " 0.87,\n",
              " 0.88,\n",
              " 0.89,\n",
              " 0.9,\n",
              " 0.91,\n",
              " 0.92,\n",
              " 0.93,\n",
              " 0.94,\n",
              " 0.95,\n",
              " 0.96,\n",
              " 0.97,\n",
              " 0.98,\n",
              " 0.99]"
            ]
          },
          "metadata": {},
          "execution_count": 189
        }
      ]
    },
    {
      "cell_type": "code",
      "metadata": {
        "colab": {
          "base_uri": "https://localhost:8080/",
          "height": 283
        },
        "id": "dLmibmR72qKX",
        "outputId": "1e64362c-c1f4-410d-bf73-664e004a56d3"
      },
      "source": [
        "sequencia = list(range(100))\n",
        "sequencia = list(map(lambda x:x/100,sequencia))\n",
        "sequencia_2 = list(map(lambda x:x**2,sequencia))\n",
        "plt.plot(sequencia, sequencia_2)"
      ],
      "execution_count": null,
      "outputs": [
        {
          "output_type": "execute_result",
          "data": {
            "text/plain": [
              "[<matplotlib.lines.Line2D at 0x7f285aeff950>]"
            ]
          },
          "metadata": {},
          "execution_count": 190
        },
        {
          "output_type": "display_data",
          "data": {
            "image/png": "[encoded data removed]",
            "text/plain": [
              "<Figure size 432x288 with 1 Axes>"
            ]
          },
          "metadata": {
            "needs_background": "light"
          }
        }
      ]
    },
    {
      "cell_type": "markdown",
      "metadata": {
        "id": "bNkoclKc2z8s"
      },
      "source": [
        "Exemplo de construção de gráfico no Python \"Numpy\":"
      ]
    },
    {
      "cell_type": "code",
      "metadata": {
        "colab": {
          "base_uri": "https://localhost:8080/",
          "height": 283
        },
        "id": "daYspEyR1nBT",
        "outputId": "8841f429-c2de-4e88-917c-57fb666797bf"
      },
      "source": [
        "sequencia1 = np.arange(0,1, 0.01)\n",
        "sequencia2 = sequencia1**2\n",
        "plt.plot(sequencia1, sequencia2)"
      ],
      "execution_count": null,
      "outputs": [
        {
          "output_type": "execute_result",
          "data": {
            "text/plain": [
              "[<matplotlib.lines.Line2D at 0x7f285ae62990>]"
            ]
          },
          "metadata": {},
          "execution_count": 191
        },
        {
          "output_type": "display_data",
          "data": {
            "image/png": "[encoded data removed]",
            "text/plain": [
              "<Figure size 432x288 with 1 Axes>"
            ]
          },
          "metadata": {
            "needs_background": "light"
          }
        }
      ]
    },
    {
      "cell_type": "markdown",
      "metadata": {
        "id": "lGFf1rckD0yb"
      },
      "source": [
        "#### np.linspace\n",
        "\n",
        "Retorna números uniformemente espaçados (evenly spaced) em um intervalo."
      ]
    },
    {
      "cell_type": "markdown",
      "metadata": {
        "id": "6v9e5bwkw-Qu"
      },
      "source": [
        "O código abaixo retorna 101 números entre 1 e 10"
      ]
    },
    {
      "cell_type": "code",
      "metadata": {
        "id": "O3jwDOt0D0yb"
      },
      "source": [
        "c = np.linspace(1,10,101)"
      ],
      "execution_count": null,
      "outputs": []
    },
    {
      "cell_type": "code",
      "metadata": {
        "colab": {
          "base_uri": "https://localhost:8080/"
        },
        "id": "x0DtaHTo3s1t",
        "outputId": "ef93cedc-972d-4d18-cf5c-ca12f55501c7"
      },
      "source": [
        "c"
      ],
      "execution_count": null,
      "outputs": [
        {
          "output_type": "execute_result",
          "data": {
            "text/plain": [
              "array([ 1.  ,  1.09,  1.18,  1.27,  1.36,  1.45,  1.54,  1.63,  1.72,\n",
              "        1.81,  1.9 ,  1.99,  2.08,  2.17,  2.26,  2.35,  2.44,  2.53,\n",
              "        2.62,  2.71,  2.8 ,  2.89,  2.98,  3.07,  3.16,  3.25,  3.34,\n",
              "        3.43,  3.52,  3.61,  3.7 ,  3.79,  3.88,  3.97,  4.06,  4.15,\n",
              "        4.24,  4.33,  4.42,  4.51,  4.6 ,  4.69,  4.78,  4.87,  4.96,\n",
              "        5.05,  5.14,  5.23,  5.32,  5.41,  5.5 ,  5.59,  5.68,  5.77,\n",
              "        5.86,  5.95,  6.04,  6.13,  6.22,  6.31,  6.4 ,  6.49,  6.58,\n",
              "        6.67,  6.76,  6.85,  6.94,  7.03,  7.12,  7.21,  7.3 ,  7.39,\n",
              "        7.48,  7.57,  7.66,  7.75,  7.84,  7.93,  8.02,  8.11,  8.2 ,\n",
              "        8.29,  8.38,  8.47,  8.56,  8.65,  8.74,  8.83,  8.92,  9.01,\n",
              "        9.1 ,  9.19,  9.28,  9.37,  9.46,  9.55,  9.64,  9.73,  9.82,\n",
              "        9.91, 10.  ])"
            ]
          },
          "metadata": {},
          "execution_count": 209
        }
      ]
    },
    {
      "cell_type": "code",
      "metadata": {
        "colab": {
          "base_uri": "https://localhost:8080/"
        },
        "id": "UseHWc9c3yjk",
        "outputId": "7238d8de-178b-4f32-81dd-b3973b5257c0"
      },
      "source": [
        "c.shape"
      ],
      "execution_count": null,
      "outputs": [
        {
          "output_type": "execute_result",
          "data": {
            "text/plain": [
              "(101,)"
            ]
          },
          "metadata": {},
          "execution_count": 210
        }
      ]
    },
    {
      "cell_type": "code",
      "metadata": {
        "colab": {
          "base_uri": "https://localhost:8080/"
        },
        "id": "CmTdbUYI32FP",
        "outputId": "415073ea-c614-4735-fa86-506e2c91ce42"
      },
      "source": [
        "c.size"
      ],
      "execution_count": null,
      "outputs": [
        {
          "output_type": "execute_result",
          "data": {
            "text/plain": [
              "101"
            ]
          },
          "metadata": {},
          "execution_count": 211
        }
      ]
    },
    {
      "cell_type": "code",
      "metadata": {
        "colab": {
          "base_uri": "https://localhost:8080/"
        },
        "id": "f4NNzIa04E4u",
        "outputId": "bc487bd5-eaff-4c46-a932-39ce57c171d9"
      },
      "source": [
        "c[100]"
      ],
      "execution_count": null,
      "outputs": [
        {
          "output_type": "execute_result",
          "data": {
            "text/plain": [
              "10.0"
            ]
          },
          "metadata": {},
          "execution_count": 212
        }
      ]
    },
    {
      "cell_type": "code",
      "metadata": {
        "colab": {
          "base_uri": "https://localhost:8080/"
        },
        "id": "P7PhL1u64Mx2",
        "outputId": "740fbf6d-74d0-4ae7-862a-6641b73b1760"
      },
      "source": [
        "c.ndim"
      ],
      "execution_count": null,
      "outputs": [
        {
          "output_type": "execute_result",
          "data": {
            "text/plain": [
              "1"
            ]
          },
          "metadata": {},
          "execution_count": 213
        }
      ]
    },
    {
      "cell_type": "code",
      "metadata": {
        "colab": {
          "base_uri": "https://localhost:8080/",
          "height": 283
        },
        "id": "vxuDX8zn4deV",
        "outputId": "a7dff3d2-ba06-405f-b257-0575160fce87"
      },
      "source": [
        "sequencia_3 = np.linspace(-2,2,101)\n",
        "sequencia_4 = -4*sequencia_3**4 + 10*sequencia_3**2 - 2*sequencia_3**2 + 1.2*sequencia_3**2\n",
        "plt.plot(sequencia_3, sequencia_4)"
      ],
      "execution_count": null,
      "outputs": [
        {
          "output_type": "execute_result",
          "data": {
            "text/plain": [
              "[<matplotlib.lines.Line2D at 0x7f285ad397d0>]"
            ]
          },
          "metadata": {},
          "execution_count": 214
        },
        {
          "output_type": "display_data",
          "data": {
            "image/png": "[encoded data removed]",
            "text/plain": [
              "<Figure size 432x288 with 1 Axes>"
            ]
          },
          "metadata": {
            "needs_background": "light"
          }
        }
      ]
    },
    {
      "cell_type": "markdown",
      "metadata": {
        "id": "2JKps8vNxHDt"
      },
      "source": [
        "## Arrays básicos:"
      ]
    },
    {
      "cell_type": "markdown",
      "metadata": {
        "id": "Ug4UZALwxSlb"
      },
      "source": [
        "Array só com zeros"
      ]
    },
    {
      "cell_type": "code",
      "metadata": {
        "id": "8fdHaX4JxLqF",
        "colab": {
          "base_uri": "https://localhost:8080/"
        },
        "outputId": "bc7c0722-ff02-4bca-d160-fcf2a9ffe608"
      },
      "source": [
        "np.zeros(100)"
      ],
      "execution_count": null,
      "outputs": [
        {
          "output_type": "execute_result",
          "data": {
            "text/plain": [
              "array([0., 0., 0., 0., 0., 0., 0., 0., 0., 0., 0., 0., 0., 0., 0., 0., 0.,\n",
              "       0., 0., 0., 0., 0., 0., 0., 0., 0., 0., 0., 0., 0., 0., 0., 0., 0.,\n",
              "       0., 0., 0., 0., 0., 0., 0., 0., 0., 0., 0., 0., 0., 0., 0., 0., 0.,\n",
              "       0., 0., 0., 0., 0., 0., 0., 0., 0., 0., 0., 0., 0., 0., 0., 0., 0.,\n",
              "       0., 0., 0., 0., 0., 0., 0., 0., 0., 0., 0., 0., 0., 0., 0., 0., 0.,\n",
              "       0., 0., 0., 0., 0., 0., 0., 0., 0., 0., 0., 0., 0., 0., 0.])"
            ]
          },
          "metadata": {},
          "execution_count": 215
        }
      ]
    },
    {
      "cell_type": "code",
      "metadata": {
        "id": "MP5uaaEb-cg6"
      },
      "source": [
        "np.zeros?"
      ],
      "execution_count": null,
      "outputs": []
    },
    {
      "cell_type": "code",
      "metadata": {
        "id": "l0egjqNV9hNP"
      },
      "source": [
        "zeros = np.zeros(100)"
      ],
      "execution_count": null,
      "outputs": []
    },
    {
      "cell_type": "code",
      "metadata": {
        "colab": {
          "base_uri": "https://localhost:8080/"
        },
        "id": "iYddxV_F9lK3",
        "outputId": "b606eaf2-ac93-46b7-aa16-9d9a63463cff"
      },
      "source": [
        "zeros.ndim"
      ],
      "execution_count": null,
      "outputs": [
        {
          "output_type": "execute_result",
          "data": {
            "text/plain": [
              "1"
            ]
          },
          "metadata": {},
          "execution_count": 218
        }
      ]
    },
    {
      "cell_type": "code",
      "metadata": {
        "colab": {
          "base_uri": "https://localhost:8080/"
        },
        "id": "E11VRoAK_LF7",
        "outputId": "2c2cc4c0-5edc-4e7c-be51-79731d6709fe"
      },
      "source": [
        "zeros.size"
      ],
      "execution_count": null,
      "outputs": [
        {
          "output_type": "execute_result",
          "data": {
            "text/plain": [
              "100"
            ]
          },
          "metadata": {},
          "execution_count": 219
        }
      ]
    },
    {
      "cell_type": "code",
      "metadata": {
        "colab": {
          "base_uri": "https://localhost:8080/"
        },
        "id": "OZoA2BL-_OJq",
        "outputId": "279100f2-5422-45f9-81d8-022f330cd42e"
      },
      "source": [
        "zeros.shape"
      ],
      "execution_count": null,
      "outputs": [
        {
          "output_type": "execute_result",
          "data": {
            "text/plain": [
              "(100,)"
            ]
          },
          "metadata": {},
          "execution_count": 220
        }
      ]
    },
    {
      "cell_type": "markdown",
      "metadata": {
        "id": "1fD2FEdPxYXk"
      },
      "source": [
        "Array só com uns"
      ]
    },
    {
      "cell_type": "code",
      "metadata": {
        "id": "7_lAIgQexJTz",
        "colab": {
          "base_uri": "https://localhost:8080/"
        },
        "outputId": "17dcba0e-38e3-4e54-a93b-bc6a375ced02"
      },
      "source": [
        "np.ones(100)"
      ],
      "execution_count": null,
      "outputs": [
        {
          "output_type": "execute_result",
          "data": {
            "text/plain": [
              "array([1., 1., 1., 1., 1., 1., 1., 1., 1., 1., 1., 1., 1., 1., 1., 1., 1.,\n",
              "       1., 1., 1., 1., 1., 1., 1., 1., 1., 1., 1., 1., 1., 1., 1., 1., 1.,\n",
              "       1., 1., 1., 1., 1., 1., 1., 1., 1., 1., 1., 1., 1., 1., 1., 1., 1.,\n",
              "       1., 1., 1., 1., 1., 1., 1., 1., 1., 1., 1., 1., 1., 1., 1., 1., 1.,\n",
              "       1., 1., 1., 1., 1., 1., 1., 1., 1., 1., 1., 1., 1., 1., 1., 1., 1.,\n",
              "       1., 1., 1., 1., 1., 1., 1., 1., 1., 1., 1., 1., 1., 1., 1.])"
            ]
          },
          "metadata": {},
          "execution_count": 222
        }
      ]
    },
    {
      "cell_type": "code",
      "metadata": {
        "id": "lWCjWmKt_Uit"
      },
      "source": [
        "uns = np.ones(100)"
      ],
      "execution_count": null,
      "outputs": []
    },
    {
      "cell_type": "code",
      "metadata": {
        "colab": {
          "base_uri": "https://localhost:8080/"
        },
        "id": "N2nKqsWG_Y92",
        "outputId": "800b8047-9abd-41ae-a2fd-eb1214d4074e"
      },
      "source": [
        "uns.shape"
      ],
      "execution_count": null,
      "outputs": [
        {
          "output_type": "execute_result",
          "data": {
            "text/plain": [
              "(100,)"
            ]
          },
          "metadata": {},
          "execution_count": 224
        }
      ]
    },
    {
      "cell_type": "markdown",
      "metadata": {
        "id": "TG3thT09xdDW"
      },
      "source": [
        "Matriz identidade 10x10"
      ]
    },
    {
      "cell_type": "code",
      "metadata": {
        "id": "qsdzrSwwD0yN",
        "colab": {
          "base_uri": "https://localhost:8080/"
        },
        "outputId": "94a9bc43-837e-462f-aa50-83c21edbab48"
      },
      "source": [
        "np.identity(10)"
      ],
      "execution_count": null,
      "outputs": [
        {
          "output_type": "execute_result",
          "data": {
            "text/plain": [
              "array([[1., 0., 0., 0., 0., 0., 0., 0., 0., 0.],\n",
              "       [0., 1., 0., 0., 0., 0., 0., 0., 0., 0.],\n",
              "       [0., 0., 1., 0., 0., 0., 0., 0., 0., 0.],\n",
              "       [0., 0., 0., 1., 0., 0., 0., 0., 0., 0.],\n",
              "       [0., 0., 0., 0., 1., 0., 0., 0., 0., 0.],\n",
              "       [0., 0., 0., 0., 0., 1., 0., 0., 0., 0.],\n",
              "       [0., 0., 0., 0., 0., 0., 1., 0., 0., 0.],\n",
              "       [0., 0., 0., 0., 0., 0., 0., 1., 0., 0.],\n",
              "       [0., 0., 0., 0., 0., 0., 0., 0., 1., 0.],\n",
              "       [0., 0., 0., 0., 0., 0., 0., 0., 0., 1.]])"
            ]
          },
          "metadata": {},
          "execution_count": 227
        }
      ]
    },
    {
      "cell_type": "code",
      "metadata": {
        "id": "cVZL_ib4_enq"
      },
      "source": [
        "identidade = np.identity(10)"
      ],
      "execution_count": null,
      "outputs": []
    },
    {
      "cell_type": "code",
      "metadata": {
        "colab": {
          "base_uri": "https://localhost:8080/"
        },
        "id": "TpUnTtkU_oGo",
        "outputId": "8a4f89bd-6eca-484a-e2b2-7ac157fad126"
      },
      "source": [
        "identidade.shape"
      ],
      "execution_count": null,
      "outputs": [
        {
          "output_type": "execute_result",
          "data": {
            "text/plain": [
              "(10, 10)"
            ]
          },
          "metadata": {},
          "execution_count": 229
        }
      ]
    },
    {
      "cell_type": "markdown",
      "metadata": {
        "id": "_7GuhEVHx6Mf"
      },
      "source": [
        "## Alguns métodos matemáticos"
      ]
    },
    {
      "cell_type": "markdown",
      "metadata": {
        "id": "_LK7PzQAyPg-"
      },
      "source": [
        "### Raiz quadrada"
      ]
    },
    {
      "cell_type": "code",
      "metadata": {
        "id": "gEdajPVBD0yU",
        "colab": {
          "base_uri": "https://localhost:8080/"
        },
        "outputId": "1539bb74-1125-4f7b-a55c-e6944b2b5f1c"
      },
      "source": [
        "np.sqrt(81)"
      ],
      "execution_count": null,
      "outputs": [
        {
          "output_type": "execute_result",
          "data": {
            "text/plain": [
              "9.0"
            ]
          },
          "metadata": {},
          "execution_count": 231
        }
      ]
    },
    {
      "cell_type": "markdown",
      "metadata": {
        "id": "YYdQjmhTAEo8"
      },
      "source": [
        "Raiz quadarada no Python \"Raiz\":"
      ]
    },
    {
      "cell_type": "code",
      "metadata": {
        "colab": {
          "base_uri": "https://localhost:8080/"
        },
        "id": "pQx8xyYMAENs",
        "outputId": "dc134bb5-844e-440f-ad28-f82cbaf79e71"
      },
      "source": [
        "list(map(lambda x:x**(1/2), [1,4,9,25,36,49]))"
      ],
      "execution_count": null,
      "outputs": [
        {
          "output_type": "execute_result",
          "data": {
            "text/plain": [
              "[1.0, 2.0, 3.0, 5.0, 6.0, 7.0]"
            ]
          },
          "metadata": {},
          "execution_count": 234
        }
      ]
    },
    {
      "cell_type": "code",
      "source": [
        "map(lambda x:x**(1/2), [1,4,9,25,36,49])"
      ],
      "metadata": {
        "colab": {
          "base_uri": "https://localhost:8080/"
        },
        "id": "LHWy7IUop0C1",
        "outputId": "7ad93f41-f3de-4549-952f-4a2b7402019b"
      },
      "execution_count": null,
      "outputs": [
        {
          "output_type": "execute_result",
          "data": {
            "text/plain": [
              "<map at 0x7f285abb7190>"
            ]
          },
          "metadata": {},
          "execution_count": 235
        }
      ]
    },
    {
      "cell_type": "markdown",
      "metadata": {
        "id": "7VEe3zL9AX6-"
      },
      "source": [
        "Raiz quadrada no Python \"Numpy\":"
      ]
    },
    {
      "cell_type": "code",
      "metadata": {
        "id": "e4n-op_iyXJe",
        "colab": {
          "base_uri": "https://localhost:8080/"
        },
        "outputId": "4862e691-029f-4c2c-c65b-7e922357ee89"
      },
      "source": [
        "np.sqrt([1,4,9,25,36,49])"
      ],
      "execution_count": null,
      "outputs": [
        {
          "output_type": "execute_result",
          "data": {
            "text/plain": [
              "array([1., 2., 3., 5., 6., 7.])"
            ]
          },
          "metadata": {},
          "execution_count": 236
        }
      ]
    },
    {
      "cell_type": "markdown",
      "metadata": {
        "id": "FqBCW-w6yRLa"
      },
      "source": [
        "Módulo"
      ]
    },
    {
      "cell_type": "code",
      "metadata": {
        "id": "tZeFuAPZD0yY",
        "colab": {
          "base_uri": "https://localhost:8080/"
        },
        "outputId": "ae088ee1-ca41-4407-a850-2f7b67c3e7b0"
      },
      "source": [
        "np.abs([-4,20,-101])"
      ],
      "execution_count": null,
      "outputs": [
        {
          "output_type": "execute_result",
          "data": {
            "text/plain": [
              "array([  4,  20, 101])"
            ]
          },
          "metadata": {},
          "execution_count": 238
        }
      ]
    },
    {
      "cell_type": "code",
      "metadata": {
        "id": "loQTXc0ND0ye",
        "colab": {
          "base_uri": "https://localhost:8080/"
        },
        "outputId": "88823777-69bb-41c7-ac41-f84ed2177a41"
      },
      "source": [
        "np.cumsum([1,2,3,4,5,6,7,8])"
      ],
      "execution_count": null,
      "outputs": [
        {
          "output_type": "execute_result",
          "data": {
            "text/plain": [
              "array([ 1,  3,  6, 10, 15, 21, 28, 36])"
            ]
          },
          "metadata": {},
          "execution_count": 240
        }
      ]
    },
    {
      "cell_type": "code",
      "metadata": {
        "id": "IR7VrlXUD0yf"
      },
      "source": [
        "s = np.array([1,2,3,4,5,6,7,8])"
      ],
      "execution_count": null,
      "outputs": []
    },
    {
      "cell_type": "code",
      "metadata": {
        "colab": {
          "base_uri": "https://localhost:8080/"
        },
        "id": "iMAxkOXyAj2z",
        "outputId": "379008b1-6648-480b-c24b-1a9d1ecfdb46"
      },
      "source": [
        "s"
      ],
      "execution_count": null,
      "outputs": [
        {
          "output_type": "execute_result",
          "data": {
            "text/plain": [
              "array([1, 2, 3, 4, 5, 6, 7, 8])"
            ]
          },
          "metadata": {},
          "execution_count": 246
        }
      ]
    },
    {
      "cell_type": "markdown",
      "metadata": {
        "id": "TNZPnEzhyI-O"
      },
      "source": [
        "Média: as duas formas abaixo são equivalentes"
      ]
    },
    {
      "cell_type": "code",
      "metadata": {
        "id": "469qdEwID0yi",
        "colab": {
          "base_uri": "https://localhost:8080/"
        },
        "outputId": "0a753e05-7c82-40fc-f832-4cc83144af8b"
      },
      "source": [
        "np.mean(s)"
      ],
      "execution_count": null,
      "outputs": [
        {
          "output_type": "execute_result",
          "data": {
            "text/plain": [
              "4.5"
            ]
          },
          "metadata": {},
          "execution_count": 249
        }
      ]
    },
    {
      "cell_type": "code",
      "metadata": {
        "id": "79_Uym9lD0yk",
        "colab": {
          "base_uri": "https://localhost:8080/"
        },
        "outputId": "6d1270da-dd90-463f-87ed-9d851005bc1c"
      },
      "source": [
        "s.mean()"
      ],
      "execution_count": null,
      "outputs": [
        {
          "output_type": "execute_result",
          "data": {
            "text/plain": [
              "4.5"
            ]
          },
          "metadata": {},
          "execution_count": 250
        }
      ]
    },
    {
      "cell_type": "markdown",
      "metadata": {
        "id": "cjFV1FlxyisQ"
      },
      "source": [
        "Máximo"
      ]
    },
    {
      "cell_type": "code",
      "metadata": {
        "id": "CXQqIw9CD0ym",
        "colab": {
          "base_uri": "https://localhost:8080/"
        },
        "outputId": "e25a2dd6-75d2-4581-81cc-7a77cb6708a1"
      },
      "source": [
        "np.max([1,2,3,4,5,6,7,8])"
      ],
      "execution_count": null,
      "outputs": [
        {
          "output_type": "execute_result",
          "data": {
            "text/plain": [
              "8"
            ]
          },
          "metadata": {},
          "execution_count": 252
        }
      ]
    },
    {
      "cell_type": "code",
      "metadata": {
        "colab": {
          "base_uri": "https://localhost:8080/"
        },
        "id": "MX7LvZdeAvoN",
        "outputId": "3fc03b33-4d23-4435-f7bb-4e280e16271f"
      },
      "source": [
        "s.max()"
      ],
      "execution_count": null,
      "outputs": [
        {
          "output_type": "execute_result",
          "data": {
            "text/plain": [
              "8"
            ]
          },
          "metadata": {},
          "execution_count": 253
        }
      ]
    },
    {
      "cell_type": "markdown",
      "metadata": {
        "id": "L-9FK5E5yjyN"
      },
      "source": [
        "Mínimo"
      ]
    },
    {
      "cell_type": "code",
      "metadata": {
        "id": "9ZTNfXAPD0yo",
        "colab": {
          "base_uri": "https://localhost:8080/"
        },
        "outputId": "c9ec53c4-ec1c-4bce-9312-30fcffc9caa9"
      },
      "source": [
        "np.min([1,2,3,4,5,6,7,8])"
      ],
      "execution_count": null,
      "outputs": [
        {
          "output_type": "execute_result",
          "data": {
            "text/plain": [
              "1"
            ]
          },
          "metadata": {},
          "execution_count": 254
        }
      ]
    },
    {
      "cell_type": "code",
      "metadata": {
        "colab": {
          "base_uri": "https://localhost:8080/"
        },
        "id": "Pj6P5gvFA3EQ",
        "outputId": "5ebbc062-1de6-4023-dd93-92b752b388ee"
      },
      "source": [
        "s.min()"
      ],
      "execution_count": null,
      "outputs": [
        {
          "output_type": "execute_result",
          "data": {
            "text/plain": [
              "1"
            ]
          },
          "metadata": {},
          "execution_count": 255
        }
      ]
    },
    {
      "cell_type": "markdown",
      "metadata": {
        "id": "lU3RHPTCylJy"
      },
      "source": [
        "Desvio-padrão"
      ]
    },
    {
      "cell_type": "code",
      "metadata": {
        "id": "kQMwU34rD0yq",
        "colab": {
          "base_uri": "https://localhost:8080/"
        },
        "outputId": "098e575c-4077-437d-871e-a297835b519a"
      },
      "source": [
        "np.std([1,2,3,4,5,6,7,8])"
      ],
      "execution_count": null,
      "outputs": [
        {
          "output_type": "execute_result",
          "data": {
            "text/plain": [
              "2.29128784747792"
            ]
          },
          "metadata": {},
          "execution_count": 256
        }
      ]
    },
    {
      "cell_type": "code",
      "metadata": {
        "colab": {
          "base_uri": "https://localhost:8080/"
        },
        "id": "ZNWtt1_kA84r",
        "outputId": "ffae7e2a-c0a5-4d83-904d-d9a0ea4de4ab"
      },
      "source": [
        "s.std()"
      ],
      "execution_count": null,
      "outputs": [
        {
          "output_type": "execute_result",
          "data": {
            "text/plain": [
              "2.29128784747792"
            ]
          },
          "metadata": {},
          "execution_count": 257
        }
      ]
    },
    {
      "cell_type": "code",
      "metadata": {
        "id": "FGoAXF5zD0ys",
        "colab": {
          "base_uri": "https://localhost:8080/"
        },
        "outputId": "ff55a17e-452c-426a-cddc-759626f08b9f"
      },
      "source": [
        "np.log([100,60])"
      ],
      "execution_count": null,
      "outputs": [
        {
          "output_type": "execute_result",
          "data": {
            "text/plain": [
              "array([4.60517019, 4.09434456])"
            ]
          },
          "metadata": {},
          "execution_count": 258
        }
      ]
    },
    {
      "cell_type": "code",
      "metadata": {
        "colab": {
          "base_uri": "https://localhost:8080/"
        },
        "id": "Bxrsv_BKBZov",
        "outputId": "22bb03de-778e-409b-9f18-13fe77d496a4"
      },
      "source": [
        "np.log(s)"
      ],
      "execution_count": null,
      "outputs": [
        {
          "output_type": "execute_result",
          "data": {
            "text/plain": [
              "array([0.        , 0.69314718, 1.09861229, 1.38629436, 1.60943791,\n",
              "       1.79175947, 1.94591015, 2.07944154])"
            ]
          },
          "metadata": {},
          "execution_count": 259
        }
      ]
    },
    {
      "cell_type": "code",
      "metadata": {
        "id": "ROG07y3ZLu3H",
        "colab": {
          "base_uri": "https://localhost:8080/"
        },
        "outputId": "dddd4d65-cd82-43e4-f9d4-177f0aefffa8"
      },
      "source": [
        "np.median(s)"
      ],
      "execution_count": null,
      "outputs": [
        {
          "output_type": "execute_result",
          "data": {
            "text/plain": [
              "4.5"
            ]
          },
          "metadata": {},
          "execution_count": 260
        }
      ]
    },
    {
      "cell_type": "markdown",
      "metadata": {
        "id": "f6qmjk8cD0yJ"
      },
      "source": [
        "## Geração de números aleatórios\n",
        "\n",
        "### np.random.rand: distribuição uniforme\n"
      ]
    },
    {
      "cell_type": "code",
      "metadata": {
        "id": "-s5sXZLkxH1i",
        "colab": {
          "base_uri": "https://localhost:8080/"
        },
        "outputId": "64b288d3-20bf-4d0d-aee7-8452bc3cd5f6"
      },
      "source": [
        "np.random.rand(2,2)"
      ],
      "execution_count": null,
      "outputs": [
        {
          "output_type": "execute_result",
          "data": {
            "text/plain": [
              "array([[0.90275653, 0.20230623],\n",
              "       [0.9361976 , 0.80496704]])"
            ]
          },
          "metadata": {},
          "execution_count": 273
        }
      ]
    },
    {
      "cell_type": "code",
      "metadata": {
        "colab": {
          "base_uri": "https://localhost:8080/",
          "height": 375
        },
        "id": "tcK38Nt2Cdut",
        "outputId": "6cf846bf-6c1a-48a3-c6de-4a9fdac1f919"
      },
      "source": [
        "uniformes = np.random.rand(10000)\n",
        "plt.hist(uniformes)"
      ],
      "execution_count": null,
      "outputs": [
        {
          "output_type": "execute_result",
          "data": {
            "text/plain": [
              "(array([1032., 1032.,  944., 1026.,  984.,  988., 1029.,  968., 1002.,\n",
              "         995.]),\n",
              " array([1.84995741e-05, 1.00004103e-01, 1.99989707e-01, 2.99975311e-01,\n",
              "        3.99960915e-01, 4.99946519e-01, 5.99932123e-01, 6.99917727e-01,\n",
              "        7.99903331e-01, 8.99888935e-01, 9.99874539e-01]),\n",
              " <a list of 10 Patch objects>)"
            ]
          },
          "metadata": {},
          "execution_count": 310
        },
        {
          "output_type": "display_data",
          "data": {
            "image/png": "[encoded data removed]",
            "text/plain": [
              "<Figure size 432x288 with 1 Axes>"
            ]
          },
          "metadata": {
            "needs_background": "light"
          }
        }
      ]
    },
    {
      "cell_type": "code",
      "metadata": {
        "id": "m1CenjoDCGOC"
      },
      "source": [
        "np.random.rand?"
      ],
      "execution_count": null,
      "outputs": []
    },
    {
      "cell_type": "code",
      "metadata": {
        "id": "_g3NbxCTD0yJ",
        "colab": {
          "base_uri": "https://localhost:8080/"
        },
        "outputId": "79919b9c-d35a-4903-fb5d-20b91ebc4f6b"
      },
      "source": [
        "meuarray =np.random.rand(2, 2, 2)\n",
        "print(meuarray.ndim)\n",
        "meuarray"
      ],
      "execution_count": null,
      "outputs": [
        {
          "output_type": "stream",
          "name": "stdout",
          "text": [
            "3\n"
          ]
        },
        {
          "output_type": "execute_result",
          "data": {
            "text/plain": [
              "array([[[0.90488443, 0.89334372],\n",
              "        [0.42018969, 0.14130093]],\n",
              "\n",
              "       [[0.16569361, 0.64398468],\n",
              "        [0.19161871, 0.28105618]]])"
            ]
          },
          "metadata": {},
          "execution_count": 315
        }
      ]
    },
    {
      "cell_type": "code",
      "metadata": {
        "colab": {
          "base_uri": "https://localhost:8080/"
        },
        "id": "gXMalRfiD5H1",
        "outputId": "1a599930-cbfe-41af-ce7e-da40887190d9"
      },
      "source": [
        "meuarray[0,0,0]"
      ],
      "execution_count": null,
      "outputs": [
        {
          "output_type": "execute_result",
          "data": {
            "text/plain": [
              "0.9048844284402601"
            ]
          },
          "metadata": {},
          "execution_count": 316
        }
      ]
    },
    {
      "cell_type": "code",
      "metadata": {
        "colab": {
          "base_uri": "https://localhost:8080/"
        },
        "id": "BYXf-UqFEBss",
        "outputId": "90bb5556-8ee2-4c38-e413-55b28d385c9d"
      },
      "source": [
        "meuarray[1,0,0]"
      ],
      "execution_count": null,
      "outputs": [
        {
          "output_type": "execute_result",
          "data": {
            "text/plain": [
              "0.1656936124941072"
            ]
          },
          "metadata": {},
          "execution_count": 317
        }
      ]
    },
    {
      "cell_type": "code",
      "metadata": {
        "id": "sr2V5evkwRSV"
      },
      "source": [
        "help(np.random.rand)"
      ],
      "execution_count": null,
      "outputs": []
    },
    {
      "cell_type": "markdown",
      "metadata": {
        "id": "VI-CJgWtcoY0"
      },
      "source": [
        "Apenas Inteiros [start,stop,size]"
      ]
    },
    {
      "cell_type": "code",
      "metadata": {
        "id": "KYK7IHkGxdGx"
      },
      "source": [
        "help(np.random.randint)"
      ],
      "execution_count": null,
      "outputs": []
    },
    {
      "cell_type": "code",
      "metadata": {
        "id": "MqCCEGSS_9Eu",
        "colab": {
          "base_uri": "https://localhost:8080/"
        },
        "outputId": "1c328d49-9d4e-4745-f160-b5a02f863e84"
      },
      "source": [
        "np.random.randint(2,10)"
      ],
      "execution_count": null,
      "outputs": [
        {
          "output_type": "execute_result",
          "data": {
            "text/plain": [
              "2"
            ]
          },
          "metadata": {},
          "execution_count": 324
        }
      ]
    },
    {
      "cell_type": "code",
      "metadata": {
        "id": "vvvrjWnU_3bN",
        "colab": {
          "base_uri": "https://localhost:8080/"
        },
        "outputId": "5c7310bc-e8d9-4ad1-da66-cc11337b61c8"
      },
      "source": [
        "np.random.randint(1,10,10)"
      ],
      "execution_count": null,
      "outputs": [
        {
          "output_type": "execute_result",
          "data": {
            "text/plain": [
              "array([8, 4, 9, 6, 5, 2, 8, 4, 4, 3])"
            ]
          },
          "metadata": {},
          "execution_count": 329
        }
      ]
    },
    {
      "cell_type": "markdown",
      "metadata": {
        "id": "NgbYeERCD0yu"
      },
      "source": [
        "# Regressão Linear - Forma clássica"
      ]
    },
    {
      "cell_type": "markdown",
      "metadata": {
        "id": "t3t3xl-6D0yv"
      },
      "source": [
        "### $y_i = \\beta_1 + \\beta_2 x_{1,i} + \\epsilon_i, i = 1$,  $\\ldots, n$\n",
        "\n",
        "### $\\beta_1 = 4, \\beta_2=3$"
      ]
    },
    {
      "cell_type": "markdown",
      "source": [
        "## Em forma matricial."
      ],
      "metadata": {
        "id": "ODNBqenm49J2"
      }
    },
    {
      "cell_type": "markdown",
      "source": [
        "$\\mathbf{y}_{(n,1)} = \\begin{bmatrix}\n",
        "     y_{1} \\\\\n",
        "     y_{2} \\\\\n",
        "     \\vdots \\\\\n",
        "     y_{n} \\\\\n",
        "\\end{bmatrix} $"
      ],
      "metadata": {
        "id": "rSnAi6CF2rl_"
      }
    },
    {
      "cell_type": "markdown",
      "source": [
        "$ \\mathbf{X}_{(n, 2)} = \\begin{bmatrix}\n",
        "    1 & x_{1} \\\\\n",
        "    1 & x_{2} \\\\\n",
        "    \\vdots & \\vdots \\\\\n",
        "    1 & x_{n} \\\\\n",
        "\\end{bmatrix} $"
      ],
      "metadata": {
        "id": "6GBJcdp13AD6"
      }
    },
    {
      "cell_type": "markdown",
      "source": [
        "$\\mathbf{ϵ}_{(n,1)} = \\begin{bmatrix}\n",
        "     ϵ_{1} \\\\\n",
        "     ϵ_{2} \\\\\n",
        "     \\vdots \\\\\n",
        "     ϵ_{n} \\\\\n",
        "\\end{bmatrix} $"
      ],
      "metadata": {
        "id": "GZmfchQ24c5y"
      }
    },
    {
      "cell_type": "markdown",
      "source": [
        "$\\mathbf{ϵ}_{(1,n)}' = (ϵ_{1}, ϵ_{2}, \\ldots, ϵ_{n}) $"
      ],
      "metadata": {
        "id": "yLin7iyH7RVT"
      }
    },
    {
      "cell_type": "markdown",
      "source": [
        "$ \\mathbf{\\beta}_{(2,1)} = \\begin{bmatrix}\n",
        "    \\beta_{1} \\\\\n",
        "    \\beta_{2} \\\\\n",
        "\\end{bmatrix} $"
      ],
      "metadata": {
        "id": "ZK0vPFt91som"
      }
    },
    {
      "cell_type": "markdown",
      "source": [
        "$ y_{(n, 1)} =  \\mathbf{X}_{(n, 2)}\\beta_{(2,1)}  + \\epsilon_{(n, 1)} $"
      ],
      "metadata": {
        "id": "jqw3ZEy20zWT"
      }
    },
    {
      "cell_type": "markdown",
      "source": [
        "$ y =  \\mathbf{X}\\beta  + \\epsilon $"
      ],
      "metadata": {
        "id": "JNjALXYr7Bwc"
      }
    },
    {
      "cell_type": "markdown",
      "source": [
        "$  \\epsilon =  y -  \\mathbf{X}\\beta   $"
      ],
      "metadata": {
        "id": "Qu4tBHcP6MOt"
      }
    },
    {
      "cell_type": "markdown",
      "source": [
        "$ \\sum_{i=1}^{n} \\epsilon_i^2 =  \\epsilon' \\epsilon =  (y -   \\mathbf{X}\\beta)'(y -   \\mathbf{X}\\beta)  $"
      ],
      "metadata": {
        "id": "FJiQJABa5PT3"
      }
    },
    {
      "cell_type": "markdown",
      "source": [
        "O problema a ser resolvido é:\n",
        "\n",
        "$ \\hat{\\beta} =  \\argmin_{β}{\\sum_{i=1}^{n} \\epsilon_i^2} =  \\epsilon' \\epsilon =  \\argmin_{β} (y -   \\mathbf{X}\\beta)'(y -   \\mathbf{X}\\beta)  $"
      ],
      "metadata": {
        "id": "HrBSD8mR78GY"
      }
    },
    {
      "cell_type": "markdown",
      "metadata": {
        "id": "eWQKvmCGxpzc"
      },
      "source": [
        "## Geração de números aleatórios com o Numpy\n",
        "https://docs.scipy.org/doc/numpy-1.14.0/reference/routines.random.html"
      ]
    },
    {
      "cell_type": "markdown",
      "metadata": {
        "id": "bJOWY56eBA0P"
      },
      "source": [
        "Seed fixa os números aleatórios"
      ]
    },
    {
      "cell_type": "code",
      "metadata": {
        "id": "r2B-xP4qA06M"
      },
      "source": [
        "np.random.seed(42)"
      ],
      "execution_count": null,
      "outputs": []
    },
    {
      "cell_type": "code",
      "metadata": {
        "id": "hcXM5RgKD0yw"
      },
      "source": [
        "X = 2 * np.random.rand(100, 1) # x aleatório\n",
        "y = 4 + 3 * X + np.random.randn(100, 1) # adiciona erro aleatório normalmente distribuídos!"
      ],
      "execution_count": null,
      "outputs": []
    },
    {
      "cell_type": "code",
      "metadata": {
        "id": "N1KA459nD0yy",
        "colab": {
          "base_uri": "https://localhost:8080/",
          "height": 575
        },
        "outputId": "291e7a6d-ccb8-44a2-f23a-137354b70c38"
      },
      "source": [
        "plt.plot(X, y, \"g.\")\n",
        "plt.xlabel(\"$x_1$\", fontsize=18)\n",
        "plt.ylabel(\"$y$\", fontsize=18, rotation=0)\n",
        "plt.axis([0, 2, 0, 15])\n",
        "plt.show()\n",
        "plt.plot(X, y, \"r.\")\n",
        "plt.xlabel(\"$x_1$\", fontsize=18)\n",
        "plt.ylabel(\"$y$\", fontsize=18, rotation=0)\n",
        "plt.axis([0, 2, 0, 15])"
      ],
      "execution_count": null,
      "outputs": [
        {
          "output_type": "display_data",
          "data": {
            "image/png": "[encoded data removed]",
            "text/plain": [
              "<Figure size 432x288 with 1 Axes>"
            ]
          },
          "metadata": {
            "needs_background": "light"
          }
        },
        {
          "output_type": "execute_result",
          "data": {
            "text/plain": [
              "(0.0, 2.0, 0.0, 15.0)"
            ]
          },
          "metadata": {},
          "execution_count": 337
        },
        {
          "output_type": "display_data",
          "data": {
            "image/png": "[encoded data removed]",
            "text/plain": [
              "<Figure size 432x288 with 1 Axes>"
            ]
          },
          "metadata": {
            "needs_background": "light"
          }
        }
      ]
    },
    {
      "cell_type": "markdown",
      "metadata": {
        "id": "jMQqGpKLD0yz"
      },
      "source": [
        "### Forma fechada do estimador de mínimos quadrados ordinários"
      ]
    },
    {
      "cell_type": "markdown",
      "metadata": {
        "id": "-M5R89IRD0y0"
      },
      "source": [
        "\n",
        "\n",
        "```\n",
        "# Isto está formatado como código\n",
        "```\n",
        "\n",
        "### $ \\hat \\beta = (\\mathbf{X'X})^{-1} \\mathbf{X'}y$"
      ]
    },
    {
      "cell_type": "markdown",
      "metadata": {
        "id": "weeHniXuBkhz"
      },
      "source": [
        "- np.c_ concatena arrays\n",
        "- np.dot aplica multiplicação de matrizes em uma matriz (array 2D) ou produto interno no caso de vetores (array 1D)"
      ]
    },
    {
      "cell_type": "markdown",
      "metadata": {
        "id": "dy91UasOJY0e"
      },
      "source": [
        "$$ \\mathbf{X} = \\begin{bmatrix}\n",
        "    1 & x_{11} \\\\\n",
        "    1 & x_{21} \\\\\n",
        "    \\vdots & \\vdots \\\\\n",
        "    1 & x_{n} \\\\\n",
        "\\end{bmatrix} $$"
      ]
    },
    {
      "cell_type": "code",
      "metadata": {
        "id": "iFb41yjJD0y0"
      },
      "source": [
        "X_b = np.c_[np.ones(100), X]  # adiciona constante"
      ],
      "execution_count": null,
      "outputs": []
    },
    {
      "cell_type": "markdown",
      "metadata": {
        "id": "Ekz6c804MBKs"
      },
      "source": [
        "### $X$:"
      ]
    },
    {
      "cell_type": "code",
      "metadata": {
        "id": "OqIwH3eeKkfG",
        "colab": {
          "base_uri": "https://localhost:8080/"
        },
        "outputId": "5d0b2065-b396-4ef0-8bd1-fc59d4770fae"
      },
      "source": [
        "X_b"
      ],
      "execution_count": null,
      "outputs": [
        {
          "output_type": "execute_result",
          "data": {
            "text/plain": [
              "array([[1.        , 0.74908024],\n",
              "       [1.        , 1.90142861],\n",
              "       [1.        , 1.46398788],\n",
              "       [1.        , 1.19731697],\n",
              "       [1.        , 0.31203728],\n",
              "       [1.        , 0.31198904],\n",
              "       [1.        , 0.11616722],\n",
              "       [1.        , 1.73235229],\n",
              "       [1.        , 1.20223002],\n",
              "       [1.        , 1.41614516],\n",
              "       [1.        , 0.04116899],\n",
              "       [1.        , 1.9398197 ],\n",
              "       [1.        , 1.66488528],\n",
              "       [1.        , 0.42467822],\n",
              "       [1.        , 0.36364993],\n",
              "       [1.        , 0.36680902],\n",
              "       [1.        , 0.60848449],\n",
              "       [1.        , 1.04951286],\n",
              "       [1.        , 0.86389004],\n",
              "       [1.        , 0.58245828],\n",
              "       [1.        , 1.22370579],\n",
              "       [1.        , 0.27898772],\n",
              "       [1.        , 0.5842893 ],\n",
              "       [1.        , 0.73272369],\n",
              "       [1.        , 0.91213997],\n",
              "       [1.        , 1.57035192],\n",
              "       [1.        , 0.39934756],\n",
              "       [1.        , 1.02846888],\n",
              "       [1.        , 1.18482914],\n",
              "       [1.        , 0.09290083],\n",
              "       [1.        , 1.2150897 ],\n",
              "       [1.        , 0.34104825],\n",
              "       [1.        , 0.13010319],\n",
              "       [1.        , 1.89777107],\n",
              "       [1.        , 1.93126407],\n",
              "       [1.        , 1.6167947 ],\n",
              "       [1.        , 0.60922754],\n",
              "       [1.        , 0.19534423],\n",
              "       [1.        , 1.36846605],\n",
              "       [1.        , 0.88030499],\n",
              "       [1.        , 0.24407647],\n",
              "       [1.        , 0.99035382],\n",
              "       [1.        , 0.06877704],\n",
              "       [1.        , 1.8186408 ],\n",
              "       [1.        , 0.51755996],\n",
              "       [1.        , 1.32504457],\n",
              "       [1.        , 0.62342215],\n",
              "       [1.        , 1.04013604],\n",
              "       [1.        , 1.09342056],\n",
              "       [1.        , 0.36970891],\n",
              "       [1.        , 1.93916926],\n",
              "       [1.        , 1.55026565],\n",
              "       [1.        , 1.87899788],\n",
              "       [1.        , 1.7896547 ],\n",
              "       [1.        , 1.19579996],\n",
              "       [1.        , 1.84374847],\n",
              "       [1.        , 0.176985  ],\n",
              "       [1.        , 0.39196572],\n",
              "       [1.        , 0.09045458],\n",
              "       [1.        , 0.65066066],\n",
              "       [1.        , 0.77735458],\n",
              "       [1.        , 0.54269806],\n",
              "       [1.        , 1.65747502],\n",
              "       [1.        , 0.71350665],\n",
              "       [1.        , 0.56186902],\n",
              "       [1.        , 1.08539217],\n",
              "       [1.        , 0.28184845],\n",
              "       [1.        , 1.60439396],\n",
              "       [1.        , 0.14910129],\n",
              "       [1.        , 1.97377387],\n",
              "       [1.        , 1.54448954],\n",
              "       [1.        , 0.39743136],\n",
              "       [1.        , 0.01104423],\n",
              "       [1.        , 1.63092286],\n",
              "       [1.        , 1.41371469],\n",
              "       [1.        , 1.45801434],\n",
              "       [1.        , 1.54254069],\n",
              "       [1.        , 0.1480893 ],\n",
              "       [1.        , 0.71693146],\n",
              "       [1.        , 0.23173812],\n",
              "       [1.        , 1.72620685],\n",
              "       [1.        , 1.24659625],\n",
              "       [1.        , 0.66179605],\n",
              "       [1.        , 0.1271167 ],\n",
              "       [1.        , 0.62196464],\n",
              "       [1.        , 0.65036664],\n",
              "       [1.        , 1.45921236],\n",
              "       [1.        , 1.27511494],\n",
              "       [1.        , 1.77442549],\n",
              "       [1.        , 0.94442985],\n",
              "       [1.        , 0.23918849],\n",
              "       [1.        , 1.42648957],\n",
              "       [1.        , 1.5215701 ],\n",
              "       [1.        , 1.1225544 ],\n",
              "       [1.        , 1.54193436],\n",
              "       [1.        , 0.98759119],\n",
              "       [1.        , 1.04546566],\n",
              "       [1.        , 0.85508204],\n",
              "       [1.        , 0.05083825],\n",
              "       [1.        , 0.21578285]])"
            ]
          },
          "metadata": {},
          "execution_count": 339
        }
      ]
    },
    {
      "cell_type": "markdown",
      "metadata": {
        "id": "qVjEA2HrL5O0"
      },
      "source": [
        "$\\mathbf{X'}$:"
      ]
    },
    {
      "cell_type": "code",
      "metadata": {
        "colab": {
          "base_uri": "https://localhost:8080/"
        },
        "id": "zeknnqwxLNzv",
        "outputId": "e64a6f50-d746-4f31-f572-a2ad64d2048b"
      },
      "source": [
        "X_b.T"
      ],
      "execution_count": null,
      "outputs": [
        {
          "output_type": "execute_result",
          "data": {
            "text/plain": [
              "array([[1.        , 1.        , 1.        , 1.        , 1.        ,\n",
              "        1.        , 1.        , 1.        , 1.        , 1.        ,\n",
              "        1.        , 1.        , 1.        , 1.        , 1.        ,\n",
              "        1.        , 1.        , 1.        , 1.        , 1.        ,\n",
              "        1.        , 1.        , 1.        , 1.        , 1.        ,\n",
              "        1.        , 1.        , 1.        , 1.        , 1.        ,\n",
              "        1.        , 1.        , 1.        , 1.        , 1.        ,\n",
              "        1.        , 1.        , 1.        , 1.        , 1.        ,\n",
              "        1.        , 1.        , 1.        , 1.        , 1.        ,\n",
              "        1.        , 1.        , 1.        , 1.        , 1.        ,\n",
              "        1.        , 1.        , 1.        , 1.        , 1.        ,\n",
              "        1.        , 1.        , 1.        , 1.        , 1.        ,\n",
              "        1.        , 1.        , 1.        , 1.        , 1.        ,\n",
              "        1.        , 1.        , 1.        , 1.        , 1.        ,\n",
              "        1.        , 1.        , 1.        , 1.        , 1.        ,\n",
              "        1.        , 1.        , 1.        , 1.        , 1.        ,\n",
              "        1.        , 1.        , 1.        , 1.        , 1.        ,\n",
              "        1.        , 1.        , 1.        , 1.        , 1.        ,\n",
              "        1.        , 1.        , 1.        , 1.        , 1.        ,\n",
              "        1.        , 1.        , 1.        , 1.        , 1.        ],\n",
              "       [0.74908024, 1.90142861, 1.46398788, 1.19731697, 0.31203728,\n",
              "        0.31198904, 0.11616722, 1.73235229, 1.20223002, 1.41614516,\n",
              "        0.04116899, 1.9398197 , 1.66488528, 0.42467822, 0.36364993,\n",
              "        0.36680902, 0.60848449, 1.04951286, 0.86389004, 0.58245828,\n",
              "        1.22370579, 0.27898772, 0.5842893 , 0.73272369, 0.91213997,\n",
              "        1.57035192, 0.39934756, 1.02846888, 1.18482914, 0.09290083,\n",
              "        1.2150897 , 0.34104825, 0.13010319, 1.89777107, 1.93126407,\n",
              "        1.6167947 , 0.60922754, 0.19534423, 1.36846605, 0.88030499,\n",
              "        0.24407647, 0.99035382, 0.06877704, 1.8186408 , 0.51755996,\n",
              "        1.32504457, 0.62342215, 1.04013604, 1.09342056, 0.36970891,\n",
              "        1.93916926, 1.55026565, 1.87899788, 1.7896547 , 1.19579996,\n",
              "        1.84374847, 0.176985  , 0.39196572, 0.09045458, 0.65066066,\n",
              "        0.77735458, 0.54269806, 1.65747502, 0.71350665, 0.56186902,\n",
              "        1.08539217, 0.28184845, 1.60439396, 0.14910129, 1.97377387,\n",
              "        1.54448954, 0.39743136, 0.01104423, 1.63092286, 1.41371469,\n",
              "        1.45801434, 1.54254069, 0.1480893 , 0.71693146, 0.23173812,\n",
              "        1.72620685, 1.24659625, 0.66179605, 0.1271167 , 0.62196464,\n",
              "        0.65036664, 1.45921236, 1.27511494, 1.77442549, 0.94442985,\n",
              "        0.23918849, 1.42648957, 1.5215701 , 1.1225544 , 1.54193436,\n",
              "        0.98759119, 1.04546566, 0.85508204, 0.05083825, 0.21578285]])"
            ]
          },
          "metadata": {},
          "execution_count": 352
        }
      ]
    },
    {
      "cell_type": "markdown",
      "metadata": {
        "id": "xs9eQ2n4Lznf"
      },
      "source": [
        "### $ \\mathbf{X'X}$:"
      ]
    },
    {
      "cell_type": "code",
      "metadata": {
        "colab": {
          "base_uri": "https://localhost:8080/"
        },
        "id": "sgP-rXLzLYns",
        "outputId": "b253547d-382f-41bf-c0c9-888750372d2c"
      },
      "source": [
        "X_b.T.dot(X_b)"
      ],
      "execution_count": null,
      "outputs": [
        {
          "output_type": "execute_result",
          "data": {
            "text/plain": [
              "array([[100.        ,  94.03614868],\n",
              "       [ 94.03614868, 123.47395265]])"
            ]
          },
          "metadata": {},
          "execution_count": 341
        }
      ]
    },
    {
      "cell_type": "markdown",
      "metadata": {
        "id": "S9Db59W5MU2X"
      },
      "source": [
        "### $(\\mathbf{X'X})^{-1}$:"
      ]
    },
    {
      "cell_type": "code",
      "metadata": {
        "colab": {
          "base_uri": "https://localhost:8080/"
        },
        "id": "WRiDLJ5wLoaq",
        "outputId": "88bff309-22f9-4e48-bc35-9579fa6437ed"
      },
      "source": [
        "np.linalg.inv(X_b.T.dot(X_b))"
      ],
      "execution_count": null,
      "outputs": [
        {
          "output_type": "execute_result",
          "data": {
            "text/plain": [
              "array([[ 0.03523199, -0.02683222],\n",
              "       [-0.02683222,  0.02853394]])"
            ]
          },
          "metadata": {},
          "execution_count": 342
        }
      ]
    },
    {
      "cell_type": "markdown",
      "metadata": {
        "id": "6Mn__szqMcqT"
      },
      "source": [
        "### $ \\mathbf{X'}y$:"
      ]
    },
    {
      "cell_type": "code",
      "metadata": {
        "colab": {
          "base_uri": "https://localhost:8080/"
        },
        "id": "jhTE48tbLeTI",
        "outputId": "4f5b05d0-a516-4c7d-92f2-4e17d0bf9a34"
      },
      "source": [
        "(X_b.T).dot(y)"
      ],
      "execution_count": null,
      "outputs": [
        {
          "output_type": "execute_result",
          "data": {
            "text/plain": [
              "array([[682.00041001],\n",
              "       [738.40825805]])"
            ]
          },
          "metadata": {},
          "execution_count": 343
        }
      ]
    },
    {
      "cell_type": "markdown",
      "metadata": {
        "id": "GkHOWAkSMh6s"
      },
      "source": [
        "$ \\hat \\beta = (\\mathbf{X'X})^{-1} \\mathbf{X'}y$:"
      ]
    },
    {
      "cell_type": "code",
      "metadata": {
        "id": "67M9x8-JKjk2"
      },
      "source": [
        "# aplicando a fórmula acima\n",
        "beta_best = np.linalg.inv(X_b.T.dot(X_b)).dot(X_b.T).dot(y)"
      ],
      "execution_count": null,
      "outputs": []
    },
    {
      "cell_type": "code",
      "metadata": {
        "id": "14cSusOhD0y1",
        "colab": {
          "base_uri": "https://localhost:8080/"
        },
        "outputId": "9185daec-bb65-4a90-c6d3-a08f127cfdf2"
      },
      "source": [
        "beta_best"
      ],
      "execution_count": null,
      "outputs": [
        {
          "output_type": "execute_result",
          "data": {
            "text/plain": [
              "array([[4.21509616],\n",
              "       [2.77011339]])"
            ]
          },
          "metadata": {},
          "execution_count": 354
        }
      ]
    },
    {
      "cell_type": "markdown",
      "metadata": {
        "id": "IxtAGwx6D0y3"
      },
      "source": [
        "### Resultado $\\hat{\\beta_1} = 4.21, \\hat{\\beta_2} = 2.77$"
      ]
    },
    {
      "cell_type": "markdown",
      "metadata": {
        "id": "xnR9ir1CBMbI"
      },
      "source": [
        "**Se dados X = 0 e X = 2, qual será o meu $\\hat{y}$?**"
      ]
    },
    {
      "cell_type": "code",
      "metadata": {
        "id": "FM0mc_uiD0y6",
        "colab": {
          "base_uri": "https://localhost:8080/"
        },
        "outputId": "8c5daca1-f33d-4e30-8ced-96a6a1b468dc"
      },
      "source": [
        "X_new = np.array([[0], [2]])\n",
        "X_new_b = np.c_[np.ones((2, 1)), X_new]  # add x0 = 1 to each instance\n",
        "y_predict = X_new_b.dot(beta_best)\n",
        "y_predict"
      ],
      "execution_count": null,
      "outputs": [
        {
          "output_type": "execute_result",
          "data": {
            "text/plain": [
              "array([[4.21509616],\n",
              "       [9.75532293]])"
            ]
          },
          "metadata": {},
          "execution_count": 346
        }
      ]
    },
    {
      "cell_type": "markdown",
      "metadata": {
        "id": "Tsv9jMQrD0y8"
      },
      "source": [
        "Prevendo com novos dados\n",
        "\n",
        "$\\hat{y} = 4.21 + 2.77\\times0 = 4.21$\n",
        "<br>\n",
        "$\\hat{y} = 4.21 + 2.77\\times2 = 9.75$"
      ]
    },
    {
      "cell_type": "code",
      "metadata": {
        "id": "4jAYYWqjD0y9",
        "colab": {
          "base_uri": "https://localhost:8080/",
          "height": 265
        },
        "outputId": "e0e8ee76-e6c4-4a6a-9297-efd2adc412e3"
      },
      "source": [
        "plt.plot(X_new, y_predict, \"r-\") # ligando o 0 ao 2\n",
        "plt.plot(X, y, \"g.\")\n",
        "plt.axis([0, 2, 0, 15])\n",
        "plt.show()"
      ],
      "execution_count": null,
      "outputs": [
        {
          "output_type": "display_data",
          "data": {
            "image/png": "[encoded data removed]",
            "text/plain": [
              "<Figure size 432x288 with 1 Axes>"
            ]
          },
          "metadata": {
            "needs_background": "light"
          }
        }
      ]
    },
    {
      "cell_type": "markdown",
      "metadata": {
        "id": "IMHnYP-_yD_i"
      },
      "source": [
        "### Lista de Exercícios\n",
        "\n",
        "Entrega dia 31-03-2022 até o horário da aula"
      ]
    },
    {
      "cell_type": "markdown",
      "metadata": {
        "id": "NgBRgxZY10E5"
      },
      "source": [
        "#### **Numpy**"
      ]
    },
    {
      "cell_type": "markdown",
      "metadata": {
        "id": "1-Iv0L2W1hkm"
      },
      "source": [
        "1) Crie um array 30x30 com valores aleatórios e ache o menor e o maior valor."
      ]
    },
    {
      "cell_type": "markdown",
      "metadata": {
        "id": "_yVp_JdFWQGx"
      },
      "source": [
        "2) Explique com um exemplo a diferença do método np.dot para uma multiplicação usando *."
      ]
    },
    {
      "cell_type": "markdown",
      "metadata": {
        "id": "ouIzsBuEzGs8"
      },
      "source": [
        "3) Crie um vetor de tamanho 100 cujos elementos formam um intervalo de mesmo tamanho com o elemento subsequente. O primeiro número é o zero e o último é o um."
      ]
    },
    {
      "cell_type": "markdown",
      "metadata": {
        "id": "gD7-Y1Wb1b_v"
      },
      "source": [
        "4) Crie uma função que receba um inteiro N e retorne um array NxN com  apenas o número 1 na \"borda\" e 0 dentro"
      ]
    },
    {
      "cell_type": "code",
      "metadata": {
        "id": "mwbKj4-I5JBM",
        "colab": {
          "base_uri": "https://localhost:8080/"
        },
        "outputId": "37504335-adf4-46f9-82fd-b7cfbb377d82"
      },
      "source": [
        "# Exemplo de um array nesse formato\n",
        "a = np.array([[1., 1., 1., 1.],\n",
        "       [1., 0., 0., 1.],\n",
        "       [1., 0., 0., 1.],\n",
        "       [1., 1., 1., 1.]])\n",
        "print(a)"
      ],
      "execution_count": null,
      "outputs": [
        {
          "output_type": "stream",
          "name": "stdout",
          "text": [
            "[[1. 1. 1. 1.]\n",
            " [1. 0. 0. 1.]\n",
            " [1. 0. 0. 1.]\n",
            " [1. 1. 1. 1.]]\n"
          ]
        }
      ]
    },
    {
      "cell_type": "markdown",
      "metadata": {
        "id": "HhKPZd_Y1j13"
      },
      "source": [
        "#### **Condicional e Loop (Project Euler)**"
      ]
    },
    {
      "cell_type": "markdown",
      "metadata": {
        "id": "Eue02vXS1-Iy"
      },
      "source": [
        "5) Project Euler #4 https://projecteuler.net/problem=4"
      ]
    },
    {
      "cell_type": "markdown",
      "metadata": {
        "id": "j5H7t8SU2PZT"
      },
      "source": [
        "\n",
        "Um palíndromo é um número que lendo da esquerda para a direita ou da direita para a esquerda são iguais. O maior palíndromo gerado pelo produto de dois inteiros com 2 dígitos é 9009 = 91 x 99.\n",
        "\n",
        "Qual é o maior palíndromo gerado pelo produto de dois inteiros com 3 dígitos?\n",
        "\n",
        "**Dica** Como inverter uma string?"
      ]
    },
    {
      "cell_type": "code",
      "metadata": {
        "id": "R26fldlBUDr0",
        "colab": {
          "base_uri": "https://localhost:8080/",
          "height": 882
        },
        "outputId": "9f45e3e6-9f80-4dbd-ce72-e6e06f0267f8"
      },
      "source": [
        "#[start:stop:step] -> Essa estrutura de indexação vale para listas também\n",
        "\n",
        "'Uma string pode ser invertida por indexação'[-1::-1]"
      ],
      "execution_count": null,
      "outputs": [
        {
          "output_type": "execute_result",
          "data": {
            "application/vnd.google.colaboratory.intrinsic+json": {
              "type": "string"
            },
            "text/plain": [
              "'oãçaxedni rop aditrevni res edop gnirts amU'"
            ]
          },
          "metadata": {},
          "execution_count": 359
        }
      ]
    }
  ]
}