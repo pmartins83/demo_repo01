{
  "nbformat": 4,
  "nbformat_minor": 0,
  "metadata": {
    "kernelspec": {
      "display_name": "Python 3",
      "language": "python",
      "name": "python3"
    },
    "language_info": {
      "codemirror_mode": {
        "name": "ipython",
        "version": 3
      },
      "file_extension": ".py",
      "mimetype": "text/x-python",
      "name": "python",
      "nbconvert_exporter": "python",
      "pygments_lexer": "ipython3",
      "version": "3.7.6"
    },
    "colab": {
      "provenance": [],
      "collapsed_sections": [
        "t3t3xl-6D0yv"
      ],
      "include_colab_link": true
    }
  },
  "cells": [
    {
      "cell_type": "markdown",
      "metadata": {
        "id": "view-in-github",
        "colab_type": "text"
      },
      "source": [
        "<a href=\"https://colab.research.google.com/github/pmartins83/demo_repo01/blob/main/Aula_10_Numpy_Parte_II.ipynb\" target=\"_parent\"><img src=\"https://colab.research.google.com/assets/colab-badge.svg\" alt=\"Open In Colab\"/></a>"
      ]
    },
    {
      "cell_type": "markdown",
      "metadata": {
        "id": "3x1QH2-iO9bL"
      },
      "source": [
        "FGV EPGE - Escola de Pós-Graduação em Economia\n",
        "==\n",
        "Introdução à Ciência dos Dados Aplicada à Economia com o Python\n",
        "--\n",
        "Professor: Rafael Martins de Souza\n",
        "--\n",
        "Monitora: Dávila Meireles"
      ]
    },
    {
      "cell_type": "code",
      "metadata": {
        "id": "D11iamSdnZ1O"
      },
      "source": [
        "import numpy as np\n",
        "import matplotlib.pyplot as plt\n"
      ],
      "execution_count": null,
      "outputs": []
    },
    {
      "cell_type": "markdown",
      "metadata": {
        "id": "ToOBPtco6jKG"
      },
      "source": [
        "### <font color='green'> Revisão: valendo 0.2! </font>"
      ]
    },
    {
      "cell_type": "markdown",
      "metadata": {
        "id": "oRIBem93nVpj"
      },
      "source": [
        "*Crie uma matriz identidade 20x20 e substitua todos os elementos fora da diagonal por -1*."
      ]
    },
    {
      "cell_type": "markdown",
      "metadata": {
        "id": "NEhIr1SQzUqW"
      },
      "source": [
        "Solução vencedora:"
      ]
    },
    {
      "cell_type": "code",
      "source": [
        "np.reshape(np.ones(25), (5,5))"
      ],
      "metadata": {
        "colab": {
          "base_uri": "https://localhost:8080/"
        },
        "id": "W82hkku0DOex",
        "outputId": "d699b46b-5e81-4215-f44e-a9367aaee37f"
      },
      "execution_count": null,
      "outputs": [
        {
          "output_type": "execute_result",
          "data": {
            "text/plain": [
              "array([[1., 1., 1., 1., 1.],\n",
              "       [1., 1., 1., 1., 1.],\n",
              "       [1., 1., 1., 1., 1.],\n",
              "       [1., 1., 1., 1., 1.],\n",
              "       [1., 1., 1., 1., 1.]])"
            ]
          },
          "metadata": {},
          "execution_count": 209
        }
      ]
    },
    {
      "cell_type": "code",
      "source": [
        "list(range(5))"
      ],
      "metadata": {
        "colab": {
          "base_uri": "https://localhost:8080/"
        },
        "id": "d0DrdUHgD-nd",
        "outputId": "3b71da17-22d2-4859-b07d-84678da19bf7"
      },
      "execution_count": null,
      "outputs": [
        {
          "output_type": "execute_result",
          "data": {
            "text/plain": [
              "[0, 1, 2, 3, 4]"
            ]
          },
          "metadata": {},
          "execution_count": 212
        }
      ]
    },
    {
      "cell_type": "code",
      "source": [
        "A=np.reshape(np.ones(25),(5,5))\n",
        "for i in range(5):\n",
        "    for j in range(5):\n",
        "      if i!=j:\n",
        "        A[i,j]=-1\n",
        "A"
      ],
      "metadata": {
        "colab": {
          "base_uri": "https://localhost:8080/"
        },
        "id": "HnuoubRG8E7x",
        "outputId": "4f4e4c2a-067b-4778-c40e-ac970a882878"
      },
      "execution_count": null,
      "outputs": [
        {
          "output_type": "execute_result",
          "data": {
            "text/plain": [
              "array([[ 1., -1., -1., -1., -1.],\n",
              "       [-1.,  1., -1., -1., -1.],\n",
              "       [-1., -1.,  1., -1., -1.],\n",
              "       [-1., -1., -1.,  1., -1.],\n",
              "       [-1., -1., -1., -1.,  1.]])"
            ]
          },
          "metadata": {},
          "execution_count": 214
        }
      ]
    },
    {
      "cell_type": "markdown",
      "metadata": {
        "id": "Msj9WiiE4Vef"
      },
      "source": [
        "Solução proposta."
      ]
    },
    {
      "cell_type": "code",
      "source": [
        "np.identity(5)"
      ],
      "metadata": {
        "colab": {
          "base_uri": "https://localhost:8080/"
        },
        "id": "xMiQON8LE02c",
        "outputId": "353dec61-9267-4433-efe7-ec799cc509b5"
      },
      "execution_count": null,
      "outputs": [
        {
          "output_type": "execute_result",
          "data": {
            "text/plain": [
              "array([[1., 0., 0., 0., 0.],\n",
              "       [0., 1., 0., 0., 0.],\n",
              "       [0., 0., 1., 0., 0.],\n",
              "       [0., 0., 0., 1., 0.],\n",
              "       [0., 0., 0., 0., 1.]])"
            ]
          },
          "metadata": {},
          "execution_count": 218
        }
      ]
    },
    {
      "cell_type": "code",
      "metadata": {
        "id": "7NROuSQQ3EHy",
        "colab": {
          "base_uri": "https://localhost:8080/"
        },
        "outputId": "12d20617-ad5f-42d3-ede0-d7301efb6a83"
      },
      "source": [
        "B = np.identity(5)\n",
        "B = B-1\n",
        "B = B+np.identity(5)\n",
        "print(B)"
      ],
      "execution_count": null,
      "outputs": [
        {
          "output_type": "stream",
          "name": "stdout",
          "text": [
            "[[ 1. -1. -1. -1. -1.]\n",
            " [-1.  1. -1. -1. -1.]\n",
            " [-1. -1.  1. -1. -1.]\n",
            " [-1. -1. -1.  1. -1.]\n",
            " [-1. -1. -1. -1.  1.]]\n"
          ]
        }
      ]
    },
    {
      "cell_type": "markdown",
      "metadata": {
        "id": "xuvN01lAotQw"
      },
      "source": [
        "### Manipulação de Arrays"
      ]
    },
    {
      "cell_type": "markdown",
      "metadata": {
        "id": "Tc7YczPdzHLU"
      },
      "source": [
        "https://numpy.org/doc/stable/reference/routines.array-manipulation.html"
      ]
    },
    {
      "cell_type": "markdown",
      "metadata": {
        "id": "4tqN_R2W0-OX"
      },
      "source": [
        "**append**\n",
        "\n",
        "- Adiciona elementos a um array\n",
        "- É uma função do módulo numpy, mas não é um método do np.array."
      ]
    },
    {
      "cell_type": "code",
      "metadata": {
        "id": "JKjQ222A0ss2"
      },
      "source": [
        "a = np.append([1, 2, 3], [[4, 5, 6], [7, 8, 9]])"
      ],
      "execution_count": null,
      "outputs": []
    },
    {
      "cell_type": "code",
      "metadata": {
        "id": "qdAZDLRz4ymO",
        "colab": {
          "base_uri": "https://localhost:8080/"
        },
        "outputId": "07c25bb3-541c-4738-ff53-2354c38a3f92"
      },
      "source": [
        "a"
      ],
      "execution_count": null,
      "outputs": [
        {
          "output_type": "execute_result",
          "data": {
            "text/plain": [
              "array([1, 2, 3, 4, 5, 6, 7, 8, 9])"
            ]
          },
          "metadata": {},
          "execution_count": 3
        }
      ]
    },
    {
      "cell_type": "code",
      "source": [
        "np.append([1, 2, 3], [4, 5, 6])"
      ],
      "metadata": {
        "colab": {
          "base_uri": "https://localhost:8080/"
        },
        "id": "wU1BKiqsGLb8",
        "outputId": "c5bdc856-d808-4739-91b4-32188bbdeba4"
      },
      "execution_count": null,
      "outputs": [
        {
          "output_type": "execute_result",
          "data": {
            "text/plain": [
              "array([1, 2, 3, 4, 5, 6])"
            ]
          },
          "metadata": {},
          "execution_count": 4
        }
      ]
    },
    {
      "cell_type": "code",
      "source": [
        "np.array([[1, 2, 3], [4, 5, 6], [7,8, 9]])"
      ],
      "metadata": {
        "colab": {
          "base_uri": "https://localhost:8080/"
        },
        "id": "jIrgFSDAFm5e",
        "outputId": "c91192da-9f5a-467f-dc20-0a6829ebf9f7"
      },
      "execution_count": null,
      "outputs": [
        {
          "output_type": "execute_result",
          "data": {
            "text/plain": [
              "array([[1, 2, 3],\n",
              "       [4, 5, 6],\n",
              "       [7, 8, 9]])"
            ]
          },
          "metadata": {},
          "execution_count": 20
        }
      ]
    },
    {
      "cell_type": "code",
      "metadata": {
        "id": "70lBJ-uY0yyu"
      },
      "source": [
        "b = np.append([[1, 2, 3], [4, 5, 6]], [[7, 8, 9]], axis=0)"
      ],
      "execution_count": null,
      "outputs": []
    },
    {
      "cell_type": "code",
      "source": [
        "b"
      ],
      "metadata": {
        "colab": {
          "base_uri": "https://localhost:8080/"
        },
        "id": "2sze1AZOHBP4",
        "outputId": "8c7d07c5-098c-499e-8d1d-c36f590063bb"
      },
      "execution_count": null,
      "outputs": [
        {
          "output_type": "execute_result",
          "data": {
            "text/plain": [
              "array([[1, 2, 3],\n",
              "       [4, 5, 6],\n",
              "       [7, 8, 9]])"
            ]
          },
          "metadata": {},
          "execution_count": 17
        }
      ]
    },
    {
      "cell_type": "code",
      "source": [
        "b = np.append([[1, 2, 3], [4, 5, 6]], [[7, 8, 9], [7, 8, 9] ], axis=1)\n",
        "b"
      ],
      "metadata": {
        "colab": {
          "base_uri": "https://localhost:8080/"
        },
        "id": "-N8llDzi84OR",
        "outputId": "63e2b1ce-3179-46a5-d48d-89e46db9b1b9"
      },
      "execution_count": null,
      "outputs": [
        {
          "output_type": "execute_result",
          "data": {
            "text/plain": [
              "array([[1, 2, 3, 7, 8, 9],\n",
              "       [4, 5, 6, 7, 8, 9]])"
            ]
          },
          "metadata": {},
          "execution_count": 23
        }
      ]
    },
    {
      "cell_type": "code",
      "metadata": {
        "colab": {
          "base_uri": "https://localhost:8080/"
        },
        "id": "NgeoQFlquCFh",
        "outputId": "738e7874-2fde-4d8c-8f3b-ddcbd31e7a7a"
      },
      "source": [
        "np.array([[1, 2, 3], [4, 5, 6]])"
      ],
      "execution_count": null,
      "outputs": [
        {
          "output_type": "execute_result",
          "data": {
            "text/plain": [
              "array([[1, 2, 3],\n",
              "       [4, 5, 6]])"
            ]
          },
          "metadata": {},
          "execution_count": 24
        }
      ]
    },
    {
      "cell_type": "code",
      "metadata": {
        "colab": {
          "base_uri": "https://localhost:8080/"
        },
        "id": "_Fi37GJ8uL-Q",
        "outputId": "293d9524-6b61-4201-edb8-532c643d42bd"
      },
      "source": [
        "np.array([7, 8 , 9])"
      ],
      "execution_count": null,
      "outputs": [
        {
          "output_type": "execute_result",
          "data": {
            "text/plain": [
              "array([7, 8, 9])"
            ]
          },
          "metadata": {},
          "execution_count": 25
        }
      ]
    },
    {
      "cell_type": "code",
      "source": [
        "b"
      ],
      "metadata": {
        "colab": {
          "base_uri": "https://localhost:8080/"
        },
        "id": "MpPT2Cd_Hqqj",
        "outputId": "d347ee19-a149-4284-bc59-5aea0153530a"
      },
      "execution_count": null,
      "outputs": [
        {
          "output_type": "execute_result",
          "data": {
            "text/plain": [
              "array([[1, 2, 3, 7, 8, 9],\n",
              "       [4, 5, 6, 7, 8, 9]])"
            ]
          },
          "metadata": {},
          "execution_count": 27
        }
      ]
    },
    {
      "cell_type": "code",
      "source": [
        "?np.append"
      ],
      "metadata": {
        "id": "ftgDr5e7HaFU"
      },
      "execution_count": null,
      "outputs": []
    },
    {
      "cell_type": "code",
      "source": [
        "b1 = np.append([[1, 2, 3], [4, 5, 6]], [[7, 8, 9]], axis=0)\n",
        "b1"
      ],
      "metadata": {
        "colab": {
          "base_uri": "https://localhost:8080/"
        },
        "id": "p219_gxkq8LQ",
        "outputId": "1de5b7bd-23b4-4cbf-a840-5fc3152ac615"
      },
      "execution_count": null,
      "outputs": [
        {
          "output_type": "execute_result",
          "data": {
            "text/plain": [
              "array([[1, 2, 3],\n",
              "       [4, 5, 6],\n",
              "       [7, 8, 9]])"
            ]
          },
          "metadata": {},
          "execution_count": 30
        }
      ]
    },
    {
      "cell_type": "code",
      "metadata": {
        "id": "8TPES-tKuhCQ"
      },
      "source": [
        "b = np.append([[1, 2, 3], [4, 5, 6]], [[7, 8, 9], [10, 11, 12]], axis=1)"
      ],
      "execution_count": null,
      "outputs": []
    },
    {
      "cell_type": "code",
      "metadata": {
        "colab": {
          "base_uri": "https://localhost:8080/"
        },
        "id": "OgMILI18uxdw",
        "outputId": "02b6de7a-a8c7-4ad3-96bc-ad8c7230ba83"
      },
      "source": [
        "b"
      ],
      "execution_count": null,
      "outputs": [
        {
          "output_type": "execute_result",
          "data": {
            "text/plain": [
              "array([[ 1,  2,  3,  7,  8,  9],\n",
              "       [ 4,  5,  6, 10, 11, 12]])"
            ]
          },
          "metadata": {},
          "execution_count": 32
        }
      ]
    },
    {
      "cell_type": "code",
      "metadata": {
        "id": "9CN1Ik3Au5cg"
      },
      "source": [
        "b = np.append([[1, 2, 3], [4, 5, 6]], [[7, 8, 9], [10, 11, 12]])"
      ],
      "execution_count": null,
      "outputs": []
    },
    {
      "cell_type": "code",
      "metadata": {
        "colab": {
          "base_uri": "https://localhost:8080/"
        },
        "id": "W0zMwVV4u8aO",
        "outputId": "cfc57a31-4f94-42bd-8685-b8cf3297202c"
      },
      "source": [
        "b"
      ],
      "execution_count": null,
      "outputs": [
        {
          "output_type": "execute_result",
          "data": {
            "text/plain": [
              "array([ 1,  2,  3,  4,  5,  6,  7,  8,  9, 10, 11, 12])"
            ]
          },
          "metadata": {},
          "execution_count": 34
        }
      ]
    },
    {
      "cell_type": "code",
      "metadata": {
        "id": "xqy5EMDSvLJs"
      },
      "source": [
        "b = np.append([[1, 2, 3], [4, 5, 6]], [[7, 8, 9, 13], [10, 11, 12, 14]], axis = 1)"
      ],
      "execution_count": null,
      "outputs": []
    },
    {
      "cell_type": "code",
      "metadata": {
        "colab": {
          "base_uri": "https://localhost:8080/"
        },
        "id": "cop3z2jYvStd",
        "outputId": "9b2eef23-4bfb-4935-d6bf-f6f807680f81"
      },
      "source": [
        "b"
      ],
      "execution_count": null,
      "outputs": [
        {
          "output_type": "execute_result",
          "data": {
            "text/plain": [
              "array([[ 1,  2,  3,  7,  8,  9, 13],\n",
              "       [ 4,  5,  6, 10, 11, 12, 14]])"
            ]
          },
          "metadata": {},
          "execution_count": 36
        }
      ]
    },
    {
      "cell_type": "code",
      "metadata": {
        "id": "Bz_0DQWtvapS"
      },
      "source": [
        "c = np.append([[1, 2, 3], [4, 5, 6]], [[7, 8, 9], [10, 11, 12], [13, 14, 15]], axis = 0)"
      ],
      "execution_count": null,
      "outputs": []
    },
    {
      "cell_type": "code",
      "metadata": {
        "colab": {
          "base_uri": "https://localhost:8080/"
        },
        "id": "dnzrgAbXvfHb",
        "outputId": "7267877d-5b89-424b-8c4a-f5635c00e3a3"
      },
      "source": [
        "c"
      ],
      "execution_count": null,
      "outputs": [
        {
          "output_type": "execute_result",
          "data": {
            "text/plain": [
              "array([[ 1,  2,  3],\n",
              "       [ 4,  5,  6],\n",
              "       [ 7,  8,  9],\n",
              "       [10, 11, 12],\n",
              "       [13, 14, 15]])"
            ]
          },
          "metadata": {},
          "execution_count": 40
        }
      ]
    },
    {
      "cell_type": "code",
      "metadata": {
        "id": "69pHsNXG1-kc",
        "colab": {
          "base_uri": "https://localhost:8080/"
        },
        "outputId": "a7d0697c-5b56-405a-cc6d-5dc1f1db94c6"
      },
      "source": [
        "b"
      ],
      "execution_count": null,
      "outputs": [
        {
          "output_type": "execute_result",
          "data": {
            "text/plain": [
              "array([[ 1,  2,  3,  7,  8,  9, 13],\n",
              "       [ 4,  5,  6, 10, 11, 12, 14]])"
            ]
          },
          "metadata": {},
          "execution_count": 42
        }
      ]
    },
    {
      "cell_type": "code",
      "metadata": {
        "id": "cWl8ON_92FZi"
      },
      "source": [
        "b_2 = b**2"
      ],
      "execution_count": null,
      "outputs": []
    },
    {
      "cell_type": "code",
      "source": [
        "b_2"
      ],
      "metadata": {
        "colab": {
          "base_uri": "https://localhost:8080/"
        },
        "id": "u8GWuc17rRFC",
        "outputId": "ee71aee3-b8ed-4c44-f2c2-d1cc6041b2ea"
      },
      "execution_count": null,
      "outputs": [
        {
          "output_type": "execute_result",
          "data": {
            "text/plain": [
              "array([[  1,   4,   9,  49,  64,  81, 169],\n",
              "       [ 16,  25,  36, 100, 121, 144, 196]])"
            ]
          },
          "metadata": {},
          "execution_count": 45
        }
      ]
    },
    {
      "cell_type": "code",
      "metadata": {
        "id": "94SnV4-i2HdT",
        "colab": {
          "base_uri": "https://localhost:8080/"
        },
        "outputId": "86310a39-c088-4900-eb7f-888893e5f780"
      },
      "source": [
        "b_2"
      ],
      "execution_count": null,
      "outputs": [
        {
          "output_type": "execute_result",
          "data": {
            "text/plain": [
              "array([[  1,   4,   9,  49,  64,  81, 169],\n",
              "       [ 16,  25,  36, 100, 121, 144, 196]])"
            ]
          },
          "metadata": {},
          "execution_count": 198
        }
      ]
    },
    {
      "cell_type": "code",
      "metadata": {
        "id": "78qcC-hF1ZP4",
        "colab": {
          "base_uri": "https://localhost:8080/"
        },
        "outputId": "b73851c0-3063-4cf0-fc6e-bc1eb00f1dd8"
      },
      "source": [
        "np.append(b,b_2, axis=1)"
      ],
      "execution_count": null,
      "outputs": [
        {
          "output_type": "execute_result",
          "data": {
            "text/plain": [
              "array([[  1,   2,   3,   7,   8,   9,  13,   1,   4,   9,  49,  64,  81,\n",
              "        169],\n",
              "       [  4,   5,   6,  10,  11,  12,  14,  16,  25,  36, 100, 121, 144,\n",
              "        196]])"
            ]
          },
          "metadata": {},
          "execution_count": 47
        }
      ]
    },
    {
      "cell_type": "code",
      "source": [
        "np.append(b,b_2, axis=0)"
      ],
      "metadata": {
        "colab": {
          "base_uri": "https://localhost:8080/"
        },
        "id": "00nM4iIT-b2S",
        "outputId": "d591da64-ec83-460e-d8b6-571eedf7e067"
      },
      "execution_count": null,
      "outputs": [
        {
          "output_type": "execute_result",
          "data": {
            "text/plain": [
              "array([[  1,   2,   3,   7,   8,   9,  13],\n",
              "       [  4,   5,   6,  10,  11,  12,  14],\n",
              "       [  1,   4,   9,  49,  64,  81, 169],\n",
              "       [ 16,  25,  36, 100, 121, 144, 196]])"
            ]
          },
          "metadata": {},
          "execution_count": 48
        }
      ]
    },
    {
      "cell_type": "code",
      "metadata": {
        "id": "gu6ZWDNOtOn6"
      },
      "source": [
        "np.append?"
      ],
      "execution_count": null,
      "outputs": []
    },
    {
      "cell_type": "markdown",
      "metadata": {
        "id": "evKn5NZG3RQ-"
      },
      "source": [
        "**insert**\n",
        "\n",
        "- Adiciona elementos em uma dada posição"
      ]
    },
    {
      "cell_type": "code",
      "metadata": {
        "id": "QSa2S7og4PQG",
        "colab": {
          "base_uri": "https://localhost:8080/"
        },
        "outputId": "5139d1ea-4053-4887-ae82-f0f3857cc9aa"
      },
      "source": [
        "b_2"
      ],
      "execution_count": null,
      "outputs": [
        {
          "output_type": "execute_result",
          "data": {
            "text/plain": [
              "array([[  1,   4,   9,  49,  64,  81, 169],\n",
              "       [ 16,  25,  36, 100, 121, 144, 196]])"
            ]
          },
          "metadata": {},
          "execution_count": 52
        }
      ]
    },
    {
      "cell_type": "markdown",
      "metadata": {
        "id": "kc3qNiDg4TXJ"
      },
      "source": [
        "Adicionando um elemento em uma linha"
      ]
    },
    {
      "cell_type": "code",
      "metadata": {
        "id": "wbl2qWoB3XA4",
        "colab": {
          "base_uri": "https://localhost:8080/"
        },
        "outputId": "4058b36d-538a-49e5-dba6-ac0b54dd2ad5"
      },
      "source": [
        "np.insert(arr = b_2, obj = 1, values = 5, axis = 0)"
      ],
      "execution_count": null,
      "outputs": [
        {
          "output_type": "execute_result",
          "data": {
            "text/plain": [
              "array([[  1,   4,   9,  49,  64,  81, 169],\n",
              "       [  5,   5,   5,   5,   5,   5,   5],\n",
              "       [ 16,  25,  36, 100, 121, 144, 196]])"
            ]
          },
          "metadata": {},
          "execution_count": 57
        }
      ]
    },
    {
      "cell_type": "code",
      "metadata": {
        "id": "xQJVt5_xwf-T"
      },
      "source": [
        "np.insert?"
      ],
      "execution_count": null,
      "outputs": []
    },
    {
      "cell_type": "markdown",
      "metadata": {
        "id": "LbXT24lO4dkL"
      },
      "source": [
        "Adicionando um elemento em uma coluna"
      ]
    },
    {
      "cell_type": "code",
      "metadata": {
        "id": "SVEzm-Dg4KCe",
        "colab": {
          "base_uri": "https://localhost:8080/"
        },
        "outputId": "bb9080ae-6e41-4f62-8692-53fa20502c7f"
      },
      "source": [
        "print(\"b_2:\", b_2)\n",
        "c_2 = np.insert(b_2, 1, 5, axis = 1)\n",
        "np.insert(c_2, 1, 5, axis = 1)\n",
        "print(\"c_2:\", c_2)"
      ],
      "execution_count": null,
      "outputs": [
        {
          "output_type": "stream",
          "name": "stdout",
          "text": [
            "b_2: [[  1   4   9  49  64  81 169]\n",
            " [ 16  25  36 100 121 144 196]]\n",
            "c_2: [[  1   5   4   9  49  64  81 169]\n",
            " [ 16   5  25  36 100 121 144 196]]\n"
          ]
        }
      ]
    },
    {
      "cell_type": "code",
      "metadata": {
        "colab": {
          "base_uri": "https://localhost:8080/"
        },
        "id": "paS1g1PYy4ya",
        "outputId": "ebb8e165-be77-49cd-c6c2-6a1a1700dd38"
      },
      "source": [
        "print(b_2)"
      ],
      "execution_count": null,
      "outputs": [
        {
          "output_type": "stream",
          "name": "stdout",
          "text": [
            "[[  1   4   9  49  64  81 169]\n",
            " [ 16  25  36 100 121 144 196]]\n"
          ]
        }
      ]
    },
    {
      "cell_type": "code",
      "metadata": {
        "colab": {
          "base_uri": "https://localhost:8080/"
        },
        "id": "COkTqosQibPU",
        "outputId": "620b74e6-19fa-482a-9207-a444829788d2"
      },
      "source": [
        "np.insert(b_2, 1, [1,2], axis = 1)"
      ],
      "execution_count": null,
      "outputs": [
        {
          "output_type": "execute_result",
          "data": {
            "text/plain": [
              "array([[  1,   1,   4,   9,  49,  64,  81, 169],\n",
              "       [ 16,   2,  25,  36, 100, 121, 144, 196]])"
            ]
          },
          "metadata": {},
          "execution_count": 61
        }
      ]
    },
    {
      "cell_type": "code",
      "source": [
        "np.insert(b_2, 1, [1,2,3], axis = 1)"
      ],
      "metadata": {
        "colab": {
          "base_uri": "https://localhost:8080/",
          "height": 356
        },
        "id": "XFsvS3pQm9rm",
        "outputId": "699f3bc5-715b-4cc5-9d24-2e616e7cdce0"
      },
      "execution_count": null,
      "outputs": [
        {
          "output_type": "error",
          "ename": "ValueError",
          "evalue": "ignored",
          "traceback": [
            "\u001b[0;31m---------------------------------------------------------------------------\u001b[0m",
            "\u001b[0;31mValueError\u001b[0m                                Traceback (most recent call last)",
            "\u001b[0;32m<ipython-input-62-9975e22c2493>\u001b[0m in \u001b[0;36m<module>\u001b[0;34m\u001b[0m\n\u001b[0;32m----> 1\u001b[0;31m \u001b[0mnp\u001b[0m\u001b[0;34m.\u001b[0m\u001b[0minsert\u001b[0m\u001b[0;34m(\u001b[0m\u001b[0mb_2\u001b[0m\u001b[0;34m,\u001b[0m \u001b[0;36m1\u001b[0m\u001b[0;34m,\u001b[0m \u001b[0;34m[\u001b[0m\u001b[0;36m1\u001b[0m\u001b[0;34m,\u001b[0m\u001b[0;36m2\u001b[0m\u001b[0;34m,\u001b[0m\u001b[0;36m3\u001b[0m\u001b[0;34m]\u001b[0m\u001b[0;34m,\u001b[0m \u001b[0maxis\u001b[0m \u001b[0;34m=\u001b[0m \u001b[0;36m1\u001b[0m\u001b[0;34m)\u001b[0m\u001b[0;34m\u001b[0m\u001b[0;34m\u001b[0m\u001b[0m\n\u001b[0m",
            "\u001b[0;32m<__array_function__ internals>\u001b[0m in \u001b[0;36minsert\u001b[0;34m(*args, **kwargs)\u001b[0m\n",
            "\u001b[0;32m/usr/local/lib/python3.7/dist-packages/numpy/lib/function_base.py\u001b[0m in \u001b[0;36minsert\u001b[0;34m(arr, obj, values, axis)\u001b[0m\n\u001b[1;32m   4722\u001b[0m         \u001b[0mnew\u001b[0m\u001b[0;34m[\u001b[0m\u001b[0mtuple\u001b[0m\u001b[0;34m(\u001b[0m\u001b[0mslobj\u001b[0m\u001b[0;34m)\u001b[0m\u001b[0;34m]\u001b[0m \u001b[0;34m=\u001b[0m \u001b[0marr\u001b[0m\u001b[0;34m[\u001b[0m\u001b[0mtuple\u001b[0m\u001b[0;34m(\u001b[0m\u001b[0mslobj\u001b[0m\u001b[0;34m)\u001b[0m\u001b[0;34m]\u001b[0m\u001b[0;34m\u001b[0m\u001b[0;34m\u001b[0m\u001b[0m\n\u001b[1;32m   4723\u001b[0m         \u001b[0mslobj\u001b[0m\u001b[0;34m[\u001b[0m\u001b[0maxis\u001b[0m\u001b[0;34m]\u001b[0m \u001b[0;34m=\u001b[0m \u001b[0mslice\u001b[0m\u001b[0;34m(\u001b[0m\u001b[0mindex\u001b[0m\u001b[0;34m,\u001b[0m \u001b[0mindex\u001b[0m\u001b[0;34m+\u001b[0m\u001b[0mnumnew\u001b[0m\u001b[0;34m)\u001b[0m\u001b[0;34m\u001b[0m\u001b[0;34m\u001b[0m\u001b[0m\n\u001b[0;32m-> 4724\u001b[0;31m         \u001b[0mnew\u001b[0m\u001b[0;34m[\u001b[0m\u001b[0mtuple\u001b[0m\u001b[0;34m(\u001b[0m\u001b[0mslobj\u001b[0m\u001b[0;34m)\u001b[0m\u001b[0;34m]\u001b[0m \u001b[0;34m=\u001b[0m \u001b[0mvalues\u001b[0m\u001b[0;34m\u001b[0m\u001b[0;34m\u001b[0m\u001b[0m\n\u001b[0m\u001b[1;32m   4725\u001b[0m         \u001b[0mslobj\u001b[0m\u001b[0;34m[\u001b[0m\u001b[0maxis\u001b[0m\u001b[0;34m]\u001b[0m \u001b[0;34m=\u001b[0m \u001b[0mslice\u001b[0m\u001b[0;34m(\u001b[0m\u001b[0mindex\u001b[0m\u001b[0;34m+\u001b[0m\u001b[0mnumnew\u001b[0m\u001b[0;34m,\u001b[0m \u001b[0;32mNone\u001b[0m\u001b[0;34m)\u001b[0m\u001b[0;34m\u001b[0m\u001b[0;34m\u001b[0m\u001b[0m\n\u001b[1;32m   4726\u001b[0m         \u001b[0mslobj2\u001b[0m \u001b[0;34m=\u001b[0m \u001b[0;34m[\u001b[0m\u001b[0mslice\u001b[0m\u001b[0;34m(\u001b[0m\u001b[0;32mNone\u001b[0m\u001b[0;34m)\u001b[0m\u001b[0;34m]\u001b[0m \u001b[0;34m*\u001b[0m \u001b[0mndim\u001b[0m\u001b[0;34m\u001b[0m\u001b[0;34m\u001b[0m\u001b[0m\n",
            "\u001b[0;31mValueError\u001b[0m: could not broadcast input array from shape (3,1) into shape (2,1)"
          ]
        }
      ]
    },
    {
      "cell_type": "code",
      "source": [
        "b_2"
      ],
      "metadata": {
        "colab": {
          "base_uri": "https://localhost:8080/"
        },
        "id": "4gjcDC0cnkoV",
        "outputId": "2b2ca35c-925a-4fb2-9d59-4e7ee2331fee"
      },
      "execution_count": null,
      "outputs": [
        {
          "output_type": "execute_result",
          "data": {
            "text/plain": [
              "array([[  1,   4,   9,  49,  64,  81, 169],\n",
              "       [ 16,  25,  36, 100, 121, 144, 196]])"
            ]
          },
          "metadata": {},
          "execution_count": 63
        }
      ]
    },
    {
      "cell_type": "code",
      "metadata": {
        "colab": {
          "base_uri": "https://localhost:8080/"
        },
        "id": "9AJMAT_QikSn",
        "outputId": "50648bc0-6ca0-4700-f05d-526702030562"
      },
      "source": [
        "np.insert(b_2, 0, [1,2,3, 4,5,6,7], axis = 0)"
      ],
      "execution_count": null,
      "outputs": [
        {
          "output_type": "execute_result",
          "data": {
            "text/plain": [
              "array([[  1,   2,   3,   4,   5,   6,   7],\n",
              "       [  1,   4,   9,  49,  64,  81, 169],\n",
              "       [ 16,  25,  36, 100, 121, 144, 196]])"
            ]
          },
          "metadata": {},
          "execution_count": 64
        }
      ]
    },
    {
      "cell_type": "code",
      "metadata": {
        "colab": {
          "base_uri": "https://localhost:8080/"
        },
        "id": "rX1MvlZ40jp4",
        "outputId": "aad99c5a-5d8d-4cf9-e699-30a39ab720a6"
      },
      "source": [
        "b_2"
      ],
      "execution_count": null,
      "outputs": [
        {
          "output_type": "execute_result",
          "data": {
            "text/plain": [
              "array([[  1,   4,   9,  49,  64,  81, 169],\n",
              "       [ 16,  25,  36, 100, 121, 144, 196]])"
            ]
          },
          "metadata": {},
          "execution_count": 65
        }
      ]
    },
    {
      "cell_type": "code",
      "metadata": {
        "colab": {
          "base_uri": "https://localhost:8080/",
          "height": 374
        },
        "id": "kbiyPBcE0VVZ",
        "outputId": "4a71826d-a60f-42db-92a5-eb8ff124f07d"
      },
      "source": [
        "np.insert(b_2, [1,2], [1,2,3], axis = 0)"
      ],
      "execution_count": null,
      "outputs": [
        {
          "output_type": "error",
          "ename": "ValueError",
          "evalue": "ignored",
          "traceback": [
            "\u001b[0;31m---------------------------------------------------------------------------\u001b[0m",
            "\u001b[0;31mValueError\u001b[0m                                Traceback (most recent call last)",
            "\u001b[0;32m<ipython-input-66-f47d89f67e9f>\u001b[0m in \u001b[0;36m<module>\u001b[0;34m\u001b[0m\n\u001b[0;32m----> 1\u001b[0;31m \u001b[0mnp\u001b[0m\u001b[0;34m.\u001b[0m\u001b[0minsert\u001b[0m\u001b[0;34m(\u001b[0m\u001b[0mb_2\u001b[0m\u001b[0;34m,\u001b[0m \u001b[0;34m[\u001b[0m\u001b[0;36m1\u001b[0m\u001b[0;34m,\u001b[0m\u001b[0;36m2\u001b[0m\u001b[0;34m]\u001b[0m\u001b[0;34m,\u001b[0m \u001b[0;34m[\u001b[0m\u001b[0;36m1\u001b[0m\u001b[0;34m,\u001b[0m\u001b[0;36m2\u001b[0m\u001b[0;34m,\u001b[0m\u001b[0;36m3\u001b[0m\u001b[0;34m]\u001b[0m\u001b[0;34m,\u001b[0m \u001b[0maxis\u001b[0m \u001b[0;34m=\u001b[0m \u001b[0;36m0\u001b[0m\u001b[0;34m)\u001b[0m\u001b[0;34m\u001b[0m\u001b[0;34m\u001b[0m\u001b[0m\n\u001b[0m",
            "\u001b[0;32m<__array_function__ internals>\u001b[0m in \u001b[0;36minsert\u001b[0;34m(*args, **kwargs)\u001b[0m\n",
            "\u001b[0;32m/usr/local/lib/python3.7/dist-packages/numpy/lib/function_base.py\u001b[0m in \u001b[0;36minsert\u001b[0;34m(arr, obj, values, axis)\u001b[0m\n\u001b[1;32m   4748\u001b[0m     \u001b[0mslobj\u001b[0m\u001b[0;34m[\u001b[0m\u001b[0maxis\u001b[0m\u001b[0;34m]\u001b[0m \u001b[0;34m=\u001b[0m \u001b[0mindices\u001b[0m\u001b[0;34m\u001b[0m\u001b[0;34m\u001b[0m\u001b[0m\n\u001b[1;32m   4749\u001b[0m     \u001b[0mslobj2\u001b[0m\u001b[0;34m[\u001b[0m\u001b[0maxis\u001b[0m\u001b[0;34m]\u001b[0m \u001b[0;34m=\u001b[0m \u001b[0mold_mask\u001b[0m\u001b[0;34m\u001b[0m\u001b[0;34m\u001b[0m\u001b[0m\n\u001b[0;32m-> 4750\u001b[0;31m     \u001b[0mnew\u001b[0m\u001b[0;34m[\u001b[0m\u001b[0mtuple\u001b[0m\u001b[0;34m(\u001b[0m\u001b[0mslobj\u001b[0m\u001b[0;34m)\u001b[0m\u001b[0;34m]\u001b[0m \u001b[0;34m=\u001b[0m \u001b[0mvalues\u001b[0m\u001b[0;34m\u001b[0m\u001b[0;34m\u001b[0m\u001b[0m\n\u001b[0m\u001b[1;32m   4751\u001b[0m     \u001b[0mnew\u001b[0m\u001b[0;34m[\u001b[0m\u001b[0mtuple\u001b[0m\u001b[0;34m(\u001b[0m\u001b[0mslobj2\u001b[0m\u001b[0;34m)\u001b[0m\u001b[0;34m]\u001b[0m \u001b[0;34m=\u001b[0m \u001b[0marr\u001b[0m\u001b[0;34m\u001b[0m\u001b[0;34m\u001b[0m\u001b[0m\n\u001b[1;32m   4752\u001b[0m \u001b[0;34m\u001b[0m\u001b[0m\n",
            "\u001b[0;31mValueError\u001b[0m: shape mismatch: value array of shape (3,) could not be broadcast to indexing result of shape (2,7)"
          ]
        }
      ]
    },
    {
      "cell_type": "code",
      "metadata": {
        "colab": {
          "base_uri": "https://localhost:8080/"
        },
        "id": "dqvr8GG01C_I",
        "outputId": "0d4f23ce-6a3e-4dda-aca8-563aff2df828"
      },
      "source": [
        "c_2= np.insert(b_2, [1,2], [1,2,3,4,5,6,7], axis = 0)\n",
        "#np.insert(c_2, 2, [1,2,3], axis = 0)\n",
        "c_2"
      ],
      "execution_count": null,
      "outputs": [
        {
          "output_type": "execute_result",
          "data": {
            "text/plain": [
              "array([[  1,   4,   9,  49,  64,  81, 169],\n",
              "       [  1,   2,   3,   4,   5,   6,   7],\n",
              "       [ 16,  25,  36, 100, 121, 144, 196],\n",
              "       [  1,   2,   3,   4,   5,   6,   7]])"
            ]
          },
          "metadata": {},
          "execution_count": 69
        }
      ]
    },
    {
      "cell_type": "code",
      "metadata": {
        "id": "1PmxDqra50pT"
      },
      "source": [
        "c = np.array([[1,2,3],[2,1,3],[3,2,1]])"
      ],
      "execution_count": null,
      "outputs": []
    },
    {
      "cell_type": "code",
      "metadata": {
        "id": "9jUAYMm3544S",
        "colab": {
          "base_uri": "https://localhost:8080/"
        },
        "outputId": "3419e1af-0285-4dce-d20c-9a821966ff5f"
      },
      "source": [
        "c"
      ],
      "execution_count": null,
      "outputs": [
        {
          "output_type": "execute_result",
          "data": {
            "text/plain": [
              "array([[1, 2, 3],\n",
              "       [2, 1, 3],\n",
              "       [3, 2, 1]])"
            ]
          },
          "metadata": {},
          "execution_count": 71
        }
      ]
    },
    {
      "cell_type": "markdown",
      "metadata": {
        "id": "rH1NJuUKOU1M"
      },
      "source": [
        "**delete**"
      ]
    },
    {
      "cell_type": "markdown",
      "metadata": {
        "id": "FaAh4Qwm6JR4"
      },
      "source": [
        "Deletar a coluna 1"
      ]
    },
    {
      "cell_type": "code",
      "metadata": {
        "id": "P0q9VJiR6DFi",
        "colab": {
          "base_uri": "https://localhost:8080/"
        },
        "outputId": "4612b79c-eb33-455a-ca3e-8023790fee29"
      },
      "source": [
        "np.delete(c, 1, axis = 1)"
      ],
      "execution_count": null,
      "outputs": [
        {
          "output_type": "execute_result",
          "data": {
            "text/plain": [
              "array([[1, 3],\n",
              "       [2, 3],\n",
              "       [3, 1]])"
            ]
          },
          "metadata": {},
          "execution_count": 72
        }
      ]
    },
    {
      "cell_type": "code",
      "source": [
        "c"
      ],
      "metadata": {
        "colab": {
          "base_uri": "https://localhost:8080/"
        },
        "id": "jLrSv_6eUnE5",
        "outputId": "bf297e9d-f0da-45ae-a753-f9749160a9a1"
      },
      "execution_count": null,
      "outputs": [
        {
          "output_type": "execute_result",
          "data": {
            "text/plain": [
              "array([[1, 2, 3],\n",
              "       [2, 1, 3],\n",
              "       [3, 2, 1]])"
            ]
          },
          "metadata": {},
          "execution_count": 73
        }
      ]
    },
    {
      "cell_type": "markdown",
      "metadata": {
        "id": "qRodTtHe6L7S"
      },
      "source": [
        "Deletar a linha 0"
      ]
    },
    {
      "cell_type": "code",
      "metadata": {
        "id": "1kyG9EHt6NqM",
        "colab": {
          "base_uri": "https://localhost:8080/"
        },
        "outputId": "3235c305-bdd0-439e-fc81-d81b1c1c0729"
      },
      "source": [
        "np.delete(c, 0, axis = 0)"
      ],
      "execution_count": null,
      "outputs": [
        {
          "output_type": "execute_result",
          "data": {
            "text/plain": [
              "array([[2, 1, 3],\n",
              "       [3, 2, 1]])"
            ]
          },
          "metadata": {},
          "execution_count": 74
        }
      ]
    },
    {
      "cell_type": "code",
      "source": [
        "c"
      ],
      "metadata": {
        "colab": {
          "base_uri": "https://localhost:8080/"
        },
        "id": "4fF6Ya9GUru1",
        "outputId": "8f8499e8-8d91-4419-94bb-2412d2f3f087"
      },
      "execution_count": null,
      "outputs": [
        {
          "output_type": "execute_result",
          "data": {
            "text/plain": [
              "array([[1, 2, 3],\n",
              "       [2, 1, 3],\n",
              "       [3, 2, 1]])"
            ]
          },
          "metadata": {},
          "execution_count": 75
        }
      ]
    },
    {
      "cell_type": "code",
      "metadata": {
        "colab": {
          "base_uri": "https://localhost:8080/"
        },
        "id": "dDmFFPU012cQ",
        "outputId": "8d808a0b-b971-4cde-e3f4-5be64513fd2f"
      },
      "source": [
        "np.delete(c, axis = 0, obj = 0)"
      ],
      "execution_count": null,
      "outputs": [
        {
          "output_type": "execute_result",
          "data": {
            "text/plain": [
              "array([[2, 1, 3],\n",
              "       [3, 2, 1]])"
            ]
          },
          "metadata": {},
          "execution_count": 76
        }
      ]
    },
    {
      "cell_type": "code",
      "source": [
        "c"
      ],
      "metadata": {
        "colab": {
          "base_uri": "https://localhost:8080/"
        },
        "id": "sgm6TXxJUhC-",
        "outputId": "5a8d2ac8-cb11-4e9e-9447-391805b131a1"
      },
      "execution_count": null,
      "outputs": [
        {
          "output_type": "execute_result",
          "data": {
            "text/plain": [
              "array([[1, 2, 3],\n",
              "       [2, 1, 3],\n",
              "       [3, 2, 1]])"
            ]
          },
          "metadata": {},
          "execution_count": 77
        }
      ]
    },
    {
      "cell_type": "code",
      "metadata": {
        "id": "ObvoboVD2BDd"
      },
      "source": [
        "np.delete?"
      ],
      "execution_count": null,
      "outputs": []
    },
    {
      "cell_type": "markdown",
      "metadata": {
        "id": "OcQjKW35q0Yc"
      },
      "source": [
        "### Indexação booleana"
      ]
    },
    {
      "cell_type": "markdown",
      "metadata": {
        "id": "N6a6UqMyzL8o"
      },
      "source": [
        "https://numpy.org/doc/stable/reference/routines.indexing.html"
      ]
    },
    {
      "cell_type": "markdown",
      "metadata": {
        "id": "c4piZpR0SSZy"
      },
      "source": [
        "Exemplo usando números aleatórios com a variação de índices de ações nos últimos 5 pregões"
      ]
    },
    {
      "cell_type": "code",
      "metadata": {
        "id": "NpCLvFO5q0Yd"
      },
      "source": [
        "indexes = np.array(['FTSE 100', 'DAX', 'Dow Jones', 'Ibovespa', 'S&P'])\n",
        "\n",
        "percent_change_last_5_days = np.round(np.random.randn(5, 5), 4)"
      ],
      "execution_count": null,
      "outputs": []
    },
    {
      "cell_type": "code",
      "metadata": {
        "id": "P-_Cz1b2q0Yf",
        "colab": {
          "base_uri": "https://localhost:8080/"
        },
        "outputId": "8f7c3d39-5809-4e1a-af80-f9a0dc29962c"
      },
      "source": [
        "indexes"
      ],
      "execution_count": null,
      "outputs": [
        {
          "output_type": "execute_result",
          "data": {
            "text/plain": [
              "array(['FTSE 100', 'DAX', 'Dow Jones', 'Ibovespa', 'S&P'], dtype='<U9')"
            ]
          },
          "metadata": {},
          "execution_count": 80
        }
      ]
    },
    {
      "cell_type": "code",
      "metadata": {
        "id": "jSg4Pbh3q0Yi",
        "colab": {
          "base_uri": "https://localhost:8080/"
        },
        "outputId": "a64c5827-902a-4e56-ef84-ebb44c35d3aa"
      },
      "source": [
        "percent_change_last_5_days"
      ],
      "execution_count": null,
      "outputs": [
        {
          "output_type": "execute_result",
          "data": {
            "text/plain": [
              "array([[-0.8614, -1.0067, -2.0116, -0.1959, -0.6407],\n",
              "       [-1.1405, -1.5064,  1.5202,  0.7901,  0.1274],\n",
              "       [-1.2587, -2.0289,  0.6551, -0.0941,  1.0017],\n",
              "       [ 0.6302, -0.0152,  0.6398,  1.116 , -0.0801],\n",
              "       [ 1.6783, -0.2235, -0.1953, -0.258 ,  0.2351]])"
            ]
          },
          "metadata": {},
          "execution_count": 81
        }
      ]
    },
    {
      "cell_type": "markdown",
      "metadata": {
        "id": "WkmHH514Q-7z"
      },
      "source": [
        "Booleano no array"
      ]
    },
    {
      "cell_type": "code",
      "metadata": {
        "id": "QQKe624aq0Yl",
        "colab": {
          "base_uri": "https://localhost:8080/"
        },
        "outputId": "b916a24b-4ff5-434c-b6df-7579fedec6aa"
      },
      "source": [
        "indexes == 'Ibovespa'"
      ],
      "execution_count": null,
      "outputs": [
        {
          "output_type": "execute_result",
          "data": {
            "text/plain": [
              "array([False, False, False,  True, False])"
            ]
          },
          "metadata": {},
          "execution_count": 82
        }
      ]
    },
    {
      "cell_type": "markdown",
      "metadata": {
        "id": "IOCG1GdwSeKl"
      },
      "source": [
        "Qual a variação do Ibovespa em cada um dos dias?§"
      ]
    },
    {
      "cell_type": "code",
      "metadata": {
        "id": "5bAowrwYq0Yn",
        "colab": {
          "base_uri": "https://localhost:8080/"
        },
        "outputId": "7e517ba2-55d4-4719-c08e-db4e05457859"
      },
      "source": [
        "percent_change_last_5_days[indexes == 'Ibovespa']"
      ],
      "execution_count": null,
      "outputs": [
        {
          "output_type": "execute_result",
          "data": {
            "text/plain": [
              "array([[ 0.2057, -0.1077, -1.0859,  0.1746,  0.1607]])"
            ]
          },
          "metadata": {},
          "execution_count": 51
        }
      ]
    },
    {
      "cell_type": "markdown",
      "metadata": {
        "id": "9loH_iYg6QmC"
      },
      "source": [
        "Qual a variação do FTSE 100 em cada um dos dias?\n"
      ]
    },
    {
      "cell_type": "code",
      "metadata": {
        "colab": {
          "base_uri": "https://localhost:8080/"
        },
        "id": "T72vtTid6Hfg",
        "outputId": "0cc8d227-56ea-4fe1-8250-82a4ecf28ab3"
      },
      "source": [
        "percent_change_last_5_days[indexes == 'FTSE 100']"
      ],
      "execution_count": null,
      "outputs": [
        {
          "output_type": "execute_result",
          "data": {
            "text/plain": [
              "array([[ 0.7645,  0.3213, -0.4767, -0.1642,  1.8677]])"
            ]
          },
          "metadata": {},
          "execution_count": 52
        }
      ]
    },
    {
      "cell_type": "markdown",
      "metadata": {
        "id": "vqX3-5UNTWeF"
      },
      "source": [
        "Qual a variação média do Ibovespa na amostra?"
      ]
    },
    {
      "cell_type": "code",
      "metadata": {
        "id": "d0bFO8X2SoXB",
        "colab": {
          "base_uri": "https://localhost:8080/"
        },
        "outputId": "4a0bf759-da85-455c-c16f-2b831708dcf8"
      },
      "source": [
        "np.mean(percent_change_last_5_days[indexes == 'Ibovespa'])"
      ],
      "execution_count": null,
      "outputs": [
        {
          "output_type": "execute_result",
          "data": {
            "text/plain": [
              "-0.13052000000000002"
            ]
          },
          "metadata": {},
          "execution_count": 53
        }
      ]
    },
    {
      "cell_type": "markdown",
      "metadata": {
        "id": "V6boDXscRNZ1"
      },
      "source": [
        "Qual foi a variação do Ibovespa dos últimos 2 dias?"
      ]
    },
    {
      "cell_type": "code",
      "metadata": {
        "colab": {
          "base_uri": "https://localhost:8080/"
        },
        "id": "X-RVCM1g7U8t",
        "outputId": "375d222b-d6db-4a82-f4cb-59cb7b91b23e"
      },
      "source": [
        "len(percent_change_last_5_days)"
      ],
      "execution_count": null,
      "outputs": [
        {
          "output_type": "execute_result",
          "data": {
            "text/plain": [
              "5"
            ]
          },
          "metadata": {},
          "execution_count": 54
        }
      ]
    },
    {
      "cell_type": "code",
      "metadata": {
        "id": "0to4KEf_q0Yp",
        "colab": {
          "base_uri": "https://localhost:8080/"
        },
        "outputId": "66745be0-1c61-4b6e-e23d-ab8261a96a7a"
      },
      "source": [
        "percent_change_last_5_days[indexes == 'Ibovespa', len(percent_change_last_5_days)-2:]"
      ],
      "execution_count": null,
      "outputs": [
        {
          "output_type": "execute_result",
          "data": {
            "text/plain": [
              "array([[0.1746, 0.1607]])"
            ]
          },
          "metadata": {},
          "execution_count": 55
        }
      ]
    },
    {
      "cell_type": "markdown",
      "metadata": {
        "id": "I1EJIq2lRTi1"
      },
      "source": [
        "Qual foi a variação do Ibovespa dos 3 primeiros dias da amostra?"
      ]
    },
    {
      "cell_type": "code",
      "metadata": {
        "colab": {
          "base_uri": "https://localhost:8080/"
        },
        "id": "xZy8ogNQ75YA",
        "outputId": "ebac69cc-45b0-4886-ef89-ac3f75f5049b"
      },
      "source": [
        "3-len(percent_change_last_5_days)"
      ],
      "execution_count": null,
      "outputs": [
        {
          "output_type": "execute_result",
          "data": {
            "text/plain": [
              "-2"
            ]
          },
          "metadata": {},
          "execution_count": 56
        }
      ]
    },
    {
      "cell_type": "code",
      "metadata": {
        "id": "QZGrTbgEQR32",
        "colab": {
          "base_uri": "https://localhost:8080/"
        },
        "outputId": "796af8ae-e38a-47fc-ace7-a47840f01d38"
      },
      "source": [
        "percent_change_last_5_days[indexes == 'Ibovespa', :3-len(percent_change_last_5_days)]"
      ],
      "execution_count": null,
      "outputs": [
        {
          "output_type": "execute_result",
          "data": {
            "text/plain": [
              "array([[ 0.2057, -0.1077, -1.0859]])"
            ]
          },
          "metadata": {},
          "execution_count": 57
        }
      ]
    },
    {
      "cell_type": "markdown",
      "metadata": {
        "id": "u4ZrccfZ8G9r"
      },
      "source": [
        "Qual foi a variação do Ibovespa de cada um dos dias do segundo dia da amostra até o penúltimo?\n"
      ]
    },
    {
      "cell_type": "code",
      "metadata": {
        "colab": {
          "base_uri": "https://localhost:8080/"
        },
        "id": "BIByxFMN9lB9",
        "outputId": "06f2be0a-ed69-4865-be1b-f7059ad22d11"
      },
      "source": [
        "percent_change_last_5_days[indexes == 'Ibovespa',]"
      ],
      "execution_count": null,
      "outputs": [
        {
          "output_type": "execute_result",
          "data": {
            "text/plain": [
              "array([[ 0.2057, -0.1077, -1.0859,  0.1746,  0.1607]])"
            ]
          },
          "metadata": {},
          "execution_count": 58
        }
      ]
    },
    {
      "cell_type": "code",
      "metadata": {
        "colab": {
          "base_uri": "https://localhost:8080/"
        },
        "id": "OAvO5feJ8B-f",
        "outputId": "2597d6a6-de0d-4051-f7c9-8c3acf5b7a97"
      },
      "source": [
        "percent_change_last_5_days[indexes == 'Ibovespa', 1:-1]"
      ],
      "execution_count": null,
      "outputs": [
        {
          "output_type": "execute_result",
          "data": {
            "text/plain": [
              "array([[-0.1077, -1.0859,  0.1746]])"
            ]
          },
          "metadata": {},
          "execution_count": 59
        }
      ]
    },
    {
      "cell_type": "markdown",
      "metadata": {
        "id": "qEHcHandTeFG"
      },
      "source": [
        "Vamos olhar todo mundo que não é Ibovespa"
      ]
    },
    {
      "cell_type": "code",
      "metadata": {
        "id": "SKmuKDLsRY7h",
        "colab": {
          "base_uri": "https://localhost:8080/"
        },
        "outputId": "52a86d3b-dce1-44fa-f045-43b77229c88d"
      },
      "source": [
        "indexes != 'Ibovespa'"
      ],
      "execution_count": null,
      "outputs": [
        {
          "output_type": "execute_result",
          "data": {
            "text/plain": [
              "array([ True,  True,  True, False,  True])"
            ]
          },
          "metadata": {},
          "execution_count": 60
        }
      ]
    },
    {
      "cell_type": "code",
      "metadata": {
        "id": "4EMMNBXcq0Yt",
        "colab": {
          "base_uri": "https://localhost:8080/"
        },
        "outputId": "e2416b49-0e4b-449c-c0f3-11f0d0098b56"
      },
      "source": [
        "percent_change_last_5_days[indexes != 'Ibovespa']"
      ],
      "execution_count": null,
      "outputs": [
        {
          "output_type": "execute_result",
          "data": {
            "text/plain": [
              "array([[ 0.7645,  0.3213, -0.4767, -0.1642,  1.8677],\n",
              "       [-0.1244,  2.2421, -0.565 ,  0.1017,  0.1142],\n",
              "       [ 0.4684, -1.1165, -0.3305,  0.6502,  1.4143],\n",
              "       [-0.6741,  1.261 ,  1.2228,  1.0691, -0.8159]])"
            ]
          },
          "metadata": {},
          "execution_count": 61
        }
      ]
    },
    {
      "cell_type": "code",
      "metadata": {
        "id": "e3mG91peRkA1",
        "colab": {
          "base_uri": "https://localhost:8080/"
        },
        "outputId": "fde0c570-47a4-4185-d68b-365ad5ecf028"
      },
      "source": [
        "percent_change_last_5_days[~(indexes == 'Ibovespa')]"
      ],
      "execution_count": null,
      "outputs": [
        {
          "output_type": "execute_result",
          "data": {
            "text/plain": [
              "array([[ 0.7645,  0.3213, -0.4767, -0.1642,  1.8677],\n",
              "       [-0.1244,  2.2421, -0.565 ,  0.1017,  0.1142],\n",
              "       [ 0.4684, -1.1165, -0.3305,  0.6502,  1.4143],\n",
              "       [-0.6741,  1.261 ,  1.2228,  1.0691, -0.8159]])"
            ]
          },
          "metadata": {},
          "execution_count": 62
        }
      ]
    },
    {
      "cell_type": "markdown",
      "metadata": {
        "id": "NXhiu6I9ThWj"
      },
      "source": [
        "Se eu quiser separar as condições em um booleano."
      ]
    },
    {
      "cell_type": "code",
      "metadata": {
        "colab": {
          "base_uri": "https://localhost:8080/"
        },
        "id": "ap90ectwCeKC",
        "outputId": "7a9ed197-e29c-4b0a-a98d-673f4f6bbd8a"
      },
      "source": [
        "indexes"
      ],
      "execution_count": null,
      "outputs": [
        {
          "output_type": "execute_result",
          "data": {
            "text/plain": [
              "array(['FTSE 100', 'DAX', 'Dow Jones', 'Ibovespa', 'S&P'], dtype='<U9')"
            ]
          },
          "metadata": {},
          "execution_count": 63
        }
      ]
    },
    {
      "cell_type": "code",
      "metadata": {
        "id": "Y4HR1LY6Rucd"
      },
      "source": [
        "multiplas_condicoes = (indexes == 'S&P') | (indexes == 'Dow Jones')"
      ],
      "execution_count": null,
      "outputs": []
    },
    {
      "cell_type": "code",
      "metadata": {
        "id": "v9yxXvFkR0bv",
        "colab": {
          "base_uri": "https://localhost:8080/"
        },
        "outputId": "8a745ec6-a83f-4732-f539-072b1f6c47be"
      },
      "source": [
        "multiplas_condicoes"
      ],
      "execution_count": null,
      "outputs": [
        {
          "output_type": "execute_result",
          "data": {
            "text/plain": [
              "array([False, False,  True, False,  True])"
            ]
          },
          "metadata": {},
          "execution_count": 65
        }
      ]
    },
    {
      "cell_type": "code",
      "metadata": {
        "id": "oeJiYc2Qq0Yy",
        "colab": {
          "base_uri": "https://localhost:8080/"
        },
        "outputId": "ecb82948-185d-4f9f-ff23-1fb9540bfacd"
      },
      "source": [
        "percent_change_last_5_days[multiplas_condicoes]"
      ],
      "execution_count": null,
      "outputs": [
        {
          "output_type": "execute_result",
          "data": {
            "text/plain": [
              "array([[ 0.4684, -1.1165, -0.3305,  0.6502,  1.4143],\n",
              "       [-0.6741,  1.261 ,  1.2228,  1.0691, -0.8159]])"
            ]
          },
          "metadata": {},
          "execution_count": 66
        }
      ]
    },
    {
      "cell_type": "markdown",
      "metadata": {
        "id": "l7QiYD59R69n"
      },
      "source": [
        "Se quiséssemos discretizar?\n",
        "\n",
        "- 1 para alta e -1 para queda"
      ]
    },
    {
      "cell_type": "code",
      "metadata": {
        "id": "UhUh9cdrUl_j"
      },
      "source": [
        "percent_change_last_5_days_discrete = percent_change_last_5_days.copy()"
      ],
      "execution_count": null,
      "outputs": []
    },
    {
      "cell_type": "code",
      "metadata": {
        "id": "zYrdtkGsq0Y0"
      },
      "source": [
        "percent_change_last_5_days_discrete[percent_change_last_5_days < 0] = -1\n",
        "percent_change_last_5_days_discrete[percent_change_last_5_days > 0] = 1"
      ],
      "execution_count": null,
      "outputs": []
    },
    {
      "cell_type": "code",
      "metadata": {
        "id": "IhQL5Jc6VY1n",
        "colab": {
          "base_uri": "https://localhost:8080/"
        },
        "outputId": "50a79aac-56b9-4c55-e535-a3cf0c61f945"
      },
      "source": [
        "percent_change_last_5_days_discrete"
      ],
      "execution_count": null,
      "outputs": [
        {
          "output_type": "execute_result",
          "data": {
            "text/plain": [
              "array([[ 1.,  1., -1., -1.,  1.],\n",
              "       [-1.,  1., -1.,  1.,  1.],\n",
              "       [ 1., -1., -1.,  1.,  1.],\n",
              "       [ 1., -1., -1.,  1.,  1.],\n",
              "       [-1.,  1.,  1.,  1., -1.]])"
            ]
          },
          "metadata": {},
          "execution_count": 69
        }
      ]
    },
    {
      "cell_type": "code",
      "metadata": {
        "colab": {
          "base_uri": "https://localhost:8080/"
        },
        "id": "6-65qyecD3me",
        "outputId": "340c470f-6226-46b8-d59a-c1fdc87997ac"
      },
      "source": [
        "type(percent_change_last_5_days_discrete)"
      ],
      "execution_count": null,
      "outputs": [
        {
          "output_type": "execute_result",
          "data": {
            "text/plain": [
              "numpy.ndarray"
            ]
          },
          "metadata": {},
          "execution_count": 70
        }
      ]
    },
    {
      "cell_type": "code",
      "metadata": {
        "colab": {
          "base_uri": "https://localhost:8080/"
        },
        "id": "kHaAWYdaDxms",
        "outputId": "45a6508c-b4bc-48d0-cb5a-337e696a5acb"
      },
      "source": [
        "type(percent_change_last_5_days_discrete[0][0])"
      ],
      "execution_count": null,
      "outputs": [
        {
          "output_type": "execute_result",
          "data": {
            "text/plain": [
              "numpy.float64"
            ]
          },
          "metadata": {},
          "execution_count": 71
        }
      ]
    },
    {
      "cell_type": "markdown",
      "metadata": {
        "id": "ClONpT1E6iO0"
      },
      "source": [
        "**where**\n",
        "\n",
        "- É uma outra forma de manipular um array baseado em uma condição\n",
        "\n",
        "- *np.where(condição, valor caso condição seja True, valor caso condição seja False)*\n",
        "\n",
        "- No exemplo abaixo estamos fazendo o mesmo que foi feito em *percent_change_last_5_days_discrete*"
      ]
    },
    {
      "cell_type": "code",
      "metadata": {
        "id": "hehd9WkT6rBj",
        "colab": {
          "base_uri": "https://localhost:8080/"
        },
        "outputId": "3e9c2dbf-34fd-4476-818d-7fae734e9ead"
      },
      "source": [
        "np.where(percent_change_last_5_days > 0, 1,-1)"
      ],
      "execution_count": null,
      "outputs": [
        {
          "output_type": "execute_result",
          "data": {
            "text/plain": [
              "array([[ 1,  1,  1,  1, -1],\n",
              "       [-1, -1,  1,  1, -1],\n",
              "       [ 1,  1,  1,  1, -1],\n",
              "       [-1, -1, -1,  1,  1],\n",
              "       [-1,  1, -1,  1,  1]])"
            ]
          },
          "metadata": {},
          "execution_count": 250
        }
      ]
    },
    {
      "cell_type": "code",
      "metadata": {
        "colab": {
          "base_uri": "https://localhost:8080/"
        },
        "id": "wrKAceByDk7M",
        "outputId": "a7102dd6-8952-4b91-c569-6d8e3f9456ce"
      },
      "source": [
        "type(np.where(percent_change_last_5_days > 0, 1,-1)[0][0])"
      ],
      "execution_count": null,
      "outputs": [
        {
          "output_type": "execute_result",
          "data": {
            "text/plain": [
              "numpy.int64"
            ]
          },
          "metadata": {},
          "execution_count": 252
        }
      ]
    },
    {
      "cell_type": "markdown",
      "metadata": {
        "id": "iyOdXy2cUS8-"
      },
      "source": [
        "**vectorize**\n",
        "\n",
        "- Aplica uma função dada em cada elemento do array\n",
        "- Semelhante ao map"
      ]
    },
    {
      "cell_type": "markdown",
      "metadata": {
        "id": "EyqmaHutVMr5"
      },
      "source": [
        "Categorizar as variações"
      ]
    },
    {
      "cell_type": "code",
      "metadata": {
        "id": "BXzACFLAVLlZ"
      },
      "source": [
        "def categorizar_indices(val):\n",
        "    if val > 1:\n",
        "        return \"alta expressiva\"\n",
        "    elif val > 0:\n",
        "        return \"alta\"\n",
        "    elif val > -0.5:\n",
        "        return \"queda\"\n",
        "    else:\n",
        "        return \"queda expressiva\""
      ],
      "execution_count": null,
      "outputs": []
    },
    {
      "cell_type": "code",
      "metadata": {
        "colab": {
          "base_uri": "https://localhost:8080/",
          "height": 283
        },
        "id": "4bHvJbboEqbQ",
        "outputId": "985ff6f6-86cc-42ee-c9da-70ec7fa284c7"
      },
      "source": [
        "categorizar_indices(percent_change_last_5_days)"
      ],
      "execution_count": null,
      "outputs": [
        {
          "output_type": "error",
          "ename": "ValueError",
          "evalue": "ignored",
          "traceback": [
            "\u001b[0;31m---------------------------------------------------------------------------\u001b[0m",
            "\u001b[0;31mValueError\u001b[0m                                Traceback (most recent call last)",
            "\u001b[0;32m<ipython-input-257-e3db66790cbf>\u001b[0m in \u001b[0;36m<module>\u001b[0;34m()\u001b[0m\n\u001b[0;32m----> 1\u001b[0;31m \u001b[0mcategorizar_indices\u001b[0m\u001b[0;34m(\u001b[0m\u001b[0mpercent_change_last_5_days\u001b[0m\u001b[0;34m)\u001b[0m\u001b[0;34m\u001b[0m\u001b[0;34m\u001b[0m\u001b[0m\n\u001b[0m",
            "\u001b[0;32m<ipython-input-255-c2903a06ebbc>\u001b[0m in \u001b[0;36mcategorizar_indices\u001b[0;34m(val)\u001b[0m\n\u001b[1;32m      1\u001b[0m \u001b[0;32mdef\u001b[0m \u001b[0mcategorizar_indices\u001b[0m\u001b[0;34m(\u001b[0m\u001b[0mval\u001b[0m\u001b[0;34m)\u001b[0m\u001b[0;34m:\u001b[0m\u001b[0;34m\u001b[0m\u001b[0;34m\u001b[0m\u001b[0m\n\u001b[0;32m----> 2\u001b[0;31m     \u001b[0;32mif\u001b[0m \u001b[0mval\u001b[0m \u001b[0;34m>\u001b[0m \u001b[0;36m1\u001b[0m\u001b[0;34m:\u001b[0m\u001b[0;34m\u001b[0m\u001b[0;34m\u001b[0m\u001b[0m\n\u001b[0m\u001b[1;32m      3\u001b[0m         \u001b[0;32mreturn\u001b[0m \u001b[0;34m\"alta expressiva\"\u001b[0m\u001b[0;34m\u001b[0m\u001b[0;34m\u001b[0m\u001b[0m\n\u001b[1;32m      4\u001b[0m     \u001b[0;32melif\u001b[0m \u001b[0mval\u001b[0m \u001b[0;34m>\u001b[0m \u001b[0;36m0\u001b[0m\u001b[0;34m:\u001b[0m\u001b[0;34m\u001b[0m\u001b[0;34m\u001b[0m\u001b[0m\n\u001b[1;32m      5\u001b[0m         \u001b[0;32mreturn\u001b[0m \u001b[0;34m\"alta\"\u001b[0m\u001b[0;34m\u001b[0m\u001b[0;34m\u001b[0m\u001b[0m\n",
            "\u001b[0;31mValueError\u001b[0m: The truth value of an array with more than one element is ambiguous. Use a.any() or a.all()"
          ]
        }
      ]
    },
    {
      "cell_type": "code",
      "metadata": {
        "id": "DiuWe_tqVQ7t"
      },
      "source": [
        "f_vec = np.vectorize(categorizar_indices)"
      ],
      "execution_count": null,
      "outputs": []
    },
    {
      "cell_type": "code",
      "metadata": {
        "id": "BGdNPRuZVS-6"
      },
      "source": [
        "percent_change_last_5_days_category = f_vec(percent_change_last_5_days)"
      ],
      "execution_count": null,
      "outputs": []
    },
    {
      "cell_type": "code",
      "metadata": {
        "id": "P0vDysvTV0lo",
        "colab": {
          "base_uri": "https://localhost:8080/"
        },
        "outputId": "711edf1f-97a1-42ce-fc96-0da6f7f0b9a0"
      },
      "source": [
        "percent_change_last_5_days_category"
      ],
      "execution_count": null,
      "outputs": [
        {
          "output_type": "execute_result",
          "data": {
            "text/plain": [
              "array([['alta', 'alta', 'alta', 'alta expressiva', 'queda expressiva'],\n",
              "       ['queda expressiva', 'queda expressiva', 'alta',\n",
              "        'alta expressiva', 'queda'],\n",
              "       ['alta expressiva', 'alta', 'alta', 'alta', 'queda'],\n",
              "       ['queda expressiva', 'queda', 'queda expressiva', 'alta',\n",
              "        'alta expressiva'],\n",
              "       ['queda expressiva', 'alta', 'queda', 'alta', 'alta']],\n",
              "      dtype='<U16')"
            ]
          },
          "metadata": {},
          "execution_count": 260
        }
      ]
    },
    {
      "cell_type": "markdown",
      "metadata": {
        "id": "BLN7bCJU6ka7"
      },
      "source": [
        "**unique**\n",
        "\n",
        "- Retorna todos os valores únicos do array"
      ]
    },
    {
      "cell_type": "code",
      "metadata": {
        "id": "yU8hSoDDeL7u",
        "colab": {
          "base_uri": "https://localhost:8080/"
        },
        "outputId": "04094280-01cf-49e7-953e-01dad6ae8c9b"
      },
      "source": [
        "np.unique(percent_change_last_5_days_category)"
      ],
      "execution_count": null,
      "outputs": [
        {
          "output_type": "execute_result",
          "data": {
            "text/plain": [
              "array(['alta', 'alta expressiva', 'queda', 'queda expressiva'],\n",
              "      dtype='<U16')"
            ]
          },
          "metadata": {},
          "execution_count": 262
        }
      ]
    },
    {
      "cell_type": "code",
      "metadata": {
        "colab": {
          "base_uri": "https://localhost:8080/"
        },
        "id": "PpZgzW48GSnS",
        "outputId": "8de9957b-333b-481e-cd11-ba73795fda7b"
      },
      "source": [
        "np.size(np.unique(percent_change_last_5_days))"
      ],
      "execution_count": null,
      "outputs": [
        {
          "output_type": "execute_result",
          "data": {
            "text/plain": [
              "25"
            ]
          },
          "metadata": {},
          "execution_count": 264
        }
      ]
    },
    {
      "cell_type": "code",
      "metadata": {
        "colab": {
          "base_uri": "https://localhost:8080/"
        },
        "id": "yHtBJCG3Gg02",
        "outputId": "d64e2e2f-75e1-4e10-ae28-c00ffa9a8bf7"
      },
      "source": [
        "np.unique(percent_change_last_5_days_discrete)"
      ],
      "execution_count": null,
      "outputs": [
        {
          "output_type": "execute_result",
          "data": {
            "text/plain": [
              "array([-1.,  1.])"
            ]
          },
          "metadata": {},
          "execution_count": 265
        }
      ]
    },
    {
      "cell_type": "markdown",
      "metadata": {
        "id": "tEiKnYVQezJC"
      },
      "source": [
        "Adicionando o argumento 'return_counts', é possível ter a contagem"
      ]
    },
    {
      "cell_type": "code",
      "metadata": {
        "id": "riRtUlxFeO55"
      },
      "source": [
        "unique, counts = np.unique(percent_change_last_5_days_category, return_counts=True)"
      ],
      "execution_count": null,
      "outputs": []
    },
    {
      "cell_type": "code",
      "metadata": {
        "colab": {
          "base_uri": "https://localhost:8080/"
        },
        "id": "GubwJoTbG4E9",
        "outputId": "5a9da0e0-3cfb-4f8a-f580-055bc8cecd21"
      },
      "source": [
        "unique"
      ],
      "execution_count": null,
      "outputs": [
        {
          "output_type": "execute_result",
          "data": {
            "text/plain": [
              "array(['alta', 'alta expressiva', 'queda', 'queda expressiva'],\n",
              "      dtype='<U16')"
            ]
          },
          "metadata": {},
          "execution_count": 267
        }
      ]
    },
    {
      "cell_type": "code",
      "metadata": {
        "colab": {
          "base_uri": "https://localhost:8080/"
        },
        "id": "g2qy0t_dHOFh",
        "outputId": "68e07829-f59e-4b7e-9c27-377da1f2b9d2"
      },
      "source": [
        "counts"
      ],
      "execution_count": null,
      "outputs": [
        {
          "output_type": "execute_result",
          "data": {
            "text/plain": [
              "array([11,  4,  4,  6])"
            ]
          },
          "metadata": {},
          "execution_count": 268
        }
      ]
    },
    {
      "cell_type": "code",
      "metadata": {
        "colab": {
          "base_uri": "https://localhost:8080/"
        },
        "id": "UwJNvUF4Ib_Z",
        "outputId": "9925d775-e0b8-49fe-d660-44bce1dd7f83"
      },
      "source": [
        "type(counts[0])"
      ],
      "execution_count": null,
      "outputs": [
        {
          "output_type": "execute_result",
          "data": {
            "text/plain": [
              "numpy.int64"
            ]
          },
          "metadata": {},
          "execution_count": 277
        }
      ]
    },
    {
      "cell_type": "code",
      "metadata": {
        "colab": {
          "base_uri": "https://localhost:8080/"
        },
        "id": "ysYbm3snHS22",
        "outputId": "bfd5d4c4-e2d3-4820-f005-ffe70b5a33fe"
      },
      "source": [
        "print(np.ndim(np.asarray((unique, counts)).T))\n",
        "print(np.shape(np.asarray((unique, counts)).T))\n",
        "(np.asarray((unique, counts)).T)"
      ],
      "execution_count": null,
      "outputs": [
        {
          "output_type": "stream",
          "text": [
            "2\n",
            "(4, 2)\n"
          ],
          "name": "stdout"
        },
        {
          "output_type": "execute_result",
          "data": {
            "text/plain": [
              "array([['alta', '11'],\n",
              "       ['alta expressiva', '4'],\n",
              "       ['queda', '4'],\n",
              "       ['queda expressiva', '6']], dtype='<U21')"
            ]
          },
          "metadata": {},
          "execution_count": 276
        }
      ]
    },
    {
      "cell_type": "code",
      "metadata": {
        "colab": {
          "base_uri": "https://localhost:8080/"
        },
        "id": "-nqm_q-4Hcmp",
        "outputId": "b12b2d41-b404-45bf-bc8a-6b3369d18943"
      },
      "source": [
        "help(np.asarray)"
      ],
      "execution_count": null,
      "outputs": [
        {
          "output_type": "stream",
          "text": [
            "Help on function asarray in module numpy:\n",
            "\n",
            "asarray(a, dtype=None, order=None)\n",
            "    Convert the input to an array.\n",
            "    \n",
            "    Parameters\n",
            "    ----------\n",
            "    a : array_like\n",
            "        Input data, in any form that can be converted to an array.  This\n",
            "        includes lists, lists of tuples, tuples, tuples of tuples, tuples\n",
            "        of lists and ndarrays.\n",
            "    dtype : data-type, optional\n",
            "        By default, the data-type is inferred from the input data.\n",
            "    order : {'C', 'F'}, optional\n",
            "        Whether to use row-major (C-style) or\n",
            "        column-major (Fortran-style) memory representation.\n",
            "        Defaults to 'C'.\n",
            "    \n",
            "    Returns\n",
            "    -------\n",
            "    out : ndarray\n",
            "        Array interpretation of `a`.  No copy is performed if the input\n",
            "        is already an ndarray with matching dtype and order.  If `a` is a\n",
            "        subclass of ndarray, a base class ndarray is returned.\n",
            "    \n",
            "    See Also\n",
            "    --------\n",
            "    asanyarray : Similar function which passes through subclasses.\n",
            "    ascontiguousarray : Convert input to a contiguous array.\n",
            "    asfarray : Convert input to a floating point ndarray.\n",
            "    asfortranarray : Convert input to an ndarray with column-major\n",
            "                     memory order.\n",
            "    asarray_chkfinite : Similar function which checks input for NaNs and Infs.\n",
            "    fromiter : Create an array from an iterator.\n",
            "    fromfunction : Construct an array by executing a function on grid\n",
            "                   positions.\n",
            "    \n",
            "    Examples\n",
            "    --------\n",
            "    Convert a list into an array:\n",
            "    \n",
            "    >>> a = [1, 2]\n",
            "    >>> np.asarray(a)\n",
            "    array([1, 2])\n",
            "    \n",
            "    Existing arrays are not copied:\n",
            "    \n",
            "    >>> a = np.array([1, 2])\n",
            "    >>> np.asarray(a) is a\n",
            "    True\n",
            "    \n",
            "    If `dtype` is set, array is copied only if dtype does not match:\n",
            "    \n",
            "    >>> a = np.array([1, 2], dtype=np.float32)\n",
            "    >>> np.asarray(a, dtype=np.float32) is a\n",
            "    True\n",
            "    >>> np.asarray(a, dtype=np.float64) is a\n",
            "    False\n",
            "    \n",
            "    Contrary to `asanyarray`, ndarray subclasses are not passed through:\n",
            "    \n",
            "    >>> issubclass(np.recarray, np.ndarray)\n",
            "    True\n",
            "    >>> a = np.array([(1.0, 2), (3.0, 4)], dtype='f4,i4').view(np.recarray)\n",
            "    >>> np.asarray(a) is a\n",
            "    False\n",
            "    >>> np.asanyarray(a) is a\n",
            "    True\n",
            "\n"
          ],
          "name": "stdout"
        }
      ]
    },
    {
      "cell_type": "code",
      "metadata": {
        "id": "0pXBqpdwfANW",
        "colab": {
          "base_uri": "https://localhost:8080/"
        },
        "outputId": "7d4f8e29-5ce7-4030-f77c-0de3840c6ec2"
      },
      "source": [
        "unique, counts = np.unique(percent_change_last_5_days_category[indexes == 'Ibovespa'], return_counts = True)\n",
        "print(np.asarray((unique, counts)).T)\n",
        "print((np.asarray((unique, counts)).T)[0][0])\n",
        "print((np.asarray((unique, counts)).T)[0][1])\n",
        "np.ndim((np.asarray((unique, counts)).T))\n",
        "np.size((np.asarray((unique, counts)).T))"
      ],
      "execution_count": null,
      "outputs": [
        {
          "output_type": "stream",
          "text": [
            "[['alta' '1']\n",
            " ['alta expressiva' '1']\n",
            " ['queda' '1']\n",
            " ['queda expressiva' '2']]\n",
            "alta\n",
            "1\n"
          ],
          "name": "stdout"
        },
        {
          "output_type": "execute_result",
          "data": {
            "text/plain": [
              "8"
            ]
          },
          "metadata": {},
          "execution_count": 282
        }
      ]
    },
    {
      "cell_type": "markdown",
      "metadata": {
        "id": "L7jvX69wZqdT"
      },
      "source": [
        "# Aperitivo\n",
        "\n",
        "## Obtendo dados de ações com o pacote yfinance"
      ]
    },
    {
      "cell_type": "code",
      "metadata": {
        "id": "qMHefXI1WSDV",
        "colab": {
          "base_uri": "https://localhost:8080/"
        },
        "outputId": "b2213b12-f262-4b07-906a-21d7ae9294f1"
      },
      "source": [
        "%pip install yfinance"
      ],
      "execution_count": null,
      "outputs": [
        {
          "output_type": "stream",
          "text": [
            "Requirement already satisfied: yfinance in /usr/local/lib/python3.7/dist-packages (0.1.63)\n",
            "Requirement already satisfied: requests>=2.20 in /usr/local/lib/python3.7/dist-packages (from yfinance) (2.23.0)\n",
            "Requirement already satisfied: lxml>=4.5.1 in /usr/local/lib/python3.7/dist-packages (from yfinance) (4.6.3)\n",
            "Requirement already satisfied: pandas>=0.24 in /usr/local/lib/python3.7/dist-packages (from yfinance) (1.1.5)\n",
            "Requirement already satisfied: multitasking>=0.0.7 in /usr/local/lib/python3.7/dist-packages (from yfinance) (0.0.9)\n",
            "Requirement already satisfied: numpy>=1.15 in /usr/local/lib/python3.7/dist-packages (from yfinance) (1.19.5)\n",
            "Requirement already satisfied: pytz>=2017.2 in /usr/local/lib/python3.7/dist-packages (from pandas>=0.24->yfinance) (2018.9)\n",
            "Requirement already satisfied: python-dateutil>=2.7.3 in /usr/local/lib/python3.7/dist-packages (from pandas>=0.24->yfinance) (2.8.2)\n",
            "Requirement already satisfied: six>=1.5 in /usr/local/lib/python3.7/dist-packages (from python-dateutil>=2.7.3->pandas>=0.24->yfinance) (1.15.0)\n",
            "Requirement already satisfied: chardet<4,>=3.0.2 in /usr/local/lib/python3.7/dist-packages (from requests>=2.20->yfinance) (3.0.4)\n",
            "Requirement already satisfied: urllib3!=1.25.0,!=1.25.1,<1.26,>=1.21.1 in /usr/local/lib/python3.7/dist-packages (from requests>=2.20->yfinance) (1.24.3)\n",
            "Requirement already satisfied: certifi>=2017.4.17 in /usr/local/lib/python3.7/dist-packages (from requests>=2.20->yfinance) (2021.5.30)\n",
            "Requirement already satisfied: idna<3,>=2.5 in /usr/local/lib/python3.7/dist-packages (from requests>=2.20->yfinance) (2.10)\n"
          ],
          "name": "stdout"
        }
      ]
    },
    {
      "cell_type": "code",
      "metadata": {
        "id": "X-j4IamJWCHi"
      },
      "source": [
        "import yfinance as yf"
      ],
      "execution_count": null,
      "outputs": []
    },
    {
      "cell_type": "code",
      "metadata": {
        "id": "N3dJHtkZWwdB",
        "colab": {
          "base_uri": "https://localhost:8080/"
        },
        "outputId": "521d6c84-0a80-445a-fd47-260537c590ba"
      },
      "source": [
        "tesla = yf.Ticker(\"TSLA\")\n",
        "print(tesla)\n",
        "\n",
        "# get stock info\n",
        "print(tesla.info)\n",
        "print(type(tesla.info))\n",
        "\n",
        "# get historical market data\n",
        "dadostesla = tesla.history(period=\"5y\")\n",
        "print(type(dadostesla))\n",
        "print(dadostesla)"
      ],
      "execution_count": null,
      "outputs": [
        {
          "output_type": "stream",
          "text": [
            "yfinance.Ticker object <TSLA>\n",
            "{'zip': '94304', 'sector': 'Consumer Cyclical', 'fullTimeEmployees': 70757, 'longBusinessSummary': 'Tesla, Inc. designs, develops, manufactures, leases, and sells electric vehicles, and energy generation and storage systems in the United States, China, and internationally. The company operates in two segments, Automotive, and Energy Generation and Storage. The Automotive segment offers electric vehicles, as well as sells automotive regulatory credits. It provides sedans and sport utility vehicles through direct and used vehicle sales, a network of Tesla Superchargers, and in-app upgrades; and purchase financing and leasing services. This segment is also involved in the provision of non-warranty after-sales vehicle services, sale of used vehicles, retail merchandise, and vehicle insurance, as well as sale of products through its subsidiaries to third party customers; services for electric vehicles through its company-owned service locations, and Tesla mobile service technicians; and vehicle limited warranties and extended service plans. The Energy Generation and Storage segment engages in the design, manufacture, installation, sale, and leasing of solar energy generation and energy storage products, and related services to residential, commercial, and industrial customers and utilities through its website, stores, and galleries, as well as through a network of channel partners. This segment also offers service and repairs to its energy product customers, including under warranty; and various financing options to its solar customers. The company was formerly known as Tesla Motors, Inc. and changed its name to Tesla, Inc. in February 2017. Tesla, Inc. was founded in 2003 and is headquartered in Palo Alto, California.', 'city': 'Palo Alto', 'phone': '650-681-5000', 'state': 'CA', 'country': 'United States', 'companyOfficers': [], 'website': 'http://www.tesla.com', 'maxAge': 1, 'address1': '3500 Deer Creek Road', 'industry': 'Auto Manufacturers', 'ebitdaMargins': 0.13738, 'profitMargins': 0.0521, 'grossMargins': 0.22044, 'operatingCashflow': 9184000000, 'revenueGrowth': 0.981, 'operatingMargins': 0.07756, 'ebitda': 5751000064, 'targetLowPrice': 67, 'recommendationKey': 'hold', 'grossProfits': 6630000000, 'freeCashflow': 4515624960, 'targetMedianPrice': 751, 'currentPrice': 711.92, 'earningsGrowth': 9.2, 'currentRatio': 1.508, 'returnOnAssets': 0.043509997, 'numberOfAnalystOpinions': 34, 'targetMeanPrice': 701.85, 'debtToEquity': 42.552, 'returnOnEquity': 0.12275, 'targetHighPrice': 1591, 'totalCash': 16229000192, 'totalDebt': 11169999872, 'totalRevenue': 41862000640, 'totalCashPerShare': 16.393, 'financialCurrency': 'USD', 'revenuePerShare': 43.812, 'quickRatio': 1.123, 'recommendationMean': 2.6, 'exchange': 'NMS', 'shortName': 'Tesla, Inc.', 'longName': 'Tesla, Inc.', 'exchangeTimezoneName': 'America/New_York', 'exchangeTimezoneShortName': 'EDT', 'isEsgPopulated': False, 'gmtOffSetMilliseconds': '-14400000', 'quoteType': 'EQUITY', 'symbol': 'TSLA', 'messageBoardId': 'finmb_27444752', 'market': 'us_market', 'annualHoldingsTurnover': None, 'enterpriseToRevenue': 16.496, 'beta3Year': None, 'enterpriseToEbitda': 120.074, '52WeekChange': 0.58389807, 'morningStarRiskRating': None, 'forwardEps': 6.97, 'revenueQuarterlyGrowth': None, 'sharesOutstanding': 990014976, 'fundInceptionDate': None, 'annualReportExpenseRatio': None, 'totalAssets': None, 'bookValue': 25.207, 'sharesShort': 26828057, 'sharesPercentSharesOut': 0.0271, 'fundFamily': None, 'lastFiscalYearEnd': 1609372800, 'heldPercentInstitutions': 0.41296002, 'netIncomeToCommon': 2150000128, 'trailingEps': 1.897, 'lastDividendValue': None, 'SandP52WeekChange': 0.27422667, 'priceToBook': 28.242947, 'heldPercentInsiders': 0.18962, 'nextFiscalYearEnd': 1672444800, 'yield': None, 'mostRecentQuarter': 1625011200, 'shortRatio': 1.38, 'sharesShortPreviousMonthDate': 1626307200, 'floatShares': 801743975, 'beta': 1.963959, 'enterpriseValue': 690546016256, 'priceHint': 2, 'threeYearAverageReturn': None, 'lastSplitDate': None, 'lastSplitFactor': None, 'legalType': None, 'lastDividendDate': None, 'morningStarOverallRating': None, 'earningsQuarterlyGrowth': 9.981, 'priceToSalesTrailing12Months': 16.836544, 'dateShortInterest': 1628812800, 'pegRatio': 2.59, 'ytdReturn': None, 'forwardPE': 102.1406, 'lastCapGain': None, 'shortPercentOfFloat': 0.0334, 'sharesShortPriorMonth': 32355387, 'impliedSharesOutstanding': None, 'category': None, 'fiveYearAverageReturn': None, 'previousClose': 701.16, 'regularMarketOpen': 705, 'twoHundredDayAverage': 672.3998, 'trailingAnnualDividendYield': None, 'payoutRatio': 0, 'volume24Hr': None, 'regularMarketDayHigh': 714.99, 'navPrice': None, 'averageDailyVolume10Day': 16533850, 'regularMarketPreviousClose': 701.16, 'fiftyDayAverage': 681.0439, 'trailingAnnualDividendRate': None, 'open': 705, 'toCurrency': None, 'averageVolume10days': 16533850, 'expireDate': None, 'algorithm': None, 'dividendRate': None, 'exDividendDate': None, 'circulatingSupply': None, 'startDate': None, 'regularMarketDayLow': 702.1001, 'currency': 'USD', 'trailingPE': 375.2873, 'regularMarketVolume': 13833763, 'lastMarket': None, 'maxSupply': None, 'openInterest': None, 'marketCap': 704811433984, 'volumeAllCurrencies': None, 'strikePrice': None, 'averageVolume': 21018942, 'dayLow': 702.1001, 'ask': 712.34, 'askSize': 800, 'volume': 13833763, 'fiftyTwoWeekHigh': 900.4, 'fromCurrency': None, 'fiveYearAvgDividendYield': None, 'fiftyTwoWeekLow': 329.88, 'bid': 712.15, 'tradeable': False, 'dividendYield': None, 'bidSize': 800, 'dayHigh': 714.99, 'regularMarketPrice': 711.92, 'logo_url': 'https://logo.clearbit.com/tesla.com'}\n",
            "<class 'dict'>\n",
            "<class 'pandas.core.frame.DataFrame'>\n",
            "                  Open        High  ...  Dividends  Stock Splits\n",
            "Date                                ...                         \n",
            "2016-08-29   44.029999   44.080002  ...          0           0.0\n",
            "2016-08-30   43.222000   43.222000  ...          0           0.0\n",
            "2016-08-31   42.085999   42.520000  ...          0           0.0\n",
            "2016-09-01   41.801998   42.220001  ...          0           0.0\n",
            "2016-09-02   40.466000   40.639999  ...          0           0.0\n",
            "...                ...         ...  ...        ...           ...\n",
            "2021-08-23  685.440002  712.130005  ...          0           0.0\n",
            "2021-08-24  710.679993  715.219971  ...          0           0.0\n",
            "2021-08-25  707.030029  716.969971  ...          0           0.0\n",
            "2021-08-26  708.309998  715.400024  ...          0           0.0\n",
            "2021-08-27  705.000000  714.989990  ...          0           0.0\n",
            "\n",
            "[1259 rows x 7 columns]\n"
          ],
          "name": "stdout"
        }
      ]
    },
    {
      "cell_type": "code",
      "metadata": {
        "colab": {
          "base_uri": "https://localhost:8080/",
          "height": 235
        },
        "id": "y-QV6pD4Nr4w",
        "outputId": "1d5076d5-53a6-4006-fa73-411bcf961dac"
      },
      "source": [
        "dadostesla.head()"
      ],
      "execution_count": null,
      "outputs": [
        {
          "output_type": "execute_result",
          "data": {
            "text/html": [
              "<div>\n",
              "<style scoped>\n",
              "    .dataframe tbody tr th:only-of-type {\n",
              "        vertical-align: middle;\n",
              "    }\n",
              "\n",
              "    .dataframe tbody tr th {\n",
              "        vertical-align: top;\n",
              "    }\n",
              "\n",
              "    .dataframe thead th {\n",
              "        text-align: right;\n",
              "    }\n",
              "</style>\n",
              "<table border=\"1\" class=\"dataframe\">\n",
              "  <thead>\n",
              "    <tr style=\"text-align: right;\">\n",
              "      <th></th>\n",
              "      <th>Open</th>\n",
              "      <th>High</th>\n",
              "      <th>Low</th>\n",
              "      <th>Close</th>\n",
              "      <th>Volume</th>\n",
              "      <th>Dividends</th>\n",
              "      <th>Stock Splits</th>\n",
              "    </tr>\n",
              "    <tr>\n",
              "      <th>Date</th>\n",
              "      <th></th>\n",
              "      <th></th>\n",
              "      <th></th>\n",
              "      <th></th>\n",
              "      <th></th>\n",
              "      <th></th>\n",
              "      <th></th>\n",
              "    </tr>\n",
              "  </thead>\n",
              "  <tbody>\n",
              "    <tr>\n",
              "      <th>2016-08-29</th>\n",
              "      <td>44.029999</td>\n",
              "      <td>44.080002</td>\n",
              "      <td>43.000000</td>\n",
              "      <td>43.040001</td>\n",
              "      <td>16331500</td>\n",
              "      <td>0</td>\n",
              "      <td>0.0</td>\n",
              "    </tr>\n",
              "    <tr>\n",
              "      <th>2016-08-30</th>\n",
              "      <td>43.222000</td>\n",
              "      <td>43.222000</td>\n",
              "      <td>42.104000</td>\n",
              "      <td>42.268002</td>\n",
              "      <td>15844500</td>\n",
              "      <td>0</td>\n",
              "      <td>0.0</td>\n",
              "    </tr>\n",
              "    <tr>\n",
              "      <th>2016-08-31</th>\n",
              "      <td>42.085999</td>\n",
              "      <td>42.520000</td>\n",
              "      <td>41.730000</td>\n",
              "      <td>42.402000</td>\n",
              "      <td>16382500</td>\n",
              "      <td>0</td>\n",
              "      <td>0.0</td>\n",
              "    </tr>\n",
              "    <tr>\n",
              "      <th>2016-09-01</th>\n",
              "      <td>41.801998</td>\n",
              "      <td>42.220001</td>\n",
              "      <td>40.099998</td>\n",
              "      <td>40.153999</td>\n",
              "      <td>39715500</td>\n",
              "      <td>0</td>\n",
              "      <td>0.0</td>\n",
              "    </tr>\n",
              "    <tr>\n",
              "      <th>2016-09-02</th>\n",
              "      <td>40.466000</td>\n",
              "      <td>40.639999</td>\n",
              "      <td>39.240002</td>\n",
              "      <td>39.556000</td>\n",
              "      <td>29887000</td>\n",
              "      <td>0</td>\n",
              "      <td>0.0</td>\n",
              "    </tr>\n",
              "  </tbody>\n",
              "</table>\n",
              "</div>"
            ],
            "text/plain": [
              "                 Open       High        Low  ...    Volume  Dividends  Stock Splits\n",
              "Date                                         ...                                   \n",
              "2016-08-29  44.029999  44.080002  43.000000  ...  16331500          0           0.0\n",
              "2016-08-30  43.222000  43.222000  42.104000  ...  15844500          0           0.0\n",
              "2016-08-31  42.085999  42.520000  41.730000  ...  16382500          0           0.0\n",
              "2016-09-01  41.801998  42.220001  40.099998  ...  39715500          0           0.0\n",
              "2016-09-02  40.466000  40.639999  39.240002  ...  29887000          0           0.0\n",
              "\n",
              "[5 rows x 7 columns]"
            ]
          },
          "metadata": {},
          "execution_count": 288
        }
      ]
    },
    {
      "cell_type": "code",
      "metadata": {
        "colab": {
          "base_uri": "https://localhost:8080/",
          "height": 235
        },
        "id": "JljwZQ2ROGHX",
        "outputId": "3ceeec80-dc50-460f-e511-365c06e77937"
      },
      "source": [
        "dadostesla.tail()"
      ],
      "execution_count": null,
      "outputs": [
        {
          "output_type": "execute_result",
          "data": {
            "text/html": [
              "<div>\n",
              "<style scoped>\n",
              "    .dataframe tbody tr th:only-of-type {\n",
              "        vertical-align: middle;\n",
              "    }\n",
              "\n",
              "    .dataframe tbody tr th {\n",
              "        vertical-align: top;\n",
              "    }\n",
              "\n",
              "    .dataframe thead th {\n",
              "        text-align: right;\n",
              "    }\n",
              "</style>\n",
              "<table border=\"1\" class=\"dataframe\">\n",
              "  <thead>\n",
              "    <tr style=\"text-align: right;\">\n",
              "      <th></th>\n",
              "      <th>Open</th>\n",
              "      <th>High</th>\n",
              "      <th>Low</th>\n",
              "      <th>Close</th>\n",
              "      <th>Volume</th>\n",
              "      <th>Dividends</th>\n",
              "      <th>Stock Splits</th>\n",
              "    </tr>\n",
              "    <tr>\n",
              "      <th>Date</th>\n",
              "      <th></th>\n",
              "      <th></th>\n",
              "      <th></th>\n",
              "      <th></th>\n",
              "      <th></th>\n",
              "      <th></th>\n",
              "      <th></th>\n",
              "    </tr>\n",
              "  </thead>\n",
              "  <tbody>\n",
              "    <tr>\n",
              "      <th>2021-08-23</th>\n",
              "      <td>685.440002</td>\n",
              "      <td>712.130005</td>\n",
              "      <td>680.750000</td>\n",
              "      <td>706.299988</td>\n",
              "      <td>20264900</td>\n",
              "      <td>0</td>\n",
              "      <td>0.0</td>\n",
              "    </tr>\n",
              "    <tr>\n",
              "      <th>2021-08-24</th>\n",
              "      <td>710.679993</td>\n",
              "      <td>715.219971</td>\n",
              "      <td>702.640015</td>\n",
              "      <td>708.489990</td>\n",
              "      <td>13083100</td>\n",
              "      <td>0</td>\n",
              "      <td>0.0</td>\n",
              "    </tr>\n",
              "    <tr>\n",
              "      <th>2021-08-25</th>\n",
              "      <td>707.030029</td>\n",
              "      <td>716.969971</td>\n",
              "      <td>704.000000</td>\n",
              "      <td>711.200012</td>\n",
              "      <td>12645600</td>\n",
              "      <td>0</td>\n",
              "      <td>0.0</td>\n",
              "    </tr>\n",
              "    <tr>\n",
              "      <th>2021-08-26</th>\n",
              "      <td>708.309998</td>\n",
              "      <td>715.400024</td>\n",
              "      <td>697.619995</td>\n",
              "      <td>701.159973</td>\n",
              "      <td>13214300</td>\n",
              "      <td>0</td>\n",
              "      <td>0.0</td>\n",
              "    </tr>\n",
              "    <tr>\n",
              "      <th>2021-08-27</th>\n",
              "      <td>705.000000</td>\n",
              "      <td>714.989990</td>\n",
              "      <td>702.100098</td>\n",
              "      <td>711.919983</td>\n",
              "      <td>13833763</td>\n",
              "      <td>0</td>\n",
              "      <td>0.0</td>\n",
              "    </tr>\n",
              "  </tbody>\n",
              "</table>\n",
              "</div>"
            ],
            "text/plain": [
              "                  Open        High  ...  Dividends  Stock Splits\n",
              "Date                                ...                         \n",
              "2021-08-23  685.440002  712.130005  ...          0           0.0\n",
              "2021-08-24  710.679993  715.219971  ...          0           0.0\n",
              "2021-08-25  707.030029  716.969971  ...          0           0.0\n",
              "2021-08-26  708.309998  715.400024  ...          0           0.0\n",
              "2021-08-27  705.000000  714.989990  ...          0           0.0\n",
              "\n",
              "[5 rows x 7 columns]"
            ]
          },
          "metadata": {},
          "execution_count": 291
        }
      ]
    },
    {
      "cell_type": "code",
      "metadata": {
        "id": "ARdGjRcAYz13",
        "colab": {
          "base_uri": "https://localhost:8080/",
          "height": 531
        },
        "outputId": "31af66a1-b5f8-44cc-985f-29b686305bbf"
      },
      "source": [
        "dadostesla['Close'].plot(figsize=(16, 9))\n",
        "print(type(dadostesla['Close']))"
      ],
      "execution_count": null,
      "outputs": [
        {
          "output_type": "stream",
          "text": [
            "<class 'pandas.core.series.Series'>\n"
          ],
          "name": "stdout"
        },
        {
          "output_type": "display_data",
          "data": {
            "image/png": "[encoded data removed]",
            "text/plain": [
              "<Figure size 1152x648 with 1 Axes>"
            ]
          },
          "metadata": {
            "needs_background": "light"
          }
        }
      ]
    },
    {
      "cell_type": "code",
      "metadata": {
        "id": "2yoI_BeqLaxQ",
        "colab": {
          "base_uri": "https://localhost:8080/",
          "height": 531
        },
        "outputId": "43e61ed1-9bb4-4fd9-c00b-88fe714ff295"
      },
      "source": [
        "dadostesla['Close'].plot(figsize=(16, 9))\n"
      ],
      "execution_count": null,
      "outputs": [
        {
          "output_type": "execute_result",
          "data": {
            "text/plain": [
              "<matplotlib.axes._subplots.AxesSubplot at 0x7f3c92e36110>"
            ]
          },
          "metadata": {},
          "execution_count": 296
        },
        {
          "output_type": "display_data",
          "data": {
            "image/png": "[encoded data removed]",
            "text/plain": [
              "<Figure size 1152x648 with 1 Axes>"
            ]
          },
          "metadata": {
            "needs_background": "light"
          }
        }
      ]
    }
  ]
}